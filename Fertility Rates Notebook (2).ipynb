{
 "cells": [
  {
   "cell_type": "markdown",
   "id": "eea67585-d242-40e4-9ba7-60ec70f6269e",
   "metadata": {},
   "source": [
    "# **Introduction**\n",
    "The dataset under consideration provides a comprehensive overview of fertility rates across various countries spanning from 1960 to 2005. The fertility rate, typically measured as the number of births per woman, is a critical demographic indicator that reflects a country's reproductive behavior and has far-reaching implications for its economic, social, and health policies.\n",
    "\n",
    "1. Which country has the highest fertility rate for each year? Explain the findings.\n",
    "2. Which country has the lowest fertility rate for each year? Explain the findings.\n",
    "3. What countries had the highest and lowest difference in their birth rates from 1960 and 2013?\n",
    "4. Show what the global trend was for fertility rates from 1960 to 2013?\n",
    "5. Compare the birth rates changes in a developed region, like the United Kingdom with a developing country, such as Guinea.\n",
    "6. Compare the birth rate changes in two regions, such as the Middle East and Central Europe.\n",
    "7. Compare the two most populated countries, India and China.  \n",
    "\n",
    "These questions can provide insights into the birth rate distribution over time for a specific country or region and a global pattern can be explored using data analysis and visualization techniques. Python packages such as pandas, numpy, matplotlib and seaborn can be used for data analysis and visualization, so they have been imported first. The following libraries have been imported below. "
   ]
  },
  {
   "cell_type": "code",
   "execution_count": 3,
   "id": "ebc91313-89df-4635-a58c-112008e9aa16",
   "metadata": {},
   "outputs": [],
   "source": [
    "import pandas as pd\n",
    "import numpy as np\n",
    "import matplotlib.pyplot as plt\n",
    "import seaborn as sns\n",
    "import plotly.graph_objects as go"
   ]
  },
  {
   "cell_type": "markdown",
   "id": "4c34d68b-1d70-49c8-8005-601a192ff873",
   "metadata": {},
   "source": [
    "##### Data Source Information\n",
    "The dataset has been sourced from - 'https://www.kaggle.com/datasets/rishidamarla/fertility-rates-of-all-countries-1960present/data'.\n",
    "\n",
    "\n",
    "# Structure of the Dataset\n",
    "\n",
    "The dataset is structured to provide yearly fertility rates for 215 countries, allowing for both cross-sectional and longitudinal analysis. Each entry in the dataset typically includes:\n",
    "\n",
    "    Country Name: The name of the country for which the data is recorded.\n",
    "    Year: The specific year from 1960 to 2013.\n",
    "    Fertility Rate: The average number of children a woman is expected to have during her lifetime.   \n",
    "\n",
    "We can inspect the first 10 rows of the dataset below. "
   ]
  },
  {
   "cell_type": "code",
   "execution_count": 5,
   "id": "cee21ecd-b3be-4b2c-9be1-c1258b29c4f5",
   "metadata": {},
   "outputs": [
    {
     "data": {
      "text/html": [
       "<style type=\"text/css\">\n",
       "#T_73a2a_row0_col0, #T_73a2a_row0_col1, #T_73a2a_row0_col2, #T_73a2a_row0_col3, #T_73a2a_row0_col4, #T_73a2a_row0_col5, #T_73a2a_row0_col6, #T_73a2a_row0_col7, #T_73a2a_row0_col8, #T_73a2a_row0_col9, #T_73a2a_row0_col10, #T_73a2a_row0_col11, #T_73a2a_row0_col12, #T_73a2a_row0_col13, #T_73a2a_row0_col14, #T_73a2a_row0_col15, #T_73a2a_row0_col16, #T_73a2a_row0_col17, #T_73a2a_row0_col18, #T_73a2a_row0_col19, #T_73a2a_row0_col20, #T_73a2a_row0_col21, #T_73a2a_row0_col22, #T_73a2a_row0_col23, #T_73a2a_row0_col24, #T_73a2a_row0_col25, #T_73a2a_row0_col26, #T_73a2a_row0_col27, #T_73a2a_row0_col28, #T_73a2a_row0_col29, #T_73a2a_row0_col30, #T_73a2a_row0_col31, #T_73a2a_row0_col32, #T_73a2a_row0_col33, #T_73a2a_row0_col34, #T_73a2a_row0_col35, #T_73a2a_row0_col36, #T_73a2a_row0_col37, #T_73a2a_row0_col38, #T_73a2a_row0_col39, #T_73a2a_row0_col40, #T_73a2a_row0_col41, #T_73a2a_row0_col42, #T_73a2a_row0_col43, #T_73a2a_row0_col44, #T_73a2a_row0_col45, #T_73a2a_row0_col46, #T_73a2a_row0_col47, #T_73a2a_row0_col48, #T_73a2a_row0_col49, #T_73a2a_row0_col50, #T_73a2a_row0_col51, #T_73a2a_row0_col52, #T_73a2a_row0_col53, #T_73a2a_row0_col54, #T_73a2a_row0_col55, #T_73a2a_row0_col56, #T_73a2a_row0_col57, #T_73a2a_row1_col0, #T_73a2a_row1_col1, #T_73a2a_row1_col2, #T_73a2a_row1_col3, #T_73a2a_row1_col4, #T_73a2a_row1_col5, #T_73a2a_row1_col6, #T_73a2a_row1_col7, #T_73a2a_row1_col8, #T_73a2a_row1_col9, #T_73a2a_row1_col10, #T_73a2a_row1_col11, #T_73a2a_row1_col12, #T_73a2a_row1_col13, #T_73a2a_row1_col14, #T_73a2a_row1_col15, #T_73a2a_row1_col16, #T_73a2a_row1_col17, #T_73a2a_row1_col18, #T_73a2a_row1_col19, #T_73a2a_row1_col20, #T_73a2a_row1_col21, #T_73a2a_row1_col22, #T_73a2a_row1_col23, #T_73a2a_row1_col24, #T_73a2a_row1_col25, #T_73a2a_row1_col26, #T_73a2a_row1_col27, #T_73a2a_row1_col28, #T_73a2a_row1_col29, #T_73a2a_row1_col30, #T_73a2a_row1_col31, #T_73a2a_row1_col32, #T_73a2a_row1_col33, #T_73a2a_row1_col34, #T_73a2a_row1_col35, #T_73a2a_row1_col36, #T_73a2a_row1_col37, #T_73a2a_row1_col38, #T_73a2a_row1_col39, #T_73a2a_row1_col40, #T_73a2a_row1_col41, #T_73a2a_row1_col42, #T_73a2a_row1_col43, #T_73a2a_row1_col44, #T_73a2a_row1_col45, #T_73a2a_row1_col46, #T_73a2a_row1_col47, #T_73a2a_row1_col48, #T_73a2a_row1_col49, #T_73a2a_row1_col50, #T_73a2a_row1_col51, #T_73a2a_row1_col52, #T_73a2a_row1_col53, #T_73a2a_row1_col54, #T_73a2a_row1_col55, #T_73a2a_row1_col56, #T_73a2a_row1_col57, #T_73a2a_row2_col0, #T_73a2a_row2_col1, #T_73a2a_row2_col2, #T_73a2a_row2_col3, #T_73a2a_row2_col4, #T_73a2a_row2_col5, #T_73a2a_row2_col6, #T_73a2a_row2_col7, #T_73a2a_row2_col8, #T_73a2a_row2_col9, #T_73a2a_row2_col10, #T_73a2a_row2_col11, #T_73a2a_row2_col12, #T_73a2a_row2_col13, #T_73a2a_row2_col14, #T_73a2a_row2_col15, #T_73a2a_row2_col16, #T_73a2a_row2_col17, #T_73a2a_row2_col18, #T_73a2a_row2_col19, #T_73a2a_row2_col20, #T_73a2a_row2_col21, #T_73a2a_row2_col22, #T_73a2a_row2_col23, #T_73a2a_row2_col24, #T_73a2a_row2_col25, #T_73a2a_row2_col26, #T_73a2a_row2_col27, #T_73a2a_row2_col28, #T_73a2a_row2_col29, #T_73a2a_row2_col30, #T_73a2a_row2_col31, #T_73a2a_row2_col32, #T_73a2a_row2_col33, #T_73a2a_row2_col34, #T_73a2a_row2_col35, #T_73a2a_row2_col36, #T_73a2a_row2_col37, #T_73a2a_row2_col38, #T_73a2a_row2_col39, #T_73a2a_row2_col40, #T_73a2a_row2_col41, #T_73a2a_row2_col42, #T_73a2a_row2_col43, #T_73a2a_row2_col44, #T_73a2a_row2_col45, #T_73a2a_row2_col46, #T_73a2a_row2_col47, #T_73a2a_row2_col48, #T_73a2a_row2_col49, #T_73a2a_row2_col50, #T_73a2a_row2_col51, #T_73a2a_row2_col52, #T_73a2a_row2_col53, #T_73a2a_row2_col54, #T_73a2a_row2_col55, #T_73a2a_row2_col56, #T_73a2a_row2_col57, #T_73a2a_row3_col0, #T_73a2a_row3_col1, #T_73a2a_row3_col2, #T_73a2a_row3_col3, #T_73a2a_row3_col4, #T_73a2a_row3_col5, #T_73a2a_row3_col6, #T_73a2a_row3_col7, #T_73a2a_row3_col8, #T_73a2a_row3_col9, #T_73a2a_row3_col10, #T_73a2a_row3_col11, #T_73a2a_row3_col12, #T_73a2a_row3_col13, #T_73a2a_row3_col14, #T_73a2a_row3_col15, #T_73a2a_row3_col16, #T_73a2a_row3_col17, #T_73a2a_row3_col18, #T_73a2a_row3_col19, #T_73a2a_row3_col20, #T_73a2a_row3_col21, #T_73a2a_row3_col22, #T_73a2a_row3_col23, #T_73a2a_row3_col24, #T_73a2a_row3_col25, #T_73a2a_row3_col26, #T_73a2a_row3_col27, #T_73a2a_row3_col28, #T_73a2a_row3_col29, #T_73a2a_row3_col30, #T_73a2a_row3_col31, #T_73a2a_row3_col32, #T_73a2a_row3_col33, #T_73a2a_row3_col34, #T_73a2a_row3_col35, #T_73a2a_row3_col36, #T_73a2a_row3_col37, #T_73a2a_row3_col38, #T_73a2a_row3_col39, #T_73a2a_row3_col40, #T_73a2a_row3_col41, #T_73a2a_row3_col42, #T_73a2a_row3_col43, #T_73a2a_row3_col44, #T_73a2a_row3_col45, #T_73a2a_row3_col46, #T_73a2a_row3_col47, #T_73a2a_row3_col48, #T_73a2a_row3_col49, #T_73a2a_row3_col50, #T_73a2a_row3_col51, #T_73a2a_row3_col52, #T_73a2a_row3_col53, #T_73a2a_row3_col54, #T_73a2a_row3_col55, #T_73a2a_row3_col56, #T_73a2a_row3_col57, #T_73a2a_row4_col0, #T_73a2a_row4_col1, #T_73a2a_row4_col2, #T_73a2a_row4_col3, #T_73a2a_row4_col4, #T_73a2a_row4_col5, #T_73a2a_row4_col6, #T_73a2a_row4_col7, #T_73a2a_row4_col8, #T_73a2a_row4_col9, #T_73a2a_row4_col10, #T_73a2a_row4_col11, #T_73a2a_row4_col12, #T_73a2a_row4_col13, #T_73a2a_row4_col14, #T_73a2a_row4_col15, #T_73a2a_row4_col16, #T_73a2a_row4_col17, #T_73a2a_row4_col18, #T_73a2a_row4_col19, #T_73a2a_row4_col20, #T_73a2a_row4_col21, #T_73a2a_row4_col22, #T_73a2a_row4_col23, #T_73a2a_row4_col24, #T_73a2a_row4_col25, #T_73a2a_row4_col26, #T_73a2a_row4_col27, #T_73a2a_row4_col28, #T_73a2a_row4_col29, #T_73a2a_row4_col30, #T_73a2a_row4_col31, #T_73a2a_row4_col32, #T_73a2a_row4_col33, #T_73a2a_row4_col34, #T_73a2a_row4_col35, #T_73a2a_row4_col36, #T_73a2a_row4_col37, #T_73a2a_row4_col38, #T_73a2a_row4_col39, #T_73a2a_row4_col40, #T_73a2a_row4_col41, #T_73a2a_row4_col42, #T_73a2a_row4_col43, #T_73a2a_row4_col44, #T_73a2a_row4_col45, #T_73a2a_row4_col46, #T_73a2a_row4_col47, #T_73a2a_row4_col48, #T_73a2a_row4_col49, #T_73a2a_row4_col50, #T_73a2a_row4_col51, #T_73a2a_row4_col52, #T_73a2a_row4_col53, #T_73a2a_row4_col54, #T_73a2a_row4_col55, #T_73a2a_row4_col56, #T_73a2a_row4_col57 {\n",
       "  background-color: #003366;\n",
       "  color: white;\n",
       "  border: 1.5px  solid black;\n",
       "}\n",
       "</style>\n",
       "<table id=\"T_73a2a\">\n",
       "  <thead>\n",
       "    <tr>\n",
       "      <th class=\"blank level0\" >&nbsp;</th>\n",
       "      <th id=\"T_73a2a_level0_col0\" class=\"col_heading level0 col0\" >Country Name</th>\n",
       "      <th id=\"T_73a2a_level0_col1\" class=\"col_heading level0 col1\" >Country Code</th>\n",
       "      <th id=\"T_73a2a_level0_col2\" class=\"col_heading level0 col2\" >Indicator Name</th>\n",
       "      <th id=\"T_73a2a_level0_col3\" class=\"col_heading level0 col3\" >Indicator Code</th>\n",
       "      <th id=\"T_73a2a_level0_col4\" class=\"col_heading level0 col4\" >1960</th>\n",
       "      <th id=\"T_73a2a_level0_col5\" class=\"col_heading level0 col5\" >1961</th>\n",
       "      <th id=\"T_73a2a_level0_col6\" class=\"col_heading level0 col6\" >1962</th>\n",
       "      <th id=\"T_73a2a_level0_col7\" class=\"col_heading level0 col7\" >1963</th>\n",
       "      <th id=\"T_73a2a_level0_col8\" class=\"col_heading level0 col8\" >1964</th>\n",
       "      <th id=\"T_73a2a_level0_col9\" class=\"col_heading level0 col9\" >1965</th>\n",
       "      <th id=\"T_73a2a_level0_col10\" class=\"col_heading level0 col10\" >1966</th>\n",
       "      <th id=\"T_73a2a_level0_col11\" class=\"col_heading level0 col11\" >1967</th>\n",
       "      <th id=\"T_73a2a_level0_col12\" class=\"col_heading level0 col12\" >1968</th>\n",
       "      <th id=\"T_73a2a_level0_col13\" class=\"col_heading level0 col13\" >1969</th>\n",
       "      <th id=\"T_73a2a_level0_col14\" class=\"col_heading level0 col14\" >1970</th>\n",
       "      <th id=\"T_73a2a_level0_col15\" class=\"col_heading level0 col15\" >1971</th>\n",
       "      <th id=\"T_73a2a_level0_col16\" class=\"col_heading level0 col16\" >1972</th>\n",
       "      <th id=\"T_73a2a_level0_col17\" class=\"col_heading level0 col17\" >1973</th>\n",
       "      <th id=\"T_73a2a_level0_col18\" class=\"col_heading level0 col18\" >1974</th>\n",
       "      <th id=\"T_73a2a_level0_col19\" class=\"col_heading level0 col19\" >1975</th>\n",
       "      <th id=\"T_73a2a_level0_col20\" class=\"col_heading level0 col20\" >1976</th>\n",
       "      <th id=\"T_73a2a_level0_col21\" class=\"col_heading level0 col21\" >1977</th>\n",
       "      <th id=\"T_73a2a_level0_col22\" class=\"col_heading level0 col22\" >1978</th>\n",
       "      <th id=\"T_73a2a_level0_col23\" class=\"col_heading level0 col23\" >1979</th>\n",
       "      <th id=\"T_73a2a_level0_col24\" class=\"col_heading level0 col24\" >1980</th>\n",
       "      <th id=\"T_73a2a_level0_col25\" class=\"col_heading level0 col25\" >1981</th>\n",
       "      <th id=\"T_73a2a_level0_col26\" class=\"col_heading level0 col26\" >1982</th>\n",
       "      <th id=\"T_73a2a_level0_col27\" class=\"col_heading level0 col27\" >1983</th>\n",
       "      <th id=\"T_73a2a_level0_col28\" class=\"col_heading level0 col28\" >1984</th>\n",
       "      <th id=\"T_73a2a_level0_col29\" class=\"col_heading level0 col29\" >1985</th>\n",
       "      <th id=\"T_73a2a_level0_col30\" class=\"col_heading level0 col30\" >1986</th>\n",
       "      <th id=\"T_73a2a_level0_col31\" class=\"col_heading level0 col31\" >1987</th>\n",
       "      <th id=\"T_73a2a_level0_col32\" class=\"col_heading level0 col32\" >1988</th>\n",
       "      <th id=\"T_73a2a_level0_col33\" class=\"col_heading level0 col33\" >1989</th>\n",
       "      <th id=\"T_73a2a_level0_col34\" class=\"col_heading level0 col34\" >1990</th>\n",
       "      <th id=\"T_73a2a_level0_col35\" class=\"col_heading level0 col35\" >1991</th>\n",
       "      <th id=\"T_73a2a_level0_col36\" class=\"col_heading level0 col36\" >1992</th>\n",
       "      <th id=\"T_73a2a_level0_col37\" class=\"col_heading level0 col37\" >1993</th>\n",
       "      <th id=\"T_73a2a_level0_col38\" class=\"col_heading level0 col38\" >1994</th>\n",
       "      <th id=\"T_73a2a_level0_col39\" class=\"col_heading level0 col39\" >1995</th>\n",
       "      <th id=\"T_73a2a_level0_col40\" class=\"col_heading level0 col40\" >1996</th>\n",
       "      <th id=\"T_73a2a_level0_col41\" class=\"col_heading level0 col41\" >1997</th>\n",
       "      <th id=\"T_73a2a_level0_col42\" class=\"col_heading level0 col42\" >1998</th>\n",
       "      <th id=\"T_73a2a_level0_col43\" class=\"col_heading level0 col43\" >1999</th>\n",
       "      <th id=\"T_73a2a_level0_col44\" class=\"col_heading level0 col44\" >2000</th>\n",
       "      <th id=\"T_73a2a_level0_col45\" class=\"col_heading level0 col45\" >2001</th>\n",
       "      <th id=\"T_73a2a_level0_col46\" class=\"col_heading level0 col46\" >2002</th>\n",
       "      <th id=\"T_73a2a_level0_col47\" class=\"col_heading level0 col47\" >2003</th>\n",
       "      <th id=\"T_73a2a_level0_col48\" class=\"col_heading level0 col48\" >2004</th>\n",
       "      <th id=\"T_73a2a_level0_col49\" class=\"col_heading level0 col49\" >2005</th>\n",
       "      <th id=\"T_73a2a_level0_col50\" class=\"col_heading level0 col50\" >2006</th>\n",
       "      <th id=\"T_73a2a_level0_col51\" class=\"col_heading level0 col51\" >2007</th>\n",
       "      <th id=\"T_73a2a_level0_col52\" class=\"col_heading level0 col52\" >2008</th>\n",
       "      <th id=\"T_73a2a_level0_col53\" class=\"col_heading level0 col53\" >2009</th>\n",
       "      <th id=\"T_73a2a_level0_col54\" class=\"col_heading level0 col54\" >2010</th>\n",
       "      <th id=\"T_73a2a_level0_col55\" class=\"col_heading level0 col55\" >2011</th>\n",
       "      <th id=\"T_73a2a_level0_col56\" class=\"col_heading level0 col56\" >2012</th>\n",
       "      <th id=\"T_73a2a_level0_col57\" class=\"col_heading level0 col57\" >2013</th>\n",
       "    </tr>\n",
       "  </thead>\n",
       "  <tbody>\n",
       "    <tr>\n",
       "      <th id=\"T_73a2a_level0_row0\" class=\"row_heading level0 row0\" >0</th>\n",
       "      <td id=\"T_73a2a_row0_col0\" class=\"data row0 col0\" >Aruba</td>\n",
       "      <td id=\"T_73a2a_row0_col1\" class=\"data row0 col1\" >ABW</td>\n",
       "      <td id=\"T_73a2a_row0_col2\" class=\"data row0 col2\" >Fertility rate, total (births per woman)</td>\n",
       "      <td id=\"T_73a2a_row0_col3\" class=\"data row0 col3\" >SP.DYN.TFRT.IN</td>\n",
       "      <td id=\"T_73a2a_row0_col4\" class=\"data row0 col4\" >4.820000</td>\n",
       "      <td id=\"T_73a2a_row0_col5\" class=\"data row0 col5\" >4.655000</td>\n",
       "      <td id=\"T_73a2a_row0_col6\" class=\"data row0 col6\" >4.471000</td>\n",
       "      <td id=\"T_73a2a_row0_col7\" class=\"data row0 col7\" >4.271000</td>\n",
       "      <td id=\"T_73a2a_row0_col8\" class=\"data row0 col8\" >4.059000</td>\n",
       "      <td id=\"T_73a2a_row0_col9\" class=\"data row0 col9\" >3.842000</td>\n",
       "      <td id=\"T_73a2a_row0_col10\" class=\"data row0 col10\" >3.625000</td>\n",
       "      <td id=\"T_73a2a_row0_col11\" class=\"data row0 col11\" >3.417000</td>\n",
       "      <td id=\"T_73a2a_row0_col12\" class=\"data row0 col12\" >3.226000</td>\n",
       "      <td id=\"T_73a2a_row0_col13\" class=\"data row0 col13\" >3.054000</td>\n",
       "      <td id=\"T_73a2a_row0_col14\" class=\"data row0 col14\" >2.908000</td>\n",
       "      <td id=\"T_73a2a_row0_col15\" class=\"data row0 col15\" >2.788000</td>\n",
       "      <td id=\"T_73a2a_row0_col16\" class=\"data row0 col16\" >2.691000</td>\n",
       "      <td id=\"T_73a2a_row0_col17\" class=\"data row0 col17\" >2.613000</td>\n",
       "      <td id=\"T_73a2a_row0_col18\" class=\"data row0 col18\" >2.552000</td>\n",
       "      <td id=\"T_73a2a_row0_col19\" class=\"data row0 col19\" >2.506000</td>\n",
       "      <td id=\"T_73a2a_row0_col20\" class=\"data row0 col20\" >2.472000</td>\n",
       "      <td id=\"T_73a2a_row0_col21\" class=\"data row0 col21\" >2.446000</td>\n",
       "      <td id=\"T_73a2a_row0_col22\" class=\"data row0 col22\" >2.425000</td>\n",
       "      <td id=\"T_73a2a_row0_col23\" class=\"data row0 col23\" >2.408000</td>\n",
       "      <td id=\"T_73a2a_row0_col24\" class=\"data row0 col24\" >2.392000</td>\n",
       "      <td id=\"T_73a2a_row0_col25\" class=\"data row0 col25\" >2.377000</td>\n",
       "      <td id=\"T_73a2a_row0_col26\" class=\"data row0 col26\" >2.364000</td>\n",
       "      <td id=\"T_73a2a_row0_col27\" class=\"data row0 col27\" >2.353000</td>\n",
       "      <td id=\"T_73a2a_row0_col28\" class=\"data row0 col28\" >2.342000</td>\n",
       "      <td id=\"T_73a2a_row0_col29\" class=\"data row0 col29\" >2.332000</td>\n",
       "      <td id=\"T_73a2a_row0_col30\" class=\"data row0 col30\" >2.320000</td>\n",
       "      <td id=\"T_73a2a_row0_col31\" class=\"data row0 col31\" >2.307000</td>\n",
       "      <td id=\"T_73a2a_row0_col32\" class=\"data row0 col32\" >2.291000</td>\n",
       "      <td id=\"T_73a2a_row0_col33\" class=\"data row0 col33\" >2.272000</td>\n",
       "      <td id=\"T_73a2a_row0_col34\" class=\"data row0 col34\" >2.249000</td>\n",
       "      <td id=\"T_73a2a_row0_col35\" class=\"data row0 col35\" >2.221000</td>\n",
       "      <td id=\"T_73a2a_row0_col36\" class=\"data row0 col36\" >2.187000</td>\n",
       "      <td id=\"T_73a2a_row0_col37\" class=\"data row0 col37\" >2.149000</td>\n",
       "      <td id=\"T_73a2a_row0_col38\" class=\"data row0 col38\" >2.108000</td>\n",
       "      <td id=\"T_73a2a_row0_col39\" class=\"data row0 col39\" >2.064000</td>\n",
       "      <td id=\"T_73a2a_row0_col40\" class=\"data row0 col40\" >2.021000</td>\n",
       "      <td id=\"T_73a2a_row0_col41\" class=\"data row0 col41\" >1.979000</td>\n",
       "      <td id=\"T_73a2a_row0_col42\" class=\"data row0 col42\" >1.940000</td>\n",
       "      <td id=\"T_73a2a_row0_col43\" class=\"data row0 col43\" >1.905000</td>\n",
       "      <td id=\"T_73a2a_row0_col44\" class=\"data row0 col44\" >1.874000</td>\n",
       "      <td id=\"T_73a2a_row0_col45\" class=\"data row0 col45\" >1.848000</td>\n",
       "      <td id=\"T_73a2a_row0_col46\" class=\"data row0 col46\" >1.825000</td>\n",
       "      <td id=\"T_73a2a_row0_col47\" class=\"data row0 col47\" >1.805000</td>\n",
       "      <td id=\"T_73a2a_row0_col48\" class=\"data row0 col48\" >1.786000</td>\n",
       "      <td id=\"T_73a2a_row0_col49\" class=\"data row0 col49\" >1.769000</td>\n",
       "      <td id=\"T_73a2a_row0_col50\" class=\"data row0 col50\" >1.754000</td>\n",
       "      <td id=\"T_73a2a_row0_col51\" class=\"data row0 col51\" >1.739000</td>\n",
       "      <td id=\"T_73a2a_row0_col52\" class=\"data row0 col52\" >1.726000</td>\n",
       "      <td id=\"T_73a2a_row0_col53\" class=\"data row0 col53\" >1.713000</td>\n",
       "      <td id=\"T_73a2a_row0_col54\" class=\"data row0 col54\" >1.701000</td>\n",
       "      <td id=\"T_73a2a_row0_col55\" class=\"data row0 col55\" >1.690000</td>\n",
       "      <td id=\"T_73a2a_row0_col56\" class=\"data row0 col56\" >1.681000</td>\n",
       "      <td id=\"T_73a2a_row0_col57\" class=\"data row0 col57\" >1.673000</td>\n",
       "    </tr>\n",
       "    <tr>\n",
       "      <th id=\"T_73a2a_level0_row1\" class=\"row_heading level0 row1\" >1</th>\n",
       "      <td id=\"T_73a2a_row1_col0\" class=\"data row1 col0\" >Andorra</td>\n",
       "      <td id=\"T_73a2a_row1_col1\" class=\"data row1 col1\" >AND</td>\n",
       "      <td id=\"T_73a2a_row1_col2\" class=\"data row1 col2\" >Fertility rate, total (births per woman)</td>\n",
       "      <td id=\"T_73a2a_row1_col3\" class=\"data row1 col3\" >SP.DYN.TFRT.IN</td>\n",
       "      <td id=\"T_73a2a_row1_col4\" class=\"data row1 col4\" >nan</td>\n",
       "      <td id=\"T_73a2a_row1_col5\" class=\"data row1 col5\" >nan</td>\n",
       "      <td id=\"T_73a2a_row1_col6\" class=\"data row1 col6\" >nan</td>\n",
       "      <td id=\"T_73a2a_row1_col7\" class=\"data row1 col7\" >nan</td>\n",
       "      <td id=\"T_73a2a_row1_col8\" class=\"data row1 col8\" >nan</td>\n",
       "      <td id=\"T_73a2a_row1_col9\" class=\"data row1 col9\" >nan</td>\n",
       "      <td id=\"T_73a2a_row1_col10\" class=\"data row1 col10\" >nan</td>\n",
       "      <td id=\"T_73a2a_row1_col11\" class=\"data row1 col11\" >nan</td>\n",
       "      <td id=\"T_73a2a_row1_col12\" class=\"data row1 col12\" >nan</td>\n",
       "      <td id=\"T_73a2a_row1_col13\" class=\"data row1 col13\" >nan</td>\n",
       "      <td id=\"T_73a2a_row1_col14\" class=\"data row1 col14\" >nan</td>\n",
       "      <td id=\"T_73a2a_row1_col15\" class=\"data row1 col15\" >nan</td>\n",
       "      <td id=\"T_73a2a_row1_col16\" class=\"data row1 col16\" >nan</td>\n",
       "      <td id=\"T_73a2a_row1_col17\" class=\"data row1 col17\" >nan</td>\n",
       "      <td id=\"T_73a2a_row1_col18\" class=\"data row1 col18\" >nan</td>\n",
       "      <td id=\"T_73a2a_row1_col19\" class=\"data row1 col19\" >nan</td>\n",
       "      <td id=\"T_73a2a_row1_col20\" class=\"data row1 col20\" >nan</td>\n",
       "      <td id=\"T_73a2a_row1_col21\" class=\"data row1 col21\" >nan</td>\n",
       "      <td id=\"T_73a2a_row1_col22\" class=\"data row1 col22\" >nan</td>\n",
       "      <td id=\"T_73a2a_row1_col23\" class=\"data row1 col23\" >nan</td>\n",
       "      <td id=\"T_73a2a_row1_col24\" class=\"data row1 col24\" >nan</td>\n",
       "      <td id=\"T_73a2a_row1_col25\" class=\"data row1 col25\" >nan</td>\n",
       "      <td id=\"T_73a2a_row1_col26\" class=\"data row1 col26\" >nan</td>\n",
       "      <td id=\"T_73a2a_row1_col27\" class=\"data row1 col27\" >nan</td>\n",
       "      <td id=\"T_73a2a_row1_col28\" class=\"data row1 col28\" >nan</td>\n",
       "      <td id=\"T_73a2a_row1_col29\" class=\"data row1 col29\" >nan</td>\n",
       "      <td id=\"T_73a2a_row1_col30\" class=\"data row1 col30\" >nan</td>\n",
       "      <td id=\"T_73a2a_row1_col31\" class=\"data row1 col31\" >nan</td>\n",
       "      <td id=\"T_73a2a_row1_col32\" class=\"data row1 col32\" >nan</td>\n",
       "      <td id=\"T_73a2a_row1_col33\" class=\"data row1 col33\" >nan</td>\n",
       "      <td id=\"T_73a2a_row1_col34\" class=\"data row1 col34\" >nan</td>\n",
       "      <td id=\"T_73a2a_row1_col35\" class=\"data row1 col35\" >nan</td>\n",
       "      <td id=\"T_73a2a_row1_col36\" class=\"data row1 col36\" >nan</td>\n",
       "      <td id=\"T_73a2a_row1_col37\" class=\"data row1 col37\" >nan</td>\n",
       "      <td id=\"T_73a2a_row1_col38\" class=\"data row1 col38\" >nan</td>\n",
       "      <td id=\"T_73a2a_row1_col39\" class=\"data row1 col39\" >nan</td>\n",
       "      <td id=\"T_73a2a_row1_col40\" class=\"data row1 col40\" >nan</td>\n",
       "      <td id=\"T_73a2a_row1_col41\" class=\"data row1 col41\" >nan</td>\n",
       "      <td id=\"T_73a2a_row1_col42\" class=\"data row1 col42\" >nan</td>\n",
       "      <td id=\"T_73a2a_row1_col43\" class=\"data row1 col43\" >nan</td>\n",
       "      <td id=\"T_73a2a_row1_col44\" class=\"data row1 col44\" >nan</td>\n",
       "      <td id=\"T_73a2a_row1_col45\" class=\"data row1 col45\" >nan</td>\n",
       "      <td id=\"T_73a2a_row1_col46\" class=\"data row1 col46\" >nan</td>\n",
       "      <td id=\"T_73a2a_row1_col47\" class=\"data row1 col47\" >nan</td>\n",
       "      <td id=\"T_73a2a_row1_col48\" class=\"data row1 col48\" >nan</td>\n",
       "      <td id=\"T_73a2a_row1_col49\" class=\"data row1 col49\" >nan</td>\n",
       "      <td id=\"T_73a2a_row1_col50\" class=\"data row1 col50\" >1.240000</td>\n",
       "      <td id=\"T_73a2a_row1_col51\" class=\"data row1 col51\" >1.180000</td>\n",
       "      <td id=\"T_73a2a_row1_col52\" class=\"data row1 col52\" >1.250000</td>\n",
       "      <td id=\"T_73a2a_row1_col53\" class=\"data row1 col53\" >1.190000</td>\n",
       "      <td id=\"T_73a2a_row1_col54\" class=\"data row1 col54\" >1.220000</td>\n",
       "      <td id=\"T_73a2a_row1_col55\" class=\"data row1 col55\" >nan</td>\n",
       "      <td id=\"T_73a2a_row1_col56\" class=\"data row1 col56\" >nan</td>\n",
       "      <td id=\"T_73a2a_row1_col57\" class=\"data row1 col57\" >nan</td>\n",
       "    </tr>\n",
       "    <tr>\n",
       "      <th id=\"T_73a2a_level0_row2\" class=\"row_heading level0 row2\" >2</th>\n",
       "      <td id=\"T_73a2a_row2_col0\" class=\"data row2 col0\" >Afghanistan</td>\n",
       "      <td id=\"T_73a2a_row2_col1\" class=\"data row2 col1\" >AFG</td>\n",
       "      <td id=\"T_73a2a_row2_col2\" class=\"data row2 col2\" >Fertility rate, total (births per woman)</td>\n",
       "      <td id=\"T_73a2a_row2_col3\" class=\"data row2 col3\" >SP.DYN.TFRT.IN</td>\n",
       "      <td id=\"T_73a2a_row2_col4\" class=\"data row2 col4\" >7.671000</td>\n",
       "      <td id=\"T_73a2a_row2_col5\" class=\"data row2 col5\" >7.671000</td>\n",
       "      <td id=\"T_73a2a_row2_col6\" class=\"data row2 col6\" >7.671000</td>\n",
       "      <td id=\"T_73a2a_row2_col7\" class=\"data row2 col7\" >7.671000</td>\n",
       "      <td id=\"T_73a2a_row2_col8\" class=\"data row2 col8\" >7.671000</td>\n",
       "      <td id=\"T_73a2a_row2_col9\" class=\"data row2 col9\" >7.671000</td>\n",
       "      <td id=\"T_73a2a_row2_col10\" class=\"data row2 col10\" >7.671000</td>\n",
       "      <td id=\"T_73a2a_row2_col11\" class=\"data row2 col11\" >7.671000</td>\n",
       "      <td id=\"T_73a2a_row2_col12\" class=\"data row2 col12\" >7.671000</td>\n",
       "      <td id=\"T_73a2a_row2_col13\" class=\"data row2 col13\" >7.671000</td>\n",
       "      <td id=\"T_73a2a_row2_col14\" class=\"data row2 col14\" >7.671000</td>\n",
       "      <td id=\"T_73a2a_row2_col15\" class=\"data row2 col15\" >7.671000</td>\n",
       "      <td id=\"T_73a2a_row2_col16\" class=\"data row2 col16\" >7.671000</td>\n",
       "      <td id=\"T_73a2a_row2_col17\" class=\"data row2 col17\" >7.671000</td>\n",
       "      <td id=\"T_73a2a_row2_col18\" class=\"data row2 col18\" >7.671000</td>\n",
       "      <td id=\"T_73a2a_row2_col19\" class=\"data row2 col19\" >7.671000</td>\n",
       "      <td id=\"T_73a2a_row2_col20\" class=\"data row2 col20\" >7.670000</td>\n",
       "      <td id=\"T_73a2a_row2_col21\" class=\"data row2 col21\" >7.670000</td>\n",
       "      <td id=\"T_73a2a_row2_col22\" class=\"data row2 col22\" >7.670000</td>\n",
       "      <td id=\"T_73a2a_row2_col23\" class=\"data row2 col23\" >7.669000</td>\n",
       "      <td id=\"T_73a2a_row2_col24\" class=\"data row2 col24\" >7.669000</td>\n",
       "      <td id=\"T_73a2a_row2_col25\" class=\"data row2 col25\" >7.670000</td>\n",
       "      <td id=\"T_73a2a_row2_col26\" class=\"data row2 col26\" >7.671000</td>\n",
       "      <td id=\"T_73a2a_row2_col27\" class=\"data row2 col27\" >7.673000</td>\n",
       "      <td id=\"T_73a2a_row2_col28\" class=\"data row2 col28\" >7.676000</td>\n",
       "      <td id=\"T_73a2a_row2_col29\" class=\"data row2 col29\" >7.679000</td>\n",
       "      <td id=\"T_73a2a_row2_col30\" class=\"data row2 col30\" >7.681000</td>\n",
       "      <td id=\"T_73a2a_row2_col31\" class=\"data row2 col31\" >7.682000</td>\n",
       "      <td id=\"T_73a2a_row2_col32\" class=\"data row2 col32\" >7.682000</td>\n",
       "      <td id=\"T_73a2a_row2_col33\" class=\"data row2 col33\" >7.682000</td>\n",
       "      <td id=\"T_73a2a_row2_col34\" class=\"data row2 col34\" >7.687000</td>\n",
       "      <td id=\"T_73a2a_row2_col35\" class=\"data row2 col35\" >7.700000</td>\n",
       "      <td id=\"T_73a2a_row2_col36\" class=\"data row2 col36\" >7.725000</td>\n",
       "      <td id=\"T_73a2a_row2_col37\" class=\"data row2 col37\" >7.758000</td>\n",
       "      <td id=\"T_73a2a_row2_col38\" class=\"data row2 col38\" >7.796000</td>\n",
       "      <td id=\"T_73a2a_row2_col39\" class=\"data row2 col39\" >7.832000</td>\n",
       "      <td id=\"T_73a2a_row2_col40\" class=\"data row2 col40\" >7.859000</td>\n",
       "      <td id=\"T_73a2a_row2_col41\" class=\"data row2 col41\" >7.869000</td>\n",
       "      <td id=\"T_73a2a_row2_col42\" class=\"data row2 col42\" >7.854000</td>\n",
       "      <td id=\"T_73a2a_row2_col43\" class=\"data row2 col43\" >7.809000</td>\n",
       "      <td id=\"T_73a2a_row2_col44\" class=\"data row2 col44\" >7.733000</td>\n",
       "      <td id=\"T_73a2a_row2_col45\" class=\"data row2 col45\" >7.623000</td>\n",
       "      <td id=\"T_73a2a_row2_col46\" class=\"data row2 col46\" >7.484000</td>\n",
       "      <td id=\"T_73a2a_row2_col47\" class=\"data row2 col47\" >7.321000</td>\n",
       "      <td id=\"T_73a2a_row2_col48\" class=\"data row2 col48\" >7.136000</td>\n",
       "      <td id=\"T_73a2a_row2_col49\" class=\"data row2 col49\" >6.930000</td>\n",
       "      <td id=\"T_73a2a_row2_col50\" class=\"data row2 col50\" >6.702000</td>\n",
       "      <td id=\"T_73a2a_row2_col51\" class=\"data row2 col51\" >6.456000</td>\n",
       "      <td id=\"T_73a2a_row2_col52\" class=\"data row2 col52\" >6.196000</td>\n",
       "      <td id=\"T_73a2a_row2_col53\" class=\"data row2 col53\" >5.928000</td>\n",
       "      <td id=\"T_73a2a_row2_col54\" class=\"data row2 col54\" >5.659000</td>\n",
       "      <td id=\"T_73a2a_row2_col55\" class=\"data row2 col55\" >5.395000</td>\n",
       "      <td id=\"T_73a2a_row2_col56\" class=\"data row2 col56\" >5.141000</td>\n",
       "      <td id=\"T_73a2a_row2_col57\" class=\"data row2 col57\" >4.900000</td>\n",
       "    </tr>\n",
       "    <tr>\n",
       "      <th id=\"T_73a2a_level0_row3\" class=\"row_heading level0 row3\" >3</th>\n",
       "      <td id=\"T_73a2a_row3_col0\" class=\"data row3 col0\" >Angola</td>\n",
       "      <td id=\"T_73a2a_row3_col1\" class=\"data row3 col1\" >AGO</td>\n",
       "      <td id=\"T_73a2a_row3_col2\" class=\"data row3 col2\" >Fertility rate, total (births per woman)</td>\n",
       "      <td id=\"T_73a2a_row3_col3\" class=\"data row3 col3\" >SP.DYN.TFRT.IN</td>\n",
       "      <td id=\"T_73a2a_row3_col4\" class=\"data row3 col4\" >7.316000</td>\n",
       "      <td id=\"T_73a2a_row3_col5\" class=\"data row3 col5\" >7.354000</td>\n",
       "      <td id=\"T_73a2a_row3_col6\" class=\"data row3 col6\" >7.385000</td>\n",
       "      <td id=\"T_73a2a_row3_col7\" class=\"data row3 col7\" >7.410000</td>\n",
       "      <td id=\"T_73a2a_row3_col8\" class=\"data row3 col8\" >7.425000</td>\n",
       "      <td id=\"T_73a2a_row3_col9\" class=\"data row3 col9\" >7.430000</td>\n",
       "      <td id=\"T_73a2a_row3_col10\" class=\"data row3 col10\" >7.422000</td>\n",
       "      <td id=\"T_73a2a_row3_col11\" class=\"data row3 col11\" >7.403000</td>\n",
       "      <td id=\"T_73a2a_row3_col12\" class=\"data row3 col12\" >7.375000</td>\n",
       "      <td id=\"T_73a2a_row3_col13\" class=\"data row3 col13\" >7.339000</td>\n",
       "      <td id=\"T_73a2a_row3_col14\" class=\"data row3 col14\" >7.301000</td>\n",
       "      <td id=\"T_73a2a_row3_col15\" class=\"data row3 col15\" >7.264000</td>\n",
       "      <td id=\"T_73a2a_row3_col16\" class=\"data row3 col16\" >7.232000</td>\n",
       "      <td id=\"T_73a2a_row3_col17\" class=\"data row3 col17\" >7.208000</td>\n",
       "      <td id=\"T_73a2a_row3_col18\" class=\"data row3 col18\" >7.192000</td>\n",
       "      <td id=\"T_73a2a_row3_col19\" class=\"data row3 col19\" >7.185000</td>\n",
       "      <td id=\"T_73a2a_row3_col20\" class=\"data row3 col20\" >7.186000</td>\n",
       "      <td id=\"T_73a2a_row3_col21\" class=\"data row3 col21\" >7.189000</td>\n",
       "      <td id=\"T_73a2a_row3_col22\" class=\"data row3 col22\" >7.194000</td>\n",
       "      <td id=\"T_73a2a_row3_col23\" class=\"data row3 col23\" >7.197000</td>\n",
       "      <td id=\"T_73a2a_row3_col24\" class=\"data row3 col24\" >7.200000</td>\n",
       "      <td id=\"T_73a2a_row3_col25\" class=\"data row3 col25\" >7.201000</td>\n",
       "      <td id=\"T_73a2a_row3_col26\" class=\"data row3 col26\" >7.203000</td>\n",
       "      <td id=\"T_73a2a_row3_col27\" class=\"data row3 col27\" >7.205000</td>\n",
       "      <td id=\"T_73a2a_row3_col28\" class=\"data row3 col28\" >7.207000</td>\n",
       "      <td id=\"T_73a2a_row3_col29\" class=\"data row3 col29\" >7.208000</td>\n",
       "      <td id=\"T_73a2a_row3_col30\" class=\"data row3 col30\" >7.206000</td>\n",
       "      <td id=\"T_73a2a_row3_col31\" class=\"data row3 col31\" >7.202000</td>\n",
       "      <td id=\"T_73a2a_row3_col32\" class=\"data row3 col32\" >7.194000</td>\n",
       "      <td id=\"T_73a2a_row3_col33\" class=\"data row3 col33\" >7.182000</td>\n",
       "      <td id=\"T_73a2a_row3_col34\" class=\"data row3 col34\" >7.165000</td>\n",
       "      <td id=\"T_73a2a_row3_col35\" class=\"data row3 col35\" >7.143000</td>\n",
       "      <td id=\"T_73a2a_row3_col36\" class=\"data row3 col36\" >7.116000</td>\n",
       "      <td id=\"T_73a2a_row3_col37\" class=\"data row3 col37\" >7.087000</td>\n",
       "      <td id=\"T_73a2a_row3_col38\" class=\"data row3 col38\" >7.054000</td>\n",
       "      <td id=\"T_73a2a_row3_col39\" class=\"data row3 col39\" >7.019000</td>\n",
       "      <td id=\"T_73a2a_row3_col40\" class=\"data row3 col40\" >6.984000</td>\n",
       "      <td id=\"T_73a2a_row3_col41\" class=\"data row3 col41\" >6.949000</td>\n",
       "      <td id=\"T_73a2a_row3_col42\" class=\"data row3 col42\" >6.913000</td>\n",
       "      <td id=\"T_73a2a_row3_col43\" class=\"data row3 col43\" >6.878000</td>\n",
       "      <td id=\"T_73a2a_row3_col44\" class=\"data row3 col44\" >6.844000</td>\n",
       "      <td id=\"T_73a2a_row3_col45\" class=\"data row3 col45\" >6.811000</td>\n",
       "      <td id=\"T_73a2a_row3_col46\" class=\"data row3 col46\" >6.778000</td>\n",
       "      <td id=\"T_73a2a_row3_col47\" class=\"data row3 col47\" >6.743000</td>\n",
       "      <td id=\"T_73a2a_row3_col48\" class=\"data row3 col48\" >6.704000</td>\n",
       "      <td id=\"T_73a2a_row3_col49\" class=\"data row3 col49\" >6.657000</td>\n",
       "      <td id=\"T_73a2a_row3_col50\" class=\"data row3 col50\" >6.598000</td>\n",
       "      <td id=\"T_73a2a_row3_col51\" class=\"data row3 col51\" >6.523000</td>\n",
       "      <td id=\"T_73a2a_row3_col52\" class=\"data row3 col52\" >6.434000</td>\n",
       "      <td id=\"T_73a2a_row3_col53\" class=\"data row3 col53\" >6.331000</td>\n",
       "      <td id=\"T_73a2a_row3_col54\" class=\"data row3 col54\" >6.218000</td>\n",
       "      <td id=\"T_73a2a_row3_col55\" class=\"data row3 col55\" >6.099000</td>\n",
       "      <td id=\"T_73a2a_row3_col56\" class=\"data row3 col56\" >5.979000</td>\n",
       "      <td id=\"T_73a2a_row3_col57\" class=\"data row3 col57\" >5.863000</td>\n",
       "    </tr>\n",
       "    <tr>\n",
       "      <th id=\"T_73a2a_level0_row4\" class=\"row_heading level0 row4\" >4</th>\n",
       "      <td id=\"T_73a2a_row4_col0\" class=\"data row4 col0\" >Albania</td>\n",
       "      <td id=\"T_73a2a_row4_col1\" class=\"data row4 col1\" >ALB</td>\n",
       "      <td id=\"T_73a2a_row4_col2\" class=\"data row4 col2\" >Fertility rate, total (births per woman)</td>\n",
       "      <td id=\"T_73a2a_row4_col3\" class=\"data row4 col3\" >SP.DYN.TFRT.IN</td>\n",
       "      <td id=\"T_73a2a_row4_col4\" class=\"data row4 col4\" >6.186000</td>\n",
       "      <td id=\"T_73a2a_row4_col5\" class=\"data row4 col5\" >6.076000</td>\n",
       "      <td id=\"T_73a2a_row4_col6\" class=\"data row4 col6\" >5.956000</td>\n",
       "      <td id=\"T_73a2a_row4_col7\" class=\"data row4 col7\" >5.833000</td>\n",
       "      <td id=\"T_73a2a_row4_col8\" class=\"data row4 col8\" >5.711000</td>\n",
       "      <td id=\"T_73a2a_row4_col9\" class=\"data row4 col9\" >5.594000</td>\n",
       "      <td id=\"T_73a2a_row4_col10\" class=\"data row4 col10\" >5.483000</td>\n",
       "      <td id=\"T_73a2a_row4_col11\" class=\"data row4 col11\" >5.376000</td>\n",
       "      <td id=\"T_73a2a_row4_col12\" class=\"data row4 col12\" >5.268000</td>\n",
       "      <td id=\"T_73a2a_row4_col13\" class=\"data row4 col13\" >5.160000</td>\n",
       "      <td id=\"T_73a2a_row4_col14\" class=\"data row4 col14\" >5.050000</td>\n",
       "      <td id=\"T_73a2a_row4_col15\" class=\"data row4 col15\" >4.933000</td>\n",
       "      <td id=\"T_73a2a_row4_col16\" class=\"data row4 col16\" >4.809000</td>\n",
       "      <td id=\"T_73a2a_row4_col17\" class=\"data row4 col17\" >4.677000</td>\n",
       "      <td id=\"T_73a2a_row4_col18\" class=\"data row4 col18\" >4.538000</td>\n",
       "      <td id=\"T_73a2a_row4_col19\" class=\"data row4 col19\" >4.393000</td>\n",
       "      <td id=\"T_73a2a_row4_col20\" class=\"data row4 col20\" >4.244000</td>\n",
       "      <td id=\"T_73a2a_row4_col21\" class=\"data row4 col21\" >4.094000</td>\n",
       "      <td id=\"T_73a2a_row4_col22\" class=\"data row4 col22\" >3.947000</td>\n",
       "      <td id=\"T_73a2a_row4_col23\" class=\"data row4 col23\" >3.807000</td>\n",
       "      <td id=\"T_73a2a_row4_col24\" class=\"data row4 col24\" >3.678000</td>\n",
       "      <td id=\"T_73a2a_row4_col25\" class=\"data row4 col25\" >3.562000</td>\n",
       "      <td id=\"T_73a2a_row4_col26\" class=\"data row4 col26\" >3.460000</td>\n",
       "      <td id=\"T_73a2a_row4_col27\" class=\"data row4 col27\" >3.372000</td>\n",
       "      <td id=\"T_73a2a_row4_col28\" class=\"data row4 col28\" >3.297000</td>\n",
       "      <td id=\"T_73a2a_row4_col29\" class=\"data row4 col29\" >3.233000</td>\n",
       "      <td id=\"T_73a2a_row4_col30\" class=\"data row4 col30\" >3.177000</td>\n",
       "      <td id=\"T_73a2a_row4_col31\" class=\"data row4 col31\" >3.126000</td>\n",
       "      <td id=\"T_73a2a_row4_col32\" class=\"data row4 col32\" >3.075000</td>\n",
       "      <td id=\"T_73a2a_row4_col33\" class=\"data row4 col33\" >3.023000</td>\n",
       "      <td id=\"T_73a2a_row4_col34\" class=\"data row4 col34\" >2.970000</td>\n",
       "      <td id=\"T_73a2a_row4_col35\" class=\"data row4 col35\" >2.917000</td>\n",
       "      <td id=\"T_73a2a_row4_col36\" class=\"data row4 col36\" >2.867000</td>\n",
       "      <td id=\"T_73a2a_row4_col37\" class=\"data row4 col37\" >2.819000</td>\n",
       "      <td id=\"T_73a2a_row4_col38\" class=\"data row4 col38\" >2.772000</td>\n",
       "      <td id=\"T_73a2a_row4_col39\" class=\"data row4 col39\" >2.723000</td>\n",
       "      <td id=\"T_73a2a_row4_col40\" class=\"data row4 col40\" >2.670000</td>\n",
       "      <td id=\"T_73a2a_row4_col41\" class=\"data row4 col41\" >2.611000</td>\n",
       "      <td id=\"T_73a2a_row4_col42\" class=\"data row4 col42\" >2.543000</td>\n",
       "      <td id=\"T_73a2a_row4_col43\" class=\"data row4 col43\" >2.467000</td>\n",
       "      <td id=\"T_73a2a_row4_col44\" class=\"data row4 col44\" >2.383000</td>\n",
       "      <td id=\"T_73a2a_row4_col45\" class=\"data row4 col45\" >2.291000</td>\n",
       "      <td id=\"T_73a2a_row4_col46\" class=\"data row4 col46\" >2.195000</td>\n",
       "      <td id=\"T_73a2a_row4_col47\" class=\"data row4 col47\" >2.097000</td>\n",
       "      <td id=\"T_73a2a_row4_col48\" class=\"data row4 col48\" >2.004000</td>\n",
       "      <td id=\"T_73a2a_row4_col49\" class=\"data row4 col49\" >1.919000</td>\n",
       "      <td id=\"T_73a2a_row4_col50\" class=\"data row4 col50\" >1.849000</td>\n",
       "      <td id=\"T_73a2a_row4_col51\" class=\"data row4 col51\" >1.796000</td>\n",
       "      <td id=\"T_73a2a_row4_col52\" class=\"data row4 col52\" >1.761000</td>\n",
       "      <td id=\"T_73a2a_row4_col53\" class=\"data row4 col53\" >1.744000</td>\n",
       "      <td id=\"T_73a2a_row4_col54\" class=\"data row4 col54\" >1.741000</td>\n",
       "      <td id=\"T_73a2a_row4_col55\" class=\"data row4 col55\" >1.748000</td>\n",
       "      <td id=\"T_73a2a_row4_col56\" class=\"data row4 col56\" >1.760000</td>\n",
       "      <td id=\"T_73a2a_row4_col57\" class=\"data row4 col57\" >1.771000</td>\n",
       "    </tr>\n",
       "  </tbody>\n",
       "</table>\n"
      ],
      "text/plain": [
       "<pandas.io.formats.style.Styler at 0x7f733760c280>"
      ]
     },
     "execution_count": 5,
     "metadata": {},
     "output_type": "execute_result"
    }
   ],
   "source": [
    "# Display the first 5 rows of the Data\n",
    "df = pd.read_csv('Fertility-Rates.csv')\n",
    "df.head(5).style.set_properties(**{\"background-color\": \"#003366\",\"color\":\"white\",\"border\": \"1.5px  solid black\"})"
   ]
  },
  {
   "cell_type": "code",
   "execution_count": 6,
   "id": "b4c65fcd-765e-4133-99c8-6ac70aecd2e3",
   "metadata": {},
   "outputs": [
    {
     "name": "stdout",
     "output_type": "stream",
     "text": [
      "<class 'pandas.core.frame.DataFrame'>\n",
      "RangeIndex: 215 entries, 0 to 214\n",
      "Data columns (total 58 columns):\n",
      " #   Column          Non-Null Count  Dtype  \n",
      "---  ------          --------------  -----  \n",
      " 0   Country Name    215 non-null    object \n",
      " 1   Country Code    215 non-null    object \n",
      " 2   Indicator Name  215 non-null    object \n",
      " 3   Indicator Code  215 non-null    object \n",
      " 4   1960            190 non-null    float64\n",
      " 5   1961            191 non-null    float64\n",
      " 6   1962            190 non-null    float64\n",
      " 7   1963            189 non-null    float64\n",
      " 8   1964            190 non-null    float64\n",
      " 9   1965            190 non-null    float64\n",
      " 10  1966            190 non-null    float64\n",
      " 11  1967            190 non-null    float64\n",
      " 12  1968            190 non-null    float64\n",
      " 13  1969            190 non-null    float64\n",
      " 14  1970            190 non-null    float64\n",
      " 15  1971            191 non-null    float64\n",
      " 16  1972            192 non-null    float64\n",
      " 17  1973            190 non-null    float64\n",
      " 18  1974            190 non-null    float64\n",
      " 19  1975            190 non-null    float64\n",
      " 20  1976            191 non-null    float64\n",
      " 21  1977            190 non-null    float64\n",
      " 22  1978            190 non-null    float64\n",
      " 23  1979            190 non-null    float64\n",
      " 24  1980            190 non-null    float64\n",
      " 25  1981            192 non-null    float64\n",
      " 26  1982            195 non-null    float64\n",
      " 27  1983            192 non-null    float64\n",
      " 28  1984            192 non-null    float64\n",
      " 29  1985            192 non-null    float64\n",
      " 30  1986            192 non-null    float64\n",
      " 31  1987            196 non-null    float64\n",
      " 32  1988            192 non-null    float64\n",
      " 33  1989            192 non-null    float64\n",
      " 34  1990            195 non-null    float64\n",
      " 35  1991            195 non-null    float64\n",
      " 36  1992            198 non-null    float64\n",
      " 37  1993            194 non-null    float64\n",
      " 38  1994            195 non-null    float64\n",
      " 39  1995            197 non-null    float64\n",
      " 40  1996            194 non-null    float64\n",
      " 41  1997            198 non-null    float64\n",
      " 42  1998            195 non-null    float64\n",
      " 43  1999            196 non-null    float64\n",
      " 44  2000            198 non-null    float64\n",
      " 45  2001            199 non-null    float64\n",
      " 46  2002            201 non-null    float64\n",
      " 47  2003            199 non-null    float64\n",
      " 48  2004            198 non-null    float64\n",
      " 49  2005            199 non-null    float64\n",
      " 50  2006            201 non-null    float64\n",
      " 51  2007            202 non-null    float64\n",
      " 52  2008            201 non-null    float64\n",
      " 53  2009            201 non-null    float64\n",
      " 54  2010            200 non-null    float64\n",
      " 55  2011            201 non-null    float64\n",
      " 56  2012            200 non-null    float64\n",
      " 57  2013            198 non-null    float64\n",
      "dtypes: float64(54), object(4)\n",
      "memory usage: 97.5+ KB\n"
     ]
    }
   ],
   "source": [
    "df.info()"
   ]
  },
  {
   "cell_type": "markdown",
   "id": "d953909c-a27a-4033-924f-8ca9b3662771",
   "metadata": {},
   "source": [
    "# Data Cleaning\n",
    "There are 215 countries and 58 columns. 4 columns have text (**object**) and the other 54 have decimal values (**float**).\n",
    " We will clean the data by:\n",
    "1. Checking and deleting columns that are not needed, for example, Country Code, Indicator Name, and Indicator Code. \n",
    "2. Deleting rows with more than 40 missing values, as that is more than half their data missing. \n",
    "         "
   ]
  },
  {
   "cell_type": "code",
   "execution_count": 8,
   "id": "b744907e-6d45-46c8-b8a8-3c8bf41b2aad",
   "metadata": {},
   "outputs": [
    {
     "name": "stdout",
     "output_type": "stream",
     "text": [
      "Column 'Indicator Name' has unique values: False\n",
      "Column 'Indicator Code' has unique values: False\n"
     ]
    }
   ],
   "source": [
    "# Check if a specific column has unique values\n",
    "column_name = 'Indicator Name'\n",
    "is_unique = df[column_name].nunique() == len(df[column_name])\n",
    "\n",
    "print(f\"Column '{column_name}' has unique values: {is_unique}\")\n",
    "\n",
    "column_name = 'Indicator Code'\n",
    "is_unique = df[column_name].nunique() == len(df[column_name])\n",
    "\n",
    "print(f\"Column '{column_name}' has unique values: {is_unique}\")"
   ]
  },
  {
   "cell_type": "markdown",
   "id": "d8ce3bb5-bcbc-4bd2-9db0-0e82ac6d5bf5",
   "metadata": {},
   "source": [
    "The 'is_unique' attribute of a pandas library returns 'True' if all values in the column are unique, otherwise 'False'. As we have a 'False' value for both these columns do not have unique values, i.e. the same values for all rows, so we do not need them. They will be deleted and then we can recheck the first 5 rows of the data. We also do not need the country code, so that will also get deleted. "
   ]
  },
  {
   "cell_type": "code",
   "execution_count": 10,
   "id": "e437965d-682d-41ba-accf-ada3c499d612",
   "metadata": {},
   "outputs": [
    {
     "data": {
      "text/html": [
       "<style type=\"text/css\">\n",
       "#T_1adf2_row0_col0, #T_1adf2_row0_col1, #T_1adf2_row0_col2, #T_1adf2_row0_col3, #T_1adf2_row0_col4, #T_1adf2_row0_col5, #T_1adf2_row0_col6, #T_1adf2_row0_col7, #T_1adf2_row0_col8, #T_1adf2_row0_col9, #T_1adf2_row0_col10, #T_1adf2_row0_col11, #T_1adf2_row0_col12, #T_1adf2_row0_col13, #T_1adf2_row0_col14, #T_1adf2_row0_col15, #T_1adf2_row0_col16, #T_1adf2_row0_col17, #T_1adf2_row0_col18, #T_1adf2_row0_col19, #T_1adf2_row0_col20, #T_1adf2_row0_col21, #T_1adf2_row0_col22, #T_1adf2_row0_col23, #T_1adf2_row0_col24, #T_1adf2_row0_col25, #T_1adf2_row0_col26, #T_1adf2_row0_col27, #T_1adf2_row0_col28, #T_1adf2_row0_col29, #T_1adf2_row0_col30, #T_1adf2_row0_col31, #T_1adf2_row0_col32, #T_1adf2_row0_col33, #T_1adf2_row0_col34, #T_1adf2_row0_col35, #T_1adf2_row0_col36, #T_1adf2_row0_col37, #T_1adf2_row0_col38, #T_1adf2_row0_col39, #T_1adf2_row0_col40, #T_1adf2_row0_col41, #T_1adf2_row0_col42, #T_1adf2_row0_col43, #T_1adf2_row0_col44, #T_1adf2_row0_col45, #T_1adf2_row0_col46, #T_1adf2_row0_col47, #T_1adf2_row0_col48, #T_1adf2_row0_col49, #T_1adf2_row0_col50, #T_1adf2_row0_col51, #T_1adf2_row0_col52, #T_1adf2_row0_col53, #T_1adf2_row0_col54, #T_1adf2_row1_col0, #T_1adf2_row1_col1, #T_1adf2_row1_col2, #T_1adf2_row1_col3, #T_1adf2_row1_col4, #T_1adf2_row1_col5, #T_1adf2_row1_col6, #T_1adf2_row1_col7, #T_1adf2_row1_col8, #T_1adf2_row1_col9, #T_1adf2_row1_col10, #T_1adf2_row1_col11, #T_1adf2_row1_col12, #T_1adf2_row1_col13, #T_1adf2_row1_col14, #T_1adf2_row1_col15, #T_1adf2_row1_col16, #T_1adf2_row1_col17, #T_1adf2_row1_col18, #T_1adf2_row1_col19, #T_1adf2_row1_col20, #T_1adf2_row1_col21, #T_1adf2_row1_col22, #T_1adf2_row1_col23, #T_1adf2_row1_col24, #T_1adf2_row1_col25, #T_1adf2_row1_col26, #T_1adf2_row1_col27, #T_1adf2_row1_col28, #T_1adf2_row1_col29, #T_1adf2_row1_col30, #T_1adf2_row1_col31, #T_1adf2_row1_col32, #T_1adf2_row1_col33, #T_1adf2_row1_col34, #T_1adf2_row1_col35, #T_1adf2_row1_col36, #T_1adf2_row1_col37, #T_1adf2_row1_col38, #T_1adf2_row1_col39, #T_1adf2_row1_col40, #T_1adf2_row1_col41, #T_1adf2_row1_col42, #T_1adf2_row1_col43, #T_1adf2_row1_col44, #T_1adf2_row1_col45, #T_1adf2_row1_col46, #T_1adf2_row1_col47, #T_1adf2_row1_col48, #T_1adf2_row1_col49, #T_1adf2_row1_col50, #T_1adf2_row1_col51, #T_1adf2_row1_col52, #T_1adf2_row1_col53, #T_1adf2_row1_col54, #T_1adf2_row2_col0, #T_1adf2_row2_col1, #T_1adf2_row2_col2, #T_1adf2_row2_col3, #T_1adf2_row2_col4, #T_1adf2_row2_col5, #T_1adf2_row2_col6, #T_1adf2_row2_col7, #T_1adf2_row2_col8, #T_1adf2_row2_col9, #T_1adf2_row2_col10, #T_1adf2_row2_col11, #T_1adf2_row2_col12, #T_1adf2_row2_col13, #T_1adf2_row2_col14, #T_1adf2_row2_col15, #T_1adf2_row2_col16, #T_1adf2_row2_col17, #T_1adf2_row2_col18, #T_1adf2_row2_col19, #T_1adf2_row2_col20, #T_1adf2_row2_col21, #T_1adf2_row2_col22, #T_1adf2_row2_col23, #T_1adf2_row2_col24, #T_1adf2_row2_col25, #T_1adf2_row2_col26, #T_1adf2_row2_col27, #T_1adf2_row2_col28, #T_1adf2_row2_col29, #T_1adf2_row2_col30, #T_1adf2_row2_col31, #T_1adf2_row2_col32, #T_1adf2_row2_col33, #T_1adf2_row2_col34, #T_1adf2_row2_col35, #T_1adf2_row2_col36, #T_1adf2_row2_col37, #T_1adf2_row2_col38, #T_1adf2_row2_col39, #T_1adf2_row2_col40, #T_1adf2_row2_col41, #T_1adf2_row2_col42, #T_1adf2_row2_col43, #T_1adf2_row2_col44, #T_1adf2_row2_col45, #T_1adf2_row2_col46, #T_1adf2_row2_col47, #T_1adf2_row2_col48, #T_1adf2_row2_col49, #T_1adf2_row2_col50, #T_1adf2_row2_col51, #T_1adf2_row2_col52, #T_1adf2_row2_col53, #T_1adf2_row2_col54, #T_1adf2_row3_col0, #T_1adf2_row3_col1, #T_1adf2_row3_col2, #T_1adf2_row3_col3, #T_1adf2_row3_col4, #T_1adf2_row3_col5, #T_1adf2_row3_col6, #T_1adf2_row3_col7, #T_1adf2_row3_col8, #T_1adf2_row3_col9, #T_1adf2_row3_col10, #T_1adf2_row3_col11, #T_1adf2_row3_col12, #T_1adf2_row3_col13, #T_1adf2_row3_col14, #T_1adf2_row3_col15, #T_1adf2_row3_col16, #T_1adf2_row3_col17, #T_1adf2_row3_col18, #T_1adf2_row3_col19, #T_1adf2_row3_col20, #T_1adf2_row3_col21, #T_1adf2_row3_col22, #T_1adf2_row3_col23, #T_1adf2_row3_col24, #T_1adf2_row3_col25, #T_1adf2_row3_col26, #T_1adf2_row3_col27, #T_1adf2_row3_col28, #T_1adf2_row3_col29, #T_1adf2_row3_col30, #T_1adf2_row3_col31, #T_1adf2_row3_col32, #T_1adf2_row3_col33, #T_1adf2_row3_col34, #T_1adf2_row3_col35, #T_1adf2_row3_col36, #T_1adf2_row3_col37, #T_1adf2_row3_col38, #T_1adf2_row3_col39, #T_1adf2_row3_col40, #T_1adf2_row3_col41, #T_1adf2_row3_col42, #T_1adf2_row3_col43, #T_1adf2_row3_col44, #T_1adf2_row3_col45, #T_1adf2_row3_col46, #T_1adf2_row3_col47, #T_1adf2_row3_col48, #T_1adf2_row3_col49, #T_1adf2_row3_col50, #T_1adf2_row3_col51, #T_1adf2_row3_col52, #T_1adf2_row3_col53, #T_1adf2_row3_col54, #T_1adf2_row4_col0, #T_1adf2_row4_col1, #T_1adf2_row4_col2, #T_1adf2_row4_col3, #T_1adf2_row4_col4, #T_1adf2_row4_col5, #T_1adf2_row4_col6, #T_1adf2_row4_col7, #T_1adf2_row4_col8, #T_1adf2_row4_col9, #T_1adf2_row4_col10, #T_1adf2_row4_col11, #T_1adf2_row4_col12, #T_1adf2_row4_col13, #T_1adf2_row4_col14, #T_1adf2_row4_col15, #T_1adf2_row4_col16, #T_1adf2_row4_col17, #T_1adf2_row4_col18, #T_1adf2_row4_col19, #T_1adf2_row4_col20, #T_1adf2_row4_col21, #T_1adf2_row4_col22, #T_1adf2_row4_col23, #T_1adf2_row4_col24, #T_1adf2_row4_col25, #T_1adf2_row4_col26, #T_1adf2_row4_col27, #T_1adf2_row4_col28, #T_1adf2_row4_col29, #T_1adf2_row4_col30, #T_1adf2_row4_col31, #T_1adf2_row4_col32, #T_1adf2_row4_col33, #T_1adf2_row4_col34, #T_1adf2_row4_col35, #T_1adf2_row4_col36, #T_1adf2_row4_col37, #T_1adf2_row4_col38, #T_1adf2_row4_col39, #T_1adf2_row4_col40, #T_1adf2_row4_col41, #T_1adf2_row4_col42, #T_1adf2_row4_col43, #T_1adf2_row4_col44, #T_1adf2_row4_col45, #T_1adf2_row4_col46, #T_1adf2_row4_col47, #T_1adf2_row4_col48, #T_1adf2_row4_col49, #T_1adf2_row4_col50, #T_1adf2_row4_col51, #T_1adf2_row4_col52, #T_1adf2_row4_col53, #T_1adf2_row4_col54, #T_1adf2_row5_col0, #T_1adf2_row5_col1, #T_1adf2_row5_col2, #T_1adf2_row5_col3, #T_1adf2_row5_col4, #T_1adf2_row5_col5, #T_1adf2_row5_col6, #T_1adf2_row5_col7, #T_1adf2_row5_col8, #T_1adf2_row5_col9, #T_1adf2_row5_col10, #T_1adf2_row5_col11, #T_1adf2_row5_col12, #T_1adf2_row5_col13, #T_1adf2_row5_col14, #T_1adf2_row5_col15, #T_1adf2_row5_col16, #T_1adf2_row5_col17, #T_1adf2_row5_col18, #T_1adf2_row5_col19, #T_1adf2_row5_col20, #T_1adf2_row5_col21, #T_1adf2_row5_col22, #T_1adf2_row5_col23, #T_1adf2_row5_col24, #T_1adf2_row5_col25, #T_1adf2_row5_col26, #T_1adf2_row5_col27, #T_1adf2_row5_col28, #T_1adf2_row5_col29, #T_1adf2_row5_col30, #T_1adf2_row5_col31, #T_1adf2_row5_col32, #T_1adf2_row5_col33, #T_1adf2_row5_col34, #T_1adf2_row5_col35, #T_1adf2_row5_col36, #T_1adf2_row5_col37, #T_1adf2_row5_col38, #T_1adf2_row5_col39, #T_1adf2_row5_col40, #T_1adf2_row5_col41, #T_1adf2_row5_col42, #T_1adf2_row5_col43, #T_1adf2_row5_col44, #T_1adf2_row5_col45, #T_1adf2_row5_col46, #T_1adf2_row5_col47, #T_1adf2_row5_col48, #T_1adf2_row5_col49, #T_1adf2_row5_col50, #T_1adf2_row5_col51, #T_1adf2_row5_col52, #T_1adf2_row5_col53, #T_1adf2_row5_col54, #T_1adf2_row6_col0, #T_1adf2_row6_col1, #T_1adf2_row6_col2, #T_1adf2_row6_col3, #T_1adf2_row6_col4, #T_1adf2_row6_col5, #T_1adf2_row6_col6, #T_1adf2_row6_col7, #T_1adf2_row6_col8, #T_1adf2_row6_col9, #T_1adf2_row6_col10, #T_1adf2_row6_col11, #T_1adf2_row6_col12, #T_1adf2_row6_col13, #T_1adf2_row6_col14, #T_1adf2_row6_col15, #T_1adf2_row6_col16, #T_1adf2_row6_col17, #T_1adf2_row6_col18, #T_1adf2_row6_col19, #T_1adf2_row6_col20, #T_1adf2_row6_col21, #T_1adf2_row6_col22, #T_1adf2_row6_col23, #T_1adf2_row6_col24, #T_1adf2_row6_col25, #T_1adf2_row6_col26, #T_1adf2_row6_col27, #T_1adf2_row6_col28, #T_1adf2_row6_col29, #T_1adf2_row6_col30, #T_1adf2_row6_col31, #T_1adf2_row6_col32, #T_1adf2_row6_col33, #T_1adf2_row6_col34, #T_1adf2_row6_col35, #T_1adf2_row6_col36, #T_1adf2_row6_col37, #T_1adf2_row6_col38, #T_1adf2_row6_col39, #T_1adf2_row6_col40, #T_1adf2_row6_col41, #T_1adf2_row6_col42, #T_1adf2_row6_col43, #T_1adf2_row6_col44, #T_1adf2_row6_col45, #T_1adf2_row6_col46, #T_1adf2_row6_col47, #T_1adf2_row6_col48, #T_1adf2_row6_col49, #T_1adf2_row6_col50, #T_1adf2_row6_col51, #T_1adf2_row6_col52, #T_1adf2_row6_col53, #T_1adf2_row6_col54, #T_1adf2_row7_col0, #T_1adf2_row7_col1, #T_1adf2_row7_col2, #T_1adf2_row7_col3, #T_1adf2_row7_col4, #T_1adf2_row7_col5, #T_1adf2_row7_col6, #T_1adf2_row7_col7, #T_1adf2_row7_col8, #T_1adf2_row7_col9, #T_1adf2_row7_col10, #T_1adf2_row7_col11, #T_1adf2_row7_col12, #T_1adf2_row7_col13, #T_1adf2_row7_col14, #T_1adf2_row7_col15, #T_1adf2_row7_col16, #T_1adf2_row7_col17, #T_1adf2_row7_col18, #T_1adf2_row7_col19, #T_1adf2_row7_col20, #T_1adf2_row7_col21, #T_1adf2_row7_col22, #T_1adf2_row7_col23, #T_1adf2_row7_col24, #T_1adf2_row7_col25, #T_1adf2_row7_col26, #T_1adf2_row7_col27, #T_1adf2_row7_col28, #T_1adf2_row7_col29, #T_1adf2_row7_col30, #T_1adf2_row7_col31, #T_1adf2_row7_col32, #T_1adf2_row7_col33, #T_1adf2_row7_col34, #T_1adf2_row7_col35, #T_1adf2_row7_col36, #T_1adf2_row7_col37, #T_1adf2_row7_col38, #T_1adf2_row7_col39, #T_1adf2_row7_col40, #T_1adf2_row7_col41, #T_1adf2_row7_col42, #T_1adf2_row7_col43, #T_1adf2_row7_col44, #T_1adf2_row7_col45, #T_1adf2_row7_col46, #T_1adf2_row7_col47, #T_1adf2_row7_col48, #T_1adf2_row7_col49, #T_1adf2_row7_col50, #T_1adf2_row7_col51, #T_1adf2_row7_col52, #T_1adf2_row7_col53, #T_1adf2_row7_col54, #T_1adf2_row8_col0, #T_1adf2_row8_col1, #T_1adf2_row8_col2, #T_1adf2_row8_col3, #T_1adf2_row8_col4, #T_1adf2_row8_col5, #T_1adf2_row8_col6, #T_1adf2_row8_col7, #T_1adf2_row8_col8, #T_1adf2_row8_col9, #T_1adf2_row8_col10, #T_1adf2_row8_col11, #T_1adf2_row8_col12, #T_1adf2_row8_col13, #T_1adf2_row8_col14, #T_1adf2_row8_col15, #T_1adf2_row8_col16, #T_1adf2_row8_col17, #T_1adf2_row8_col18, #T_1adf2_row8_col19, #T_1adf2_row8_col20, #T_1adf2_row8_col21, #T_1adf2_row8_col22, #T_1adf2_row8_col23, #T_1adf2_row8_col24, #T_1adf2_row8_col25, #T_1adf2_row8_col26, #T_1adf2_row8_col27, #T_1adf2_row8_col28, #T_1adf2_row8_col29, #T_1adf2_row8_col30, #T_1adf2_row8_col31, #T_1adf2_row8_col32, #T_1adf2_row8_col33, #T_1adf2_row8_col34, #T_1adf2_row8_col35, #T_1adf2_row8_col36, #T_1adf2_row8_col37, #T_1adf2_row8_col38, #T_1adf2_row8_col39, #T_1adf2_row8_col40, #T_1adf2_row8_col41, #T_1adf2_row8_col42, #T_1adf2_row8_col43, #T_1adf2_row8_col44, #T_1adf2_row8_col45, #T_1adf2_row8_col46, #T_1adf2_row8_col47, #T_1adf2_row8_col48, #T_1adf2_row8_col49, #T_1adf2_row8_col50, #T_1adf2_row8_col51, #T_1adf2_row8_col52, #T_1adf2_row8_col53, #T_1adf2_row8_col54, #T_1adf2_row9_col0, #T_1adf2_row9_col1, #T_1adf2_row9_col2, #T_1adf2_row9_col3, #T_1adf2_row9_col4, #T_1adf2_row9_col5, #T_1adf2_row9_col6, #T_1adf2_row9_col7, #T_1adf2_row9_col8, #T_1adf2_row9_col9, #T_1adf2_row9_col10, #T_1adf2_row9_col11, #T_1adf2_row9_col12, #T_1adf2_row9_col13, #T_1adf2_row9_col14, #T_1adf2_row9_col15, #T_1adf2_row9_col16, #T_1adf2_row9_col17, #T_1adf2_row9_col18, #T_1adf2_row9_col19, #T_1adf2_row9_col20, #T_1adf2_row9_col21, #T_1adf2_row9_col22, #T_1adf2_row9_col23, #T_1adf2_row9_col24, #T_1adf2_row9_col25, #T_1adf2_row9_col26, #T_1adf2_row9_col27, #T_1adf2_row9_col28, #T_1adf2_row9_col29, #T_1adf2_row9_col30, #T_1adf2_row9_col31, #T_1adf2_row9_col32, #T_1adf2_row9_col33, #T_1adf2_row9_col34, #T_1adf2_row9_col35, #T_1adf2_row9_col36, #T_1adf2_row9_col37, #T_1adf2_row9_col38, #T_1adf2_row9_col39, #T_1adf2_row9_col40, #T_1adf2_row9_col41, #T_1adf2_row9_col42, #T_1adf2_row9_col43, #T_1adf2_row9_col44, #T_1adf2_row9_col45, #T_1adf2_row9_col46, #T_1adf2_row9_col47, #T_1adf2_row9_col48, #T_1adf2_row9_col49, #T_1adf2_row9_col50, #T_1adf2_row9_col51, #T_1adf2_row9_col52, #T_1adf2_row9_col53, #T_1adf2_row9_col54 {\n",
       "  background-color: #003366;\n",
       "  color: white;\n",
       "  border: 1.5px  solid black;\n",
       "}\n",
       "</style>\n",
       "<table id=\"T_1adf2\">\n",
       "  <thead>\n",
       "    <tr>\n",
       "      <th class=\"blank level0\" >&nbsp;</th>\n",
       "      <th id=\"T_1adf2_level0_col0\" class=\"col_heading level0 col0\" >Country Name</th>\n",
       "      <th id=\"T_1adf2_level0_col1\" class=\"col_heading level0 col1\" >1960</th>\n",
       "      <th id=\"T_1adf2_level0_col2\" class=\"col_heading level0 col2\" >1961</th>\n",
       "      <th id=\"T_1adf2_level0_col3\" class=\"col_heading level0 col3\" >1962</th>\n",
       "      <th id=\"T_1adf2_level0_col4\" class=\"col_heading level0 col4\" >1963</th>\n",
       "      <th id=\"T_1adf2_level0_col5\" class=\"col_heading level0 col5\" >1964</th>\n",
       "      <th id=\"T_1adf2_level0_col6\" class=\"col_heading level0 col6\" >1965</th>\n",
       "      <th id=\"T_1adf2_level0_col7\" class=\"col_heading level0 col7\" >1966</th>\n",
       "      <th id=\"T_1adf2_level0_col8\" class=\"col_heading level0 col8\" >1967</th>\n",
       "      <th id=\"T_1adf2_level0_col9\" class=\"col_heading level0 col9\" >1968</th>\n",
       "      <th id=\"T_1adf2_level0_col10\" class=\"col_heading level0 col10\" >1969</th>\n",
       "      <th id=\"T_1adf2_level0_col11\" class=\"col_heading level0 col11\" >1970</th>\n",
       "      <th id=\"T_1adf2_level0_col12\" class=\"col_heading level0 col12\" >1971</th>\n",
       "      <th id=\"T_1adf2_level0_col13\" class=\"col_heading level0 col13\" >1972</th>\n",
       "      <th id=\"T_1adf2_level0_col14\" class=\"col_heading level0 col14\" >1973</th>\n",
       "      <th id=\"T_1adf2_level0_col15\" class=\"col_heading level0 col15\" >1974</th>\n",
       "      <th id=\"T_1adf2_level0_col16\" class=\"col_heading level0 col16\" >1975</th>\n",
       "      <th id=\"T_1adf2_level0_col17\" class=\"col_heading level0 col17\" >1976</th>\n",
       "      <th id=\"T_1adf2_level0_col18\" class=\"col_heading level0 col18\" >1977</th>\n",
       "      <th id=\"T_1adf2_level0_col19\" class=\"col_heading level0 col19\" >1978</th>\n",
       "      <th id=\"T_1adf2_level0_col20\" class=\"col_heading level0 col20\" >1979</th>\n",
       "      <th id=\"T_1adf2_level0_col21\" class=\"col_heading level0 col21\" >1980</th>\n",
       "      <th id=\"T_1adf2_level0_col22\" class=\"col_heading level0 col22\" >1981</th>\n",
       "      <th id=\"T_1adf2_level0_col23\" class=\"col_heading level0 col23\" >1982</th>\n",
       "      <th id=\"T_1adf2_level0_col24\" class=\"col_heading level0 col24\" >1983</th>\n",
       "      <th id=\"T_1adf2_level0_col25\" class=\"col_heading level0 col25\" >1984</th>\n",
       "      <th id=\"T_1adf2_level0_col26\" class=\"col_heading level0 col26\" >1985</th>\n",
       "      <th id=\"T_1adf2_level0_col27\" class=\"col_heading level0 col27\" >1986</th>\n",
       "      <th id=\"T_1adf2_level0_col28\" class=\"col_heading level0 col28\" >1987</th>\n",
       "      <th id=\"T_1adf2_level0_col29\" class=\"col_heading level0 col29\" >1988</th>\n",
       "      <th id=\"T_1adf2_level0_col30\" class=\"col_heading level0 col30\" >1989</th>\n",
       "      <th id=\"T_1adf2_level0_col31\" class=\"col_heading level0 col31\" >1990</th>\n",
       "      <th id=\"T_1adf2_level0_col32\" class=\"col_heading level0 col32\" >1991</th>\n",
       "      <th id=\"T_1adf2_level0_col33\" class=\"col_heading level0 col33\" >1992</th>\n",
       "      <th id=\"T_1adf2_level0_col34\" class=\"col_heading level0 col34\" >1993</th>\n",
       "      <th id=\"T_1adf2_level0_col35\" class=\"col_heading level0 col35\" >1994</th>\n",
       "      <th id=\"T_1adf2_level0_col36\" class=\"col_heading level0 col36\" >1995</th>\n",
       "      <th id=\"T_1adf2_level0_col37\" class=\"col_heading level0 col37\" >1996</th>\n",
       "      <th id=\"T_1adf2_level0_col38\" class=\"col_heading level0 col38\" >1997</th>\n",
       "      <th id=\"T_1adf2_level0_col39\" class=\"col_heading level0 col39\" >1998</th>\n",
       "      <th id=\"T_1adf2_level0_col40\" class=\"col_heading level0 col40\" >1999</th>\n",
       "      <th id=\"T_1adf2_level0_col41\" class=\"col_heading level0 col41\" >2000</th>\n",
       "      <th id=\"T_1adf2_level0_col42\" class=\"col_heading level0 col42\" >2001</th>\n",
       "      <th id=\"T_1adf2_level0_col43\" class=\"col_heading level0 col43\" >2002</th>\n",
       "      <th id=\"T_1adf2_level0_col44\" class=\"col_heading level0 col44\" >2003</th>\n",
       "      <th id=\"T_1adf2_level0_col45\" class=\"col_heading level0 col45\" >2004</th>\n",
       "      <th id=\"T_1adf2_level0_col46\" class=\"col_heading level0 col46\" >2005</th>\n",
       "      <th id=\"T_1adf2_level0_col47\" class=\"col_heading level0 col47\" >2006</th>\n",
       "      <th id=\"T_1adf2_level0_col48\" class=\"col_heading level0 col48\" >2007</th>\n",
       "      <th id=\"T_1adf2_level0_col49\" class=\"col_heading level0 col49\" >2008</th>\n",
       "      <th id=\"T_1adf2_level0_col50\" class=\"col_heading level0 col50\" >2009</th>\n",
       "      <th id=\"T_1adf2_level0_col51\" class=\"col_heading level0 col51\" >2010</th>\n",
       "      <th id=\"T_1adf2_level0_col52\" class=\"col_heading level0 col52\" >2011</th>\n",
       "      <th id=\"T_1adf2_level0_col53\" class=\"col_heading level0 col53\" >2012</th>\n",
       "      <th id=\"T_1adf2_level0_col54\" class=\"col_heading level0 col54\" >2013</th>\n",
       "    </tr>\n",
       "  </thead>\n",
       "  <tbody>\n",
       "    <tr>\n",
       "      <th id=\"T_1adf2_level0_row0\" class=\"row_heading level0 row0\" >0</th>\n",
       "      <td id=\"T_1adf2_row0_col0\" class=\"data row0 col0\" >Aruba</td>\n",
       "      <td id=\"T_1adf2_row0_col1\" class=\"data row0 col1\" >4.820000</td>\n",
       "      <td id=\"T_1adf2_row0_col2\" class=\"data row0 col2\" >4.655000</td>\n",
       "      <td id=\"T_1adf2_row0_col3\" class=\"data row0 col3\" >4.471000</td>\n",
       "      <td id=\"T_1adf2_row0_col4\" class=\"data row0 col4\" >4.271000</td>\n",
       "      <td id=\"T_1adf2_row0_col5\" class=\"data row0 col5\" >4.059000</td>\n",
       "      <td id=\"T_1adf2_row0_col6\" class=\"data row0 col6\" >3.842000</td>\n",
       "      <td id=\"T_1adf2_row0_col7\" class=\"data row0 col7\" >3.625000</td>\n",
       "      <td id=\"T_1adf2_row0_col8\" class=\"data row0 col8\" >3.417000</td>\n",
       "      <td id=\"T_1adf2_row0_col9\" class=\"data row0 col9\" >3.226000</td>\n",
       "      <td id=\"T_1adf2_row0_col10\" class=\"data row0 col10\" >3.054000</td>\n",
       "      <td id=\"T_1adf2_row0_col11\" class=\"data row0 col11\" >2.908000</td>\n",
       "      <td id=\"T_1adf2_row0_col12\" class=\"data row0 col12\" >2.788000</td>\n",
       "      <td id=\"T_1adf2_row0_col13\" class=\"data row0 col13\" >2.691000</td>\n",
       "      <td id=\"T_1adf2_row0_col14\" class=\"data row0 col14\" >2.613000</td>\n",
       "      <td id=\"T_1adf2_row0_col15\" class=\"data row0 col15\" >2.552000</td>\n",
       "      <td id=\"T_1adf2_row0_col16\" class=\"data row0 col16\" >2.506000</td>\n",
       "      <td id=\"T_1adf2_row0_col17\" class=\"data row0 col17\" >2.472000</td>\n",
       "      <td id=\"T_1adf2_row0_col18\" class=\"data row0 col18\" >2.446000</td>\n",
       "      <td id=\"T_1adf2_row0_col19\" class=\"data row0 col19\" >2.425000</td>\n",
       "      <td id=\"T_1adf2_row0_col20\" class=\"data row0 col20\" >2.408000</td>\n",
       "      <td id=\"T_1adf2_row0_col21\" class=\"data row0 col21\" >2.392000</td>\n",
       "      <td id=\"T_1adf2_row0_col22\" class=\"data row0 col22\" >2.377000</td>\n",
       "      <td id=\"T_1adf2_row0_col23\" class=\"data row0 col23\" >2.364000</td>\n",
       "      <td id=\"T_1adf2_row0_col24\" class=\"data row0 col24\" >2.353000</td>\n",
       "      <td id=\"T_1adf2_row0_col25\" class=\"data row0 col25\" >2.342000</td>\n",
       "      <td id=\"T_1adf2_row0_col26\" class=\"data row0 col26\" >2.332000</td>\n",
       "      <td id=\"T_1adf2_row0_col27\" class=\"data row0 col27\" >2.320000</td>\n",
       "      <td id=\"T_1adf2_row0_col28\" class=\"data row0 col28\" >2.307000</td>\n",
       "      <td id=\"T_1adf2_row0_col29\" class=\"data row0 col29\" >2.291000</td>\n",
       "      <td id=\"T_1adf2_row0_col30\" class=\"data row0 col30\" >2.272000</td>\n",
       "      <td id=\"T_1adf2_row0_col31\" class=\"data row0 col31\" >2.249000</td>\n",
       "      <td id=\"T_1adf2_row0_col32\" class=\"data row0 col32\" >2.221000</td>\n",
       "      <td id=\"T_1adf2_row0_col33\" class=\"data row0 col33\" >2.187000</td>\n",
       "      <td id=\"T_1adf2_row0_col34\" class=\"data row0 col34\" >2.149000</td>\n",
       "      <td id=\"T_1adf2_row0_col35\" class=\"data row0 col35\" >2.108000</td>\n",
       "      <td id=\"T_1adf2_row0_col36\" class=\"data row0 col36\" >2.064000</td>\n",
       "      <td id=\"T_1adf2_row0_col37\" class=\"data row0 col37\" >2.021000</td>\n",
       "      <td id=\"T_1adf2_row0_col38\" class=\"data row0 col38\" >1.979000</td>\n",
       "      <td id=\"T_1adf2_row0_col39\" class=\"data row0 col39\" >1.940000</td>\n",
       "      <td id=\"T_1adf2_row0_col40\" class=\"data row0 col40\" >1.905000</td>\n",
       "      <td id=\"T_1adf2_row0_col41\" class=\"data row0 col41\" >1.874000</td>\n",
       "      <td id=\"T_1adf2_row0_col42\" class=\"data row0 col42\" >1.848000</td>\n",
       "      <td id=\"T_1adf2_row0_col43\" class=\"data row0 col43\" >1.825000</td>\n",
       "      <td id=\"T_1adf2_row0_col44\" class=\"data row0 col44\" >1.805000</td>\n",
       "      <td id=\"T_1adf2_row0_col45\" class=\"data row0 col45\" >1.786000</td>\n",
       "      <td id=\"T_1adf2_row0_col46\" class=\"data row0 col46\" >1.769000</td>\n",
       "      <td id=\"T_1adf2_row0_col47\" class=\"data row0 col47\" >1.754000</td>\n",
       "      <td id=\"T_1adf2_row0_col48\" class=\"data row0 col48\" >1.739000</td>\n",
       "      <td id=\"T_1adf2_row0_col49\" class=\"data row0 col49\" >1.726000</td>\n",
       "      <td id=\"T_1adf2_row0_col50\" class=\"data row0 col50\" >1.713000</td>\n",
       "      <td id=\"T_1adf2_row0_col51\" class=\"data row0 col51\" >1.701000</td>\n",
       "      <td id=\"T_1adf2_row0_col52\" class=\"data row0 col52\" >1.690000</td>\n",
       "      <td id=\"T_1adf2_row0_col53\" class=\"data row0 col53\" >1.681000</td>\n",
       "      <td id=\"T_1adf2_row0_col54\" class=\"data row0 col54\" >1.673000</td>\n",
       "    </tr>\n",
       "    <tr>\n",
       "      <th id=\"T_1adf2_level0_row1\" class=\"row_heading level0 row1\" >1</th>\n",
       "      <td id=\"T_1adf2_row1_col0\" class=\"data row1 col0\" >Andorra</td>\n",
       "      <td id=\"T_1adf2_row1_col1\" class=\"data row1 col1\" >nan</td>\n",
       "      <td id=\"T_1adf2_row1_col2\" class=\"data row1 col2\" >nan</td>\n",
       "      <td id=\"T_1adf2_row1_col3\" class=\"data row1 col3\" >nan</td>\n",
       "      <td id=\"T_1adf2_row1_col4\" class=\"data row1 col4\" >nan</td>\n",
       "      <td id=\"T_1adf2_row1_col5\" class=\"data row1 col5\" >nan</td>\n",
       "      <td id=\"T_1adf2_row1_col6\" class=\"data row1 col6\" >nan</td>\n",
       "      <td id=\"T_1adf2_row1_col7\" class=\"data row1 col7\" >nan</td>\n",
       "      <td id=\"T_1adf2_row1_col8\" class=\"data row1 col8\" >nan</td>\n",
       "      <td id=\"T_1adf2_row1_col9\" class=\"data row1 col9\" >nan</td>\n",
       "      <td id=\"T_1adf2_row1_col10\" class=\"data row1 col10\" >nan</td>\n",
       "      <td id=\"T_1adf2_row1_col11\" class=\"data row1 col11\" >nan</td>\n",
       "      <td id=\"T_1adf2_row1_col12\" class=\"data row1 col12\" >nan</td>\n",
       "      <td id=\"T_1adf2_row1_col13\" class=\"data row1 col13\" >nan</td>\n",
       "      <td id=\"T_1adf2_row1_col14\" class=\"data row1 col14\" >nan</td>\n",
       "      <td id=\"T_1adf2_row1_col15\" class=\"data row1 col15\" >nan</td>\n",
       "      <td id=\"T_1adf2_row1_col16\" class=\"data row1 col16\" >nan</td>\n",
       "      <td id=\"T_1adf2_row1_col17\" class=\"data row1 col17\" >nan</td>\n",
       "      <td id=\"T_1adf2_row1_col18\" class=\"data row1 col18\" >nan</td>\n",
       "      <td id=\"T_1adf2_row1_col19\" class=\"data row1 col19\" >nan</td>\n",
       "      <td id=\"T_1adf2_row1_col20\" class=\"data row1 col20\" >nan</td>\n",
       "      <td id=\"T_1adf2_row1_col21\" class=\"data row1 col21\" >nan</td>\n",
       "      <td id=\"T_1adf2_row1_col22\" class=\"data row1 col22\" >nan</td>\n",
       "      <td id=\"T_1adf2_row1_col23\" class=\"data row1 col23\" >nan</td>\n",
       "      <td id=\"T_1adf2_row1_col24\" class=\"data row1 col24\" >nan</td>\n",
       "      <td id=\"T_1adf2_row1_col25\" class=\"data row1 col25\" >nan</td>\n",
       "      <td id=\"T_1adf2_row1_col26\" class=\"data row1 col26\" >nan</td>\n",
       "      <td id=\"T_1adf2_row1_col27\" class=\"data row1 col27\" >nan</td>\n",
       "      <td id=\"T_1adf2_row1_col28\" class=\"data row1 col28\" >nan</td>\n",
       "      <td id=\"T_1adf2_row1_col29\" class=\"data row1 col29\" >nan</td>\n",
       "      <td id=\"T_1adf2_row1_col30\" class=\"data row1 col30\" >nan</td>\n",
       "      <td id=\"T_1adf2_row1_col31\" class=\"data row1 col31\" >nan</td>\n",
       "      <td id=\"T_1adf2_row1_col32\" class=\"data row1 col32\" >nan</td>\n",
       "      <td id=\"T_1adf2_row1_col33\" class=\"data row1 col33\" >nan</td>\n",
       "      <td id=\"T_1adf2_row1_col34\" class=\"data row1 col34\" >nan</td>\n",
       "      <td id=\"T_1adf2_row1_col35\" class=\"data row1 col35\" >nan</td>\n",
       "      <td id=\"T_1adf2_row1_col36\" class=\"data row1 col36\" >nan</td>\n",
       "      <td id=\"T_1adf2_row1_col37\" class=\"data row1 col37\" >nan</td>\n",
       "      <td id=\"T_1adf2_row1_col38\" class=\"data row1 col38\" >nan</td>\n",
       "      <td id=\"T_1adf2_row1_col39\" class=\"data row1 col39\" >nan</td>\n",
       "      <td id=\"T_1adf2_row1_col40\" class=\"data row1 col40\" >nan</td>\n",
       "      <td id=\"T_1adf2_row1_col41\" class=\"data row1 col41\" >nan</td>\n",
       "      <td id=\"T_1adf2_row1_col42\" class=\"data row1 col42\" >nan</td>\n",
       "      <td id=\"T_1adf2_row1_col43\" class=\"data row1 col43\" >nan</td>\n",
       "      <td id=\"T_1adf2_row1_col44\" class=\"data row1 col44\" >nan</td>\n",
       "      <td id=\"T_1adf2_row1_col45\" class=\"data row1 col45\" >nan</td>\n",
       "      <td id=\"T_1adf2_row1_col46\" class=\"data row1 col46\" >nan</td>\n",
       "      <td id=\"T_1adf2_row1_col47\" class=\"data row1 col47\" >1.240000</td>\n",
       "      <td id=\"T_1adf2_row1_col48\" class=\"data row1 col48\" >1.180000</td>\n",
       "      <td id=\"T_1adf2_row1_col49\" class=\"data row1 col49\" >1.250000</td>\n",
       "      <td id=\"T_1adf2_row1_col50\" class=\"data row1 col50\" >1.190000</td>\n",
       "      <td id=\"T_1adf2_row1_col51\" class=\"data row1 col51\" >1.220000</td>\n",
       "      <td id=\"T_1adf2_row1_col52\" class=\"data row1 col52\" >nan</td>\n",
       "      <td id=\"T_1adf2_row1_col53\" class=\"data row1 col53\" >nan</td>\n",
       "      <td id=\"T_1adf2_row1_col54\" class=\"data row1 col54\" >nan</td>\n",
       "    </tr>\n",
       "    <tr>\n",
       "      <th id=\"T_1adf2_level0_row2\" class=\"row_heading level0 row2\" >2</th>\n",
       "      <td id=\"T_1adf2_row2_col0\" class=\"data row2 col0\" >Afghanistan</td>\n",
       "      <td id=\"T_1adf2_row2_col1\" class=\"data row2 col1\" >7.671000</td>\n",
       "      <td id=\"T_1adf2_row2_col2\" class=\"data row2 col2\" >7.671000</td>\n",
       "      <td id=\"T_1adf2_row2_col3\" class=\"data row2 col3\" >7.671000</td>\n",
       "      <td id=\"T_1adf2_row2_col4\" class=\"data row2 col4\" >7.671000</td>\n",
       "      <td id=\"T_1adf2_row2_col5\" class=\"data row2 col5\" >7.671000</td>\n",
       "      <td id=\"T_1adf2_row2_col6\" class=\"data row2 col6\" >7.671000</td>\n",
       "      <td id=\"T_1adf2_row2_col7\" class=\"data row2 col7\" >7.671000</td>\n",
       "      <td id=\"T_1adf2_row2_col8\" class=\"data row2 col8\" >7.671000</td>\n",
       "      <td id=\"T_1adf2_row2_col9\" class=\"data row2 col9\" >7.671000</td>\n",
       "      <td id=\"T_1adf2_row2_col10\" class=\"data row2 col10\" >7.671000</td>\n",
       "      <td id=\"T_1adf2_row2_col11\" class=\"data row2 col11\" >7.671000</td>\n",
       "      <td id=\"T_1adf2_row2_col12\" class=\"data row2 col12\" >7.671000</td>\n",
       "      <td id=\"T_1adf2_row2_col13\" class=\"data row2 col13\" >7.671000</td>\n",
       "      <td id=\"T_1adf2_row2_col14\" class=\"data row2 col14\" >7.671000</td>\n",
       "      <td id=\"T_1adf2_row2_col15\" class=\"data row2 col15\" >7.671000</td>\n",
       "      <td id=\"T_1adf2_row2_col16\" class=\"data row2 col16\" >7.671000</td>\n",
       "      <td id=\"T_1adf2_row2_col17\" class=\"data row2 col17\" >7.670000</td>\n",
       "      <td id=\"T_1adf2_row2_col18\" class=\"data row2 col18\" >7.670000</td>\n",
       "      <td id=\"T_1adf2_row2_col19\" class=\"data row2 col19\" >7.670000</td>\n",
       "      <td id=\"T_1adf2_row2_col20\" class=\"data row2 col20\" >7.669000</td>\n",
       "      <td id=\"T_1adf2_row2_col21\" class=\"data row2 col21\" >7.669000</td>\n",
       "      <td id=\"T_1adf2_row2_col22\" class=\"data row2 col22\" >7.670000</td>\n",
       "      <td id=\"T_1adf2_row2_col23\" class=\"data row2 col23\" >7.671000</td>\n",
       "      <td id=\"T_1adf2_row2_col24\" class=\"data row2 col24\" >7.673000</td>\n",
       "      <td id=\"T_1adf2_row2_col25\" class=\"data row2 col25\" >7.676000</td>\n",
       "      <td id=\"T_1adf2_row2_col26\" class=\"data row2 col26\" >7.679000</td>\n",
       "      <td id=\"T_1adf2_row2_col27\" class=\"data row2 col27\" >7.681000</td>\n",
       "      <td id=\"T_1adf2_row2_col28\" class=\"data row2 col28\" >7.682000</td>\n",
       "      <td id=\"T_1adf2_row2_col29\" class=\"data row2 col29\" >7.682000</td>\n",
       "      <td id=\"T_1adf2_row2_col30\" class=\"data row2 col30\" >7.682000</td>\n",
       "      <td id=\"T_1adf2_row2_col31\" class=\"data row2 col31\" >7.687000</td>\n",
       "      <td id=\"T_1adf2_row2_col32\" class=\"data row2 col32\" >7.700000</td>\n",
       "      <td id=\"T_1adf2_row2_col33\" class=\"data row2 col33\" >7.725000</td>\n",
       "      <td id=\"T_1adf2_row2_col34\" class=\"data row2 col34\" >7.758000</td>\n",
       "      <td id=\"T_1adf2_row2_col35\" class=\"data row2 col35\" >7.796000</td>\n",
       "      <td id=\"T_1adf2_row2_col36\" class=\"data row2 col36\" >7.832000</td>\n",
       "      <td id=\"T_1adf2_row2_col37\" class=\"data row2 col37\" >7.859000</td>\n",
       "      <td id=\"T_1adf2_row2_col38\" class=\"data row2 col38\" >7.869000</td>\n",
       "      <td id=\"T_1adf2_row2_col39\" class=\"data row2 col39\" >7.854000</td>\n",
       "      <td id=\"T_1adf2_row2_col40\" class=\"data row2 col40\" >7.809000</td>\n",
       "      <td id=\"T_1adf2_row2_col41\" class=\"data row2 col41\" >7.733000</td>\n",
       "      <td id=\"T_1adf2_row2_col42\" class=\"data row2 col42\" >7.623000</td>\n",
       "      <td id=\"T_1adf2_row2_col43\" class=\"data row2 col43\" >7.484000</td>\n",
       "      <td id=\"T_1adf2_row2_col44\" class=\"data row2 col44\" >7.321000</td>\n",
       "      <td id=\"T_1adf2_row2_col45\" class=\"data row2 col45\" >7.136000</td>\n",
       "      <td id=\"T_1adf2_row2_col46\" class=\"data row2 col46\" >6.930000</td>\n",
       "      <td id=\"T_1adf2_row2_col47\" class=\"data row2 col47\" >6.702000</td>\n",
       "      <td id=\"T_1adf2_row2_col48\" class=\"data row2 col48\" >6.456000</td>\n",
       "      <td id=\"T_1adf2_row2_col49\" class=\"data row2 col49\" >6.196000</td>\n",
       "      <td id=\"T_1adf2_row2_col50\" class=\"data row2 col50\" >5.928000</td>\n",
       "      <td id=\"T_1adf2_row2_col51\" class=\"data row2 col51\" >5.659000</td>\n",
       "      <td id=\"T_1adf2_row2_col52\" class=\"data row2 col52\" >5.395000</td>\n",
       "      <td id=\"T_1adf2_row2_col53\" class=\"data row2 col53\" >5.141000</td>\n",
       "      <td id=\"T_1adf2_row2_col54\" class=\"data row2 col54\" >4.900000</td>\n",
       "    </tr>\n",
       "    <tr>\n",
       "      <th id=\"T_1adf2_level0_row3\" class=\"row_heading level0 row3\" >3</th>\n",
       "      <td id=\"T_1adf2_row3_col0\" class=\"data row3 col0\" >Angola</td>\n",
       "      <td id=\"T_1adf2_row3_col1\" class=\"data row3 col1\" >7.316000</td>\n",
       "      <td id=\"T_1adf2_row3_col2\" class=\"data row3 col2\" >7.354000</td>\n",
       "      <td id=\"T_1adf2_row3_col3\" class=\"data row3 col3\" >7.385000</td>\n",
       "      <td id=\"T_1adf2_row3_col4\" class=\"data row3 col4\" >7.410000</td>\n",
       "      <td id=\"T_1adf2_row3_col5\" class=\"data row3 col5\" >7.425000</td>\n",
       "      <td id=\"T_1adf2_row3_col6\" class=\"data row3 col6\" >7.430000</td>\n",
       "      <td id=\"T_1adf2_row3_col7\" class=\"data row3 col7\" >7.422000</td>\n",
       "      <td id=\"T_1adf2_row3_col8\" class=\"data row3 col8\" >7.403000</td>\n",
       "      <td id=\"T_1adf2_row3_col9\" class=\"data row3 col9\" >7.375000</td>\n",
       "      <td id=\"T_1adf2_row3_col10\" class=\"data row3 col10\" >7.339000</td>\n",
       "      <td id=\"T_1adf2_row3_col11\" class=\"data row3 col11\" >7.301000</td>\n",
       "      <td id=\"T_1adf2_row3_col12\" class=\"data row3 col12\" >7.264000</td>\n",
       "      <td id=\"T_1adf2_row3_col13\" class=\"data row3 col13\" >7.232000</td>\n",
       "      <td id=\"T_1adf2_row3_col14\" class=\"data row3 col14\" >7.208000</td>\n",
       "      <td id=\"T_1adf2_row3_col15\" class=\"data row3 col15\" >7.192000</td>\n",
       "      <td id=\"T_1adf2_row3_col16\" class=\"data row3 col16\" >7.185000</td>\n",
       "      <td id=\"T_1adf2_row3_col17\" class=\"data row3 col17\" >7.186000</td>\n",
       "      <td id=\"T_1adf2_row3_col18\" class=\"data row3 col18\" >7.189000</td>\n",
       "      <td id=\"T_1adf2_row3_col19\" class=\"data row3 col19\" >7.194000</td>\n",
       "      <td id=\"T_1adf2_row3_col20\" class=\"data row3 col20\" >7.197000</td>\n",
       "      <td id=\"T_1adf2_row3_col21\" class=\"data row3 col21\" >7.200000</td>\n",
       "      <td id=\"T_1adf2_row3_col22\" class=\"data row3 col22\" >7.201000</td>\n",
       "      <td id=\"T_1adf2_row3_col23\" class=\"data row3 col23\" >7.203000</td>\n",
       "      <td id=\"T_1adf2_row3_col24\" class=\"data row3 col24\" >7.205000</td>\n",
       "      <td id=\"T_1adf2_row3_col25\" class=\"data row3 col25\" >7.207000</td>\n",
       "      <td id=\"T_1adf2_row3_col26\" class=\"data row3 col26\" >7.208000</td>\n",
       "      <td id=\"T_1adf2_row3_col27\" class=\"data row3 col27\" >7.206000</td>\n",
       "      <td id=\"T_1adf2_row3_col28\" class=\"data row3 col28\" >7.202000</td>\n",
       "      <td id=\"T_1adf2_row3_col29\" class=\"data row3 col29\" >7.194000</td>\n",
       "      <td id=\"T_1adf2_row3_col30\" class=\"data row3 col30\" >7.182000</td>\n",
       "      <td id=\"T_1adf2_row3_col31\" class=\"data row3 col31\" >7.165000</td>\n",
       "      <td id=\"T_1adf2_row3_col32\" class=\"data row3 col32\" >7.143000</td>\n",
       "      <td id=\"T_1adf2_row3_col33\" class=\"data row3 col33\" >7.116000</td>\n",
       "      <td id=\"T_1adf2_row3_col34\" class=\"data row3 col34\" >7.087000</td>\n",
       "      <td id=\"T_1adf2_row3_col35\" class=\"data row3 col35\" >7.054000</td>\n",
       "      <td id=\"T_1adf2_row3_col36\" class=\"data row3 col36\" >7.019000</td>\n",
       "      <td id=\"T_1adf2_row3_col37\" class=\"data row3 col37\" >6.984000</td>\n",
       "      <td id=\"T_1adf2_row3_col38\" class=\"data row3 col38\" >6.949000</td>\n",
       "      <td id=\"T_1adf2_row3_col39\" class=\"data row3 col39\" >6.913000</td>\n",
       "      <td id=\"T_1adf2_row3_col40\" class=\"data row3 col40\" >6.878000</td>\n",
       "      <td id=\"T_1adf2_row3_col41\" class=\"data row3 col41\" >6.844000</td>\n",
       "      <td id=\"T_1adf2_row3_col42\" class=\"data row3 col42\" >6.811000</td>\n",
       "      <td id=\"T_1adf2_row3_col43\" class=\"data row3 col43\" >6.778000</td>\n",
       "      <td id=\"T_1adf2_row3_col44\" class=\"data row3 col44\" >6.743000</td>\n",
       "      <td id=\"T_1adf2_row3_col45\" class=\"data row3 col45\" >6.704000</td>\n",
       "      <td id=\"T_1adf2_row3_col46\" class=\"data row3 col46\" >6.657000</td>\n",
       "      <td id=\"T_1adf2_row3_col47\" class=\"data row3 col47\" >6.598000</td>\n",
       "      <td id=\"T_1adf2_row3_col48\" class=\"data row3 col48\" >6.523000</td>\n",
       "      <td id=\"T_1adf2_row3_col49\" class=\"data row3 col49\" >6.434000</td>\n",
       "      <td id=\"T_1adf2_row3_col50\" class=\"data row3 col50\" >6.331000</td>\n",
       "      <td id=\"T_1adf2_row3_col51\" class=\"data row3 col51\" >6.218000</td>\n",
       "      <td id=\"T_1adf2_row3_col52\" class=\"data row3 col52\" >6.099000</td>\n",
       "      <td id=\"T_1adf2_row3_col53\" class=\"data row3 col53\" >5.979000</td>\n",
       "      <td id=\"T_1adf2_row3_col54\" class=\"data row3 col54\" >5.863000</td>\n",
       "    </tr>\n",
       "    <tr>\n",
       "      <th id=\"T_1adf2_level0_row4\" class=\"row_heading level0 row4\" >4</th>\n",
       "      <td id=\"T_1adf2_row4_col0\" class=\"data row4 col0\" >Albania</td>\n",
       "      <td id=\"T_1adf2_row4_col1\" class=\"data row4 col1\" >6.186000</td>\n",
       "      <td id=\"T_1adf2_row4_col2\" class=\"data row4 col2\" >6.076000</td>\n",
       "      <td id=\"T_1adf2_row4_col3\" class=\"data row4 col3\" >5.956000</td>\n",
       "      <td id=\"T_1adf2_row4_col4\" class=\"data row4 col4\" >5.833000</td>\n",
       "      <td id=\"T_1adf2_row4_col5\" class=\"data row4 col5\" >5.711000</td>\n",
       "      <td id=\"T_1adf2_row4_col6\" class=\"data row4 col6\" >5.594000</td>\n",
       "      <td id=\"T_1adf2_row4_col7\" class=\"data row4 col7\" >5.483000</td>\n",
       "      <td id=\"T_1adf2_row4_col8\" class=\"data row4 col8\" >5.376000</td>\n",
       "      <td id=\"T_1adf2_row4_col9\" class=\"data row4 col9\" >5.268000</td>\n",
       "      <td id=\"T_1adf2_row4_col10\" class=\"data row4 col10\" >5.160000</td>\n",
       "      <td id=\"T_1adf2_row4_col11\" class=\"data row4 col11\" >5.050000</td>\n",
       "      <td id=\"T_1adf2_row4_col12\" class=\"data row4 col12\" >4.933000</td>\n",
       "      <td id=\"T_1adf2_row4_col13\" class=\"data row4 col13\" >4.809000</td>\n",
       "      <td id=\"T_1adf2_row4_col14\" class=\"data row4 col14\" >4.677000</td>\n",
       "      <td id=\"T_1adf2_row4_col15\" class=\"data row4 col15\" >4.538000</td>\n",
       "      <td id=\"T_1adf2_row4_col16\" class=\"data row4 col16\" >4.393000</td>\n",
       "      <td id=\"T_1adf2_row4_col17\" class=\"data row4 col17\" >4.244000</td>\n",
       "      <td id=\"T_1adf2_row4_col18\" class=\"data row4 col18\" >4.094000</td>\n",
       "      <td id=\"T_1adf2_row4_col19\" class=\"data row4 col19\" >3.947000</td>\n",
       "      <td id=\"T_1adf2_row4_col20\" class=\"data row4 col20\" >3.807000</td>\n",
       "      <td id=\"T_1adf2_row4_col21\" class=\"data row4 col21\" >3.678000</td>\n",
       "      <td id=\"T_1adf2_row4_col22\" class=\"data row4 col22\" >3.562000</td>\n",
       "      <td id=\"T_1adf2_row4_col23\" class=\"data row4 col23\" >3.460000</td>\n",
       "      <td id=\"T_1adf2_row4_col24\" class=\"data row4 col24\" >3.372000</td>\n",
       "      <td id=\"T_1adf2_row4_col25\" class=\"data row4 col25\" >3.297000</td>\n",
       "      <td id=\"T_1adf2_row4_col26\" class=\"data row4 col26\" >3.233000</td>\n",
       "      <td id=\"T_1adf2_row4_col27\" class=\"data row4 col27\" >3.177000</td>\n",
       "      <td id=\"T_1adf2_row4_col28\" class=\"data row4 col28\" >3.126000</td>\n",
       "      <td id=\"T_1adf2_row4_col29\" class=\"data row4 col29\" >3.075000</td>\n",
       "      <td id=\"T_1adf2_row4_col30\" class=\"data row4 col30\" >3.023000</td>\n",
       "      <td id=\"T_1adf2_row4_col31\" class=\"data row4 col31\" >2.970000</td>\n",
       "      <td id=\"T_1adf2_row4_col32\" class=\"data row4 col32\" >2.917000</td>\n",
       "      <td id=\"T_1adf2_row4_col33\" class=\"data row4 col33\" >2.867000</td>\n",
       "      <td id=\"T_1adf2_row4_col34\" class=\"data row4 col34\" >2.819000</td>\n",
       "      <td id=\"T_1adf2_row4_col35\" class=\"data row4 col35\" >2.772000</td>\n",
       "      <td id=\"T_1adf2_row4_col36\" class=\"data row4 col36\" >2.723000</td>\n",
       "      <td id=\"T_1adf2_row4_col37\" class=\"data row4 col37\" >2.670000</td>\n",
       "      <td id=\"T_1adf2_row4_col38\" class=\"data row4 col38\" >2.611000</td>\n",
       "      <td id=\"T_1adf2_row4_col39\" class=\"data row4 col39\" >2.543000</td>\n",
       "      <td id=\"T_1adf2_row4_col40\" class=\"data row4 col40\" >2.467000</td>\n",
       "      <td id=\"T_1adf2_row4_col41\" class=\"data row4 col41\" >2.383000</td>\n",
       "      <td id=\"T_1adf2_row4_col42\" class=\"data row4 col42\" >2.291000</td>\n",
       "      <td id=\"T_1adf2_row4_col43\" class=\"data row4 col43\" >2.195000</td>\n",
       "      <td id=\"T_1adf2_row4_col44\" class=\"data row4 col44\" >2.097000</td>\n",
       "      <td id=\"T_1adf2_row4_col45\" class=\"data row4 col45\" >2.004000</td>\n",
       "      <td id=\"T_1adf2_row4_col46\" class=\"data row4 col46\" >1.919000</td>\n",
       "      <td id=\"T_1adf2_row4_col47\" class=\"data row4 col47\" >1.849000</td>\n",
       "      <td id=\"T_1adf2_row4_col48\" class=\"data row4 col48\" >1.796000</td>\n",
       "      <td id=\"T_1adf2_row4_col49\" class=\"data row4 col49\" >1.761000</td>\n",
       "      <td id=\"T_1adf2_row4_col50\" class=\"data row4 col50\" >1.744000</td>\n",
       "      <td id=\"T_1adf2_row4_col51\" class=\"data row4 col51\" >1.741000</td>\n",
       "      <td id=\"T_1adf2_row4_col52\" class=\"data row4 col52\" >1.748000</td>\n",
       "      <td id=\"T_1adf2_row4_col53\" class=\"data row4 col53\" >1.760000</td>\n",
       "      <td id=\"T_1adf2_row4_col54\" class=\"data row4 col54\" >1.771000</td>\n",
       "    </tr>\n",
       "    <tr>\n",
       "      <th id=\"T_1adf2_level0_row5\" class=\"row_heading level0 row5\" >5</th>\n",
       "      <td id=\"T_1adf2_row5_col0\" class=\"data row5 col0\" >United Arab Emirates</td>\n",
       "      <td id=\"T_1adf2_row5_col1\" class=\"data row5 col1\" >6.928000</td>\n",
       "      <td id=\"T_1adf2_row5_col2\" class=\"data row5 col2\" >6.910000</td>\n",
       "      <td id=\"T_1adf2_row5_col3\" class=\"data row5 col3\" >6.893000</td>\n",
       "      <td id=\"T_1adf2_row5_col4\" class=\"data row5 col4\" >6.877000</td>\n",
       "      <td id=\"T_1adf2_row5_col5\" class=\"data row5 col5\" >6.861000</td>\n",
       "      <td id=\"T_1adf2_row5_col6\" class=\"data row5 col6\" >6.841000</td>\n",
       "      <td id=\"T_1adf2_row5_col7\" class=\"data row5 col7\" >6.816000</td>\n",
       "      <td id=\"T_1adf2_row5_col8\" class=\"data row5 col8\" >6.783000</td>\n",
       "      <td id=\"T_1adf2_row5_col9\" class=\"data row5 col9\" >6.738000</td>\n",
       "      <td id=\"T_1adf2_row5_col10\" class=\"data row5 col10\" >6.679000</td>\n",
       "      <td id=\"T_1adf2_row5_col11\" class=\"data row5 col11\" >6.605000</td>\n",
       "      <td id=\"T_1adf2_row5_col12\" class=\"data row5 col12\" >6.512000</td>\n",
       "      <td id=\"T_1adf2_row5_col13\" class=\"data row5 col13\" >6.402000</td>\n",
       "      <td id=\"T_1adf2_row5_col14\" class=\"data row5 col14\" >6.279000</td>\n",
       "      <td id=\"T_1adf2_row5_col15\" class=\"data row5 col15\" >6.146000</td>\n",
       "      <td id=\"T_1adf2_row5_col16\" class=\"data row5 col16\" >6.009000</td>\n",
       "      <td id=\"T_1adf2_row5_col17\" class=\"data row5 col17\" >5.873000</td>\n",
       "      <td id=\"T_1adf2_row5_col18\" class=\"data row5 col18\" >5.744000</td>\n",
       "      <td id=\"T_1adf2_row5_col19\" class=\"data row5 col19\" >5.624000</td>\n",
       "      <td id=\"T_1adf2_row5_col20\" class=\"data row5 col20\" >5.517000</td>\n",
       "      <td id=\"T_1adf2_row5_col21\" class=\"data row5 col21\" >5.423000</td>\n",
       "      <td id=\"T_1adf2_row5_col22\" class=\"data row5 col22\" >5.344000</td>\n",
       "      <td id=\"T_1adf2_row5_col23\" class=\"data row5 col23\" >5.274000</td>\n",
       "      <td id=\"T_1adf2_row5_col24\" class=\"data row5 col24\" >5.209000</td>\n",
       "      <td id=\"T_1adf2_row5_col25\" class=\"data row5 col25\" >5.141000</td>\n",
       "      <td id=\"T_1adf2_row5_col26\" class=\"data row5 col26\" >5.065000</td>\n",
       "      <td id=\"T_1adf2_row5_col27\" class=\"data row5 col27\" >4.973000</td>\n",
       "      <td id=\"T_1adf2_row5_col28\" class=\"data row5 col28\" >4.860000</td>\n",
       "      <td id=\"T_1adf2_row5_col29\" class=\"data row5 col29\" >4.724000</td>\n",
       "      <td id=\"T_1adf2_row5_col30\" class=\"data row5 col30\" >4.566000</td>\n",
       "      <td id=\"T_1adf2_row5_col31\" class=\"data row5 col31\" >4.388000</td>\n",
       "      <td id=\"T_1adf2_row5_col32\" class=\"data row5 col32\" >4.193000</td>\n",
       "      <td id=\"T_1adf2_row5_col33\" class=\"data row5 col33\" >3.989000</td>\n",
       "      <td id=\"T_1adf2_row5_col34\" class=\"data row5 col34\" >3.784000</td>\n",
       "      <td id=\"T_1adf2_row5_col35\" class=\"data row5 col35\" >3.583000</td>\n",
       "      <td id=\"T_1adf2_row5_col36\" class=\"data row5 col36\" >3.393000</td>\n",
       "      <td id=\"T_1adf2_row5_col37\" class=\"data row5 col37\" >3.215000</td>\n",
       "      <td id=\"T_1adf2_row5_col38\" class=\"data row5 col38\" >3.052000</td>\n",
       "      <td id=\"T_1adf2_row5_col39\" class=\"data row5 col39\" >2.902000</td>\n",
       "      <td id=\"T_1adf2_row5_col40\" class=\"data row5 col40\" >2.766000</td>\n",
       "      <td id=\"T_1adf2_row5_col41\" class=\"data row5 col41\" >2.644000</td>\n",
       "      <td id=\"T_1adf2_row5_col42\" class=\"data row5 col42\" >2.532000</td>\n",
       "      <td id=\"T_1adf2_row5_col43\" class=\"data row5 col43\" >2.428000</td>\n",
       "      <td id=\"T_1adf2_row5_col44\" class=\"data row5 col44\" >2.329000</td>\n",
       "      <td id=\"T_1adf2_row5_col45\" class=\"data row5 col45\" >2.236000</td>\n",
       "      <td id=\"T_1adf2_row5_col46\" class=\"data row5 col46\" >2.149000</td>\n",
       "      <td id=\"T_1adf2_row5_col47\" class=\"data row5 col47\" >2.071000</td>\n",
       "      <td id=\"T_1adf2_row5_col48\" class=\"data row5 col48\" >2.004000</td>\n",
       "      <td id=\"T_1adf2_row5_col49\" class=\"data row5 col49\" >1.948000</td>\n",
       "      <td id=\"T_1adf2_row5_col50\" class=\"data row5 col50\" >1.903000</td>\n",
       "      <td id=\"T_1adf2_row5_col51\" class=\"data row5 col51\" >1.868000</td>\n",
       "      <td id=\"T_1adf2_row5_col52\" class=\"data row5 col52\" >1.841000</td>\n",
       "      <td id=\"T_1adf2_row5_col53\" class=\"data row5 col53\" >1.820000</td>\n",
       "      <td id=\"T_1adf2_row5_col54\" class=\"data row5 col54\" >1.801000</td>\n",
       "    </tr>\n",
       "    <tr>\n",
       "      <th id=\"T_1adf2_level0_row6\" class=\"row_heading level0 row6\" >6</th>\n",
       "      <td id=\"T_1adf2_row6_col0\" class=\"data row6 col0\" >Argentina</td>\n",
       "      <td id=\"T_1adf2_row6_col1\" class=\"data row6 col1\" >3.109000</td>\n",
       "      <td id=\"T_1adf2_row6_col2\" class=\"data row6 col2\" >3.100000</td>\n",
       "      <td id=\"T_1adf2_row6_col3\" class=\"data row6 col3\" >3.089000</td>\n",
       "      <td id=\"T_1adf2_row6_col4\" class=\"data row6 col4\" >3.078000</td>\n",
       "      <td id=\"T_1adf2_row6_col5\" class=\"data row6 col5\" >3.068000</td>\n",
       "      <td id=\"T_1adf2_row6_col6\" class=\"data row6 col6\" >3.058000</td>\n",
       "      <td id=\"T_1adf2_row6_col7\" class=\"data row6 col7\" >3.051000</td>\n",
       "      <td id=\"T_1adf2_row6_col8\" class=\"data row6 col8\" >3.048000</td>\n",
       "      <td id=\"T_1adf2_row6_col9\" class=\"data row6 col9\" >3.049000</td>\n",
       "      <td id=\"T_1adf2_row6_col10\" class=\"data row6 col10\" >3.056000</td>\n",
       "      <td id=\"T_1adf2_row6_col11\" class=\"data row6 col11\" >3.073000</td>\n",
       "      <td id=\"T_1adf2_row6_col12\" class=\"data row6 col12\" >3.104000</td>\n",
       "      <td id=\"T_1adf2_row6_col13\" class=\"data row6 col13\" >3.148000</td>\n",
       "      <td id=\"T_1adf2_row6_col14\" class=\"data row6 col14\" >3.203000</td>\n",
       "      <td id=\"T_1adf2_row6_col15\" class=\"data row6 col15\" >3.264000</td>\n",
       "      <td id=\"T_1adf2_row6_col16\" class=\"data row6 col16\" >3.321000</td>\n",
       "      <td id=\"T_1adf2_row6_col17\" class=\"data row6 col17\" >3.366000</td>\n",
       "      <td id=\"T_1adf2_row6_col18\" class=\"data row6 col18\" >3.391000</td>\n",
       "      <td id=\"T_1adf2_row6_col19\" class=\"data row6 col19\" >3.391000</td>\n",
       "      <td id=\"T_1adf2_row6_col20\" class=\"data row6 col20\" >3.368000</td>\n",
       "      <td id=\"T_1adf2_row6_col21\" class=\"data row6 col21\" >3.325000</td>\n",
       "      <td id=\"T_1adf2_row6_col22\" class=\"data row6 col22\" >3.270000</td>\n",
       "      <td id=\"T_1adf2_row6_col23\" class=\"data row6 col23\" >3.213000</td>\n",
       "      <td id=\"T_1adf2_row6_col24\" class=\"data row6 col24\" >3.163000</td>\n",
       "      <td id=\"T_1adf2_row6_col25\" class=\"data row6 col25\" >3.123000</td>\n",
       "      <td id=\"T_1adf2_row6_col26\" class=\"data row6 col26\" >3.093000</td>\n",
       "      <td id=\"T_1adf2_row6_col27\" class=\"data row6 col27\" >3.073000</td>\n",
       "      <td id=\"T_1adf2_row6_col28\" class=\"data row6 col28\" >3.056000</td>\n",
       "      <td id=\"T_1adf2_row6_col29\" class=\"data row6 col29\" >3.037000</td>\n",
       "      <td id=\"T_1adf2_row6_col30\" class=\"data row6 col30\" >3.016000</td>\n",
       "      <td id=\"T_1adf2_row6_col31\" class=\"data row6 col31\" >2.989000</td>\n",
       "      <td id=\"T_1adf2_row6_col32\" class=\"data row6 col32\" >2.956000</td>\n",
       "      <td id=\"T_1adf2_row6_col33\" class=\"data row6 col33\" >2.918000</td>\n",
       "      <td id=\"T_1adf2_row6_col34\" class=\"data row6 col34\" >2.875000</td>\n",
       "      <td id=\"T_1adf2_row6_col35\" class=\"data row6 col35\" >2.827000</td>\n",
       "      <td id=\"T_1adf2_row6_col36\" class=\"data row6 col36\" >2.774000</td>\n",
       "      <td id=\"T_1adf2_row6_col37\" class=\"data row6 col37\" >2.717000</td>\n",
       "      <td id=\"T_1adf2_row6_col38\" class=\"data row6 col38\" >2.657000</td>\n",
       "      <td id=\"T_1adf2_row6_col39\" class=\"data row6 col39\" >2.596000</td>\n",
       "      <td id=\"T_1adf2_row6_col40\" class=\"data row6 col40\" >2.535000</td>\n",
       "      <td id=\"T_1adf2_row6_col41\" class=\"data row6 col41\" >2.477000</td>\n",
       "      <td id=\"T_1adf2_row6_col42\" class=\"data row6 col42\" >2.424000</td>\n",
       "      <td id=\"T_1adf2_row6_col43\" class=\"data row6 col43\" >2.379000</td>\n",
       "      <td id=\"T_1adf2_row6_col44\" class=\"data row6 col44\" >2.340000</td>\n",
       "      <td id=\"T_1adf2_row6_col45\" class=\"data row6 col45\" >2.310000</td>\n",
       "      <td id=\"T_1adf2_row6_col46\" class=\"data row6 col46\" >2.286000</td>\n",
       "      <td id=\"T_1adf2_row6_col47\" class=\"data row6 col47\" >2.268000</td>\n",
       "      <td id=\"T_1adf2_row6_col48\" class=\"data row6 col48\" >2.254000</td>\n",
       "      <td id=\"T_1adf2_row6_col49\" class=\"data row6 col49\" >2.241000</td>\n",
       "      <td id=\"T_1adf2_row6_col50\" class=\"data row6 col50\" >2.228000</td>\n",
       "      <td id=\"T_1adf2_row6_col51\" class=\"data row6 col51\" >2.215000</td>\n",
       "      <td id=\"T_1adf2_row6_col52\" class=\"data row6 col52\" >2.201000</td>\n",
       "      <td id=\"T_1adf2_row6_col53\" class=\"data row6 col53\" >2.188000</td>\n",
       "      <td id=\"T_1adf2_row6_col54\" class=\"data row6 col54\" >2.175000</td>\n",
       "    </tr>\n",
       "    <tr>\n",
       "      <th id=\"T_1adf2_level0_row7\" class=\"row_heading level0 row7\" >7</th>\n",
       "      <td id=\"T_1adf2_row7_col0\" class=\"data row7 col0\" >Armenia</td>\n",
       "      <td id=\"T_1adf2_row7_col1\" class=\"data row7 col1\" >4.550000</td>\n",
       "      <td id=\"T_1adf2_row7_col2\" class=\"data row7 col2\" >4.512000</td>\n",
       "      <td id=\"T_1adf2_row7_col3\" class=\"data row7 col3\" >4.435000</td>\n",
       "      <td id=\"T_1adf2_row7_col4\" class=\"data row7 col4\" >4.317000</td>\n",
       "      <td id=\"T_1adf2_row7_col5\" class=\"data row7 col5\" >4.161000</td>\n",
       "      <td id=\"T_1adf2_row7_col6\" class=\"data row7 col6\" >3.979000</td>\n",
       "      <td id=\"T_1adf2_row7_col7\" class=\"data row7 col7\" >3.788000</td>\n",
       "      <td id=\"T_1adf2_row7_col8\" class=\"data row7 col8\" >3.606000</td>\n",
       "      <td id=\"T_1adf2_row7_col9\" class=\"data row7 col9\" >3.447000</td>\n",
       "      <td id=\"T_1adf2_row7_col10\" class=\"data row7 col10\" >3.314000</td>\n",
       "      <td id=\"T_1adf2_row7_col11\" class=\"data row7 col11\" >3.208000</td>\n",
       "      <td id=\"T_1adf2_row7_col12\" class=\"data row7 col12\" >3.118000</td>\n",
       "      <td id=\"T_1adf2_row7_col13\" class=\"data row7 col13\" >3.032000</td>\n",
       "      <td id=\"T_1adf2_row7_col14\" class=\"data row7 col14\" >2.942000</td>\n",
       "      <td id=\"T_1adf2_row7_col15\" class=\"data row7 col15\" >2.846000</td>\n",
       "      <td id=\"T_1adf2_row7_col16\" class=\"data row7 col16\" >2.745000</td>\n",
       "      <td id=\"T_1adf2_row7_col17\" class=\"data row7 col17\" >2.646000</td>\n",
       "      <td id=\"T_1adf2_row7_col18\" class=\"data row7 col18\" >2.555000</td>\n",
       "      <td id=\"T_1adf2_row7_col19\" class=\"data row7 col19\" >2.479000</td>\n",
       "      <td id=\"T_1adf2_row7_col20\" class=\"data row7 col20\" >2.421000</td>\n",
       "      <td id=\"T_1adf2_row7_col21\" class=\"data row7 col21\" >2.385000</td>\n",
       "      <td id=\"T_1adf2_row7_col22\" class=\"data row7 col22\" >2.373000</td>\n",
       "      <td id=\"T_1adf2_row7_col23\" class=\"data row7 col23\" >2.381000</td>\n",
       "      <td id=\"T_1adf2_row7_col24\" class=\"data row7 col24\" >2.406000</td>\n",
       "      <td id=\"T_1adf2_row7_col25\" class=\"data row7 col25\" >2.441000</td>\n",
       "      <td id=\"T_1adf2_row7_col26\" class=\"data row7 col26\" >2.481000</td>\n",
       "      <td id=\"T_1adf2_row7_col27\" class=\"data row7 col27\" >2.519000</td>\n",
       "      <td id=\"T_1adf2_row7_col28\" class=\"data row7 col28\" >2.549000</td>\n",
       "      <td id=\"T_1adf2_row7_col29\" class=\"data row7 col29\" >2.566000</td>\n",
       "      <td id=\"T_1adf2_row7_col30\" class=\"data row7 col30\" >2.565000</td>\n",
       "      <td id=\"T_1adf2_row7_col31\" class=\"data row7 col31\" >2.538000</td>\n",
       "      <td id=\"T_1adf2_row7_col32\" class=\"data row7 col32\" >2.482000</td>\n",
       "      <td id=\"T_1adf2_row7_col33\" class=\"data row7 col33\" >2.399000</td>\n",
       "      <td id=\"T_1adf2_row7_col34\" class=\"data row7 col34\" >2.295000</td>\n",
       "      <td id=\"T_1adf2_row7_col35\" class=\"data row7 col35\" >2.176000</td>\n",
       "      <td id=\"T_1adf2_row7_col36\" class=\"data row7 col36\" >2.053000</td>\n",
       "      <td id=\"T_1adf2_row7_col37\" class=\"data row7 col37\" >1.938000</td>\n",
       "      <td id=\"T_1adf2_row7_col38\" class=\"data row7 col38\" >1.838000</td>\n",
       "      <td id=\"T_1adf2_row7_col39\" class=\"data row7 col39\" >1.762000</td>\n",
       "      <td id=\"T_1adf2_row7_col40\" class=\"data row7 col40\" >1.712000</td>\n",
       "      <td id=\"T_1adf2_row7_col41\" class=\"data row7 col41\" >1.688000</td>\n",
       "      <td id=\"T_1adf2_row7_col42\" class=\"data row7 col42\" >1.684000</td>\n",
       "      <td id=\"T_1adf2_row7_col43\" class=\"data row7 col43\" >1.692000</td>\n",
       "      <td id=\"T_1adf2_row7_col44\" class=\"data row7 col44\" >1.704000</td>\n",
       "      <td id=\"T_1adf2_row7_col45\" class=\"data row7 col45\" >1.715000</td>\n",
       "      <td id=\"T_1adf2_row7_col46\" class=\"data row7 col46\" >1.724000</td>\n",
       "      <td id=\"T_1adf2_row7_col47\" class=\"data row7 col47\" >1.728000</td>\n",
       "      <td id=\"T_1adf2_row7_col48\" class=\"data row7 col48\" >1.731000</td>\n",
       "      <td id=\"T_1adf2_row7_col49\" class=\"data row7 col49\" >1.734000</td>\n",
       "      <td id=\"T_1adf2_row7_col50\" class=\"data row7 col50\" >1.736000</td>\n",
       "      <td id=\"T_1adf2_row7_col51\" class=\"data row7 col51\" >1.738000</td>\n",
       "      <td id=\"T_1adf2_row7_col52\" class=\"data row7 col52\" >1.738000</td>\n",
       "      <td id=\"T_1adf2_row7_col53\" class=\"data row7 col53\" >1.739000</td>\n",
       "      <td id=\"T_1adf2_row7_col54\" class=\"data row7 col54\" >1.740000</td>\n",
       "    </tr>\n",
       "    <tr>\n",
       "      <th id=\"T_1adf2_level0_row8\" class=\"row_heading level0 row8\" >8</th>\n",
       "      <td id=\"T_1adf2_row8_col0\" class=\"data row8 col0\" >American Samoa</td>\n",
       "      <td id=\"T_1adf2_row8_col1\" class=\"data row8 col1\" >nan</td>\n",
       "      <td id=\"T_1adf2_row8_col2\" class=\"data row8 col2\" >nan</td>\n",
       "      <td id=\"T_1adf2_row8_col3\" class=\"data row8 col3\" >nan</td>\n",
       "      <td id=\"T_1adf2_row8_col4\" class=\"data row8 col4\" >nan</td>\n",
       "      <td id=\"T_1adf2_row8_col5\" class=\"data row8 col5\" >nan</td>\n",
       "      <td id=\"T_1adf2_row8_col6\" class=\"data row8 col6\" >nan</td>\n",
       "      <td id=\"T_1adf2_row8_col7\" class=\"data row8 col7\" >nan</td>\n",
       "      <td id=\"T_1adf2_row8_col8\" class=\"data row8 col8\" >nan</td>\n",
       "      <td id=\"T_1adf2_row8_col9\" class=\"data row8 col9\" >nan</td>\n",
       "      <td id=\"T_1adf2_row8_col10\" class=\"data row8 col10\" >nan</td>\n",
       "      <td id=\"T_1adf2_row8_col11\" class=\"data row8 col11\" >nan</td>\n",
       "      <td id=\"T_1adf2_row8_col12\" class=\"data row8 col12\" >nan</td>\n",
       "      <td id=\"T_1adf2_row8_col13\" class=\"data row8 col13\" >nan</td>\n",
       "      <td id=\"T_1adf2_row8_col14\" class=\"data row8 col14\" >nan</td>\n",
       "      <td id=\"T_1adf2_row8_col15\" class=\"data row8 col15\" >nan</td>\n",
       "      <td id=\"T_1adf2_row8_col16\" class=\"data row8 col16\" >nan</td>\n",
       "      <td id=\"T_1adf2_row8_col17\" class=\"data row8 col17\" >nan</td>\n",
       "      <td id=\"T_1adf2_row8_col18\" class=\"data row8 col18\" >nan</td>\n",
       "      <td id=\"T_1adf2_row8_col19\" class=\"data row8 col19\" >nan</td>\n",
       "      <td id=\"T_1adf2_row8_col20\" class=\"data row8 col20\" >nan</td>\n",
       "      <td id=\"T_1adf2_row8_col21\" class=\"data row8 col21\" >nan</td>\n",
       "      <td id=\"T_1adf2_row8_col22\" class=\"data row8 col22\" >nan</td>\n",
       "      <td id=\"T_1adf2_row8_col23\" class=\"data row8 col23\" >nan</td>\n",
       "      <td id=\"T_1adf2_row8_col24\" class=\"data row8 col24\" >nan</td>\n",
       "      <td id=\"T_1adf2_row8_col25\" class=\"data row8 col25\" >nan</td>\n",
       "      <td id=\"T_1adf2_row8_col26\" class=\"data row8 col26\" >nan</td>\n",
       "      <td id=\"T_1adf2_row8_col27\" class=\"data row8 col27\" >nan</td>\n",
       "      <td id=\"T_1adf2_row8_col28\" class=\"data row8 col28\" >nan</td>\n",
       "      <td id=\"T_1adf2_row8_col29\" class=\"data row8 col29\" >nan</td>\n",
       "      <td id=\"T_1adf2_row8_col30\" class=\"data row8 col30\" >nan</td>\n",
       "      <td id=\"T_1adf2_row8_col31\" class=\"data row8 col31\" >nan</td>\n",
       "      <td id=\"T_1adf2_row8_col32\" class=\"data row8 col32\" >nan</td>\n",
       "      <td id=\"T_1adf2_row8_col33\" class=\"data row8 col33\" >nan</td>\n",
       "      <td id=\"T_1adf2_row8_col34\" class=\"data row8 col34\" >nan</td>\n",
       "      <td id=\"T_1adf2_row8_col35\" class=\"data row8 col35\" >nan</td>\n",
       "      <td id=\"T_1adf2_row8_col36\" class=\"data row8 col36\" >nan</td>\n",
       "      <td id=\"T_1adf2_row8_col37\" class=\"data row8 col37\" >nan</td>\n",
       "      <td id=\"T_1adf2_row8_col38\" class=\"data row8 col38\" >nan</td>\n",
       "      <td id=\"T_1adf2_row8_col39\" class=\"data row8 col39\" >nan</td>\n",
       "      <td id=\"T_1adf2_row8_col40\" class=\"data row8 col40\" >nan</td>\n",
       "      <td id=\"T_1adf2_row8_col41\" class=\"data row8 col41\" >nan</td>\n",
       "      <td id=\"T_1adf2_row8_col42\" class=\"data row8 col42\" >nan</td>\n",
       "      <td id=\"T_1adf2_row8_col43\" class=\"data row8 col43\" >nan</td>\n",
       "      <td id=\"T_1adf2_row8_col44\" class=\"data row8 col44\" >nan</td>\n",
       "      <td id=\"T_1adf2_row8_col45\" class=\"data row8 col45\" >nan</td>\n",
       "      <td id=\"T_1adf2_row8_col46\" class=\"data row8 col46\" >nan</td>\n",
       "      <td id=\"T_1adf2_row8_col47\" class=\"data row8 col47\" >nan</td>\n",
       "      <td id=\"T_1adf2_row8_col48\" class=\"data row8 col48\" >nan</td>\n",
       "      <td id=\"T_1adf2_row8_col49\" class=\"data row8 col49\" >nan</td>\n",
       "      <td id=\"T_1adf2_row8_col50\" class=\"data row8 col50\" >nan</td>\n",
       "      <td id=\"T_1adf2_row8_col51\" class=\"data row8 col51\" >nan</td>\n",
       "      <td id=\"T_1adf2_row8_col52\" class=\"data row8 col52\" >nan</td>\n",
       "      <td id=\"T_1adf2_row8_col53\" class=\"data row8 col53\" >nan</td>\n",
       "      <td id=\"T_1adf2_row8_col54\" class=\"data row8 col54\" >nan</td>\n",
       "    </tr>\n",
       "    <tr>\n",
       "      <th id=\"T_1adf2_level0_row9\" class=\"row_heading level0 row9\" >9</th>\n",
       "      <td id=\"T_1adf2_row9_col0\" class=\"data row9 col0\" >Antigua and Barbuda</td>\n",
       "      <td id=\"T_1adf2_row9_col1\" class=\"data row9 col1\" >4.425000</td>\n",
       "      <td id=\"T_1adf2_row9_col2\" class=\"data row9 col2\" >4.386000</td>\n",
       "      <td id=\"T_1adf2_row9_col3\" class=\"data row9 col3\" >4.344000</td>\n",
       "      <td id=\"T_1adf2_row9_col4\" class=\"data row9 col4\" >4.299000</td>\n",
       "      <td id=\"T_1adf2_row9_col5\" class=\"data row9 col5\" >4.250000</td>\n",
       "      <td id=\"T_1adf2_row9_col6\" class=\"data row9 col6\" >4.193000</td>\n",
       "      <td id=\"T_1adf2_row9_col7\" class=\"data row9 col7\" >4.125000</td>\n",
       "      <td id=\"T_1adf2_row9_col8\" class=\"data row9 col8\" >4.042000</td>\n",
       "      <td id=\"T_1adf2_row9_col9\" class=\"data row9 col9\" >3.942000</td>\n",
       "      <td id=\"T_1adf2_row9_col10\" class=\"data row9 col10\" >3.824000</td>\n",
       "      <td id=\"T_1adf2_row9_col11\" class=\"data row9 col11\" >3.684000</td>\n",
       "      <td id=\"T_1adf2_row9_col12\" class=\"data row9 col12\" >3.517000</td>\n",
       "      <td id=\"T_1adf2_row9_col13\" class=\"data row9 col13\" >3.328000</td>\n",
       "      <td id=\"T_1adf2_row9_col14\" class=\"data row9 col14\" >3.122000</td>\n",
       "      <td id=\"T_1adf2_row9_col15\" class=\"data row9 col15\" >2.908000</td>\n",
       "      <td id=\"T_1adf2_row9_col16\" class=\"data row9 col16\" >2.701000</td>\n",
       "      <td id=\"T_1adf2_row9_col17\" class=\"data row9 col17\" >2.514000</td>\n",
       "      <td id=\"T_1adf2_row9_col18\" class=\"data row9 col18\" >2.358000</td>\n",
       "      <td id=\"T_1adf2_row9_col19\" class=\"data row9 col19\" >2.239000</td>\n",
       "      <td id=\"T_1adf2_row9_col20\" class=\"data row9 col20\" >2.159000</td>\n",
       "      <td id=\"T_1adf2_row9_col21\" class=\"data row9 col21\" >2.115000</td>\n",
       "      <td id=\"T_1adf2_row9_col22\" class=\"data row9 col22\" >2.098000</td>\n",
       "      <td id=\"T_1adf2_row9_col23\" class=\"data row9 col23\" >2.096000</td>\n",
       "      <td id=\"T_1adf2_row9_col24\" class=\"data row9 col24\" >2.098000</td>\n",
       "      <td id=\"T_1adf2_row9_col25\" class=\"data row9 col25\" >2.098000</td>\n",
       "      <td id=\"T_1adf2_row9_col26\" class=\"data row9 col26\" >2.092000</td>\n",
       "      <td id=\"T_1adf2_row9_col27\" class=\"data row9 col27\" >2.082000</td>\n",
       "      <td id=\"T_1adf2_row9_col28\" class=\"data row9 col28\" >2.070000</td>\n",
       "      <td id=\"T_1adf2_row9_col29\" class=\"data row9 col29\" >2.062000</td>\n",
       "      <td id=\"T_1adf2_row9_col30\" class=\"data row9 col30\" >2.058000</td>\n",
       "      <td id=\"T_1adf2_row9_col31\" class=\"data row9 col31\" >2.061000</td>\n",
       "      <td id=\"T_1adf2_row9_col32\" class=\"data row9 col32\" >2.073000</td>\n",
       "      <td id=\"T_1adf2_row9_col33\" class=\"data row9 col33\" >2.096000</td>\n",
       "      <td id=\"T_1adf2_row9_col34\" class=\"data row9 col34\" >2.128000</td>\n",
       "      <td id=\"T_1adf2_row9_col35\" class=\"data row9 col35\" >2.166000</td>\n",
       "      <td id=\"T_1adf2_row9_col36\" class=\"data row9 col36\" >2.208000</td>\n",
       "      <td id=\"T_1adf2_row9_col37\" class=\"data row9 col37\" >2.248000</td>\n",
       "      <td id=\"T_1adf2_row9_col38\" class=\"data row9 col38\" >2.281000</td>\n",
       "      <td id=\"T_1adf2_row9_col39\" class=\"data row9 col39\" >2.304000</td>\n",
       "      <td id=\"T_1adf2_row9_col40\" class=\"data row9 col40\" >2.316000</td>\n",
       "      <td id=\"T_1adf2_row9_col41\" class=\"data row9 col41\" >2.316000</td>\n",
       "      <td id=\"T_1adf2_row9_col42\" class=\"data row9 col42\" >2.305000</td>\n",
       "      <td id=\"T_1adf2_row9_col43\" class=\"data row9 col43\" >2.288000</td>\n",
       "      <td id=\"T_1adf2_row9_col44\" class=\"data row9 col44\" >2.268000</td>\n",
       "      <td id=\"T_1adf2_row9_col45\" class=\"data row9 col45\" >2.246000</td>\n",
       "      <td id=\"T_1adf2_row9_col46\" class=\"data row9 col46\" >2.224000</td>\n",
       "      <td id=\"T_1adf2_row9_col47\" class=\"data row9 col47\" >2.203000</td>\n",
       "      <td id=\"T_1adf2_row9_col48\" class=\"data row9 col48\" >2.183000</td>\n",
       "      <td id=\"T_1adf2_row9_col49\" class=\"data row9 col49\" >2.164000</td>\n",
       "      <td id=\"T_1adf2_row9_col50\" class=\"data row9 col50\" >2.146000</td>\n",
       "      <td id=\"T_1adf2_row9_col51\" class=\"data row9 col51\" >2.130000</td>\n",
       "      <td id=\"T_1adf2_row9_col52\" class=\"data row9 col52\" >2.115000</td>\n",
       "      <td id=\"T_1adf2_row9_col53\" class=\"data row9 col53\" >2.102000</td>\n",
       "      <td id=\"T_1adf2_row9_col54\" class=\"data row9 col54\" >2.089000</td>\n",
       "    </tr>\n",
       "  </tbody>\n",
       "</table>\n"
      ],
      "text/plain": [
       "<pandas.io.formats.style.Styler at 0x7f73381e3730>"
      ]
     },
     "execution_count": 10,
     "metadata": {},
     "output_type": "execute_result"
    }
   ],
   "source": [
    "# List of columns to be deleted\n",
    "columns_to_drop = ['Indicator Name', 'Indicator Code', 'Country Code']\n",
    "\n",
    "# Drop the specified columns\n",
    "df = df.drop(columns=columns_to_drop)\n",
    "\n",
    "# Display the first 10 rows of the Data to verify\n",
    "df.head(10).style.set_properties(**{\"background-color\": \"#003366\",\"color\":\"white\",\"border\": \"1.5px  solid black\"})"
   ]
  },
  {
   "cell_type": "markdown",
   "id": "b5abfafe-8b48-4360-ae02-88f7054919ce",
   "metadata": {},
   "source": [
    "Now we will remove rows that have more than 40 missing values. "
   ]
  },
  {
   "cell_type": "code",
   "execution_count": 12,
   "id": "fa19ba92-fc71-46f9-b0fd-be54623d7963",
   "metadata": {},
   "outputs": [
    {
     "data": {
      "text/html": [
       "<style type=\"text/css\">\n",
       "#T_ffbbd_row0_col0, #T_ffbbd_row0_col1, #T_ffbbd_row0_col2, #T_ffbbd_row0_col3, #T_ffbbd_row0_col4, #T_ffbbd_row0_col5, #T_ffbbd_row0_col6, #T_ffbbd_row0_col7, #T_ffbbd_row0_col8, #T_ffbbd_row0_col9, #T_ffbbd_row0_col10, #T_ffbbd_row0_col11, #T_ffbbd_row0_col12, #T_ffbbd_row0_col13, #T_ffbbd_row0_col14, #T_ffbbd_row0_col15, #T_ffbbd_row0_col16, #T_ffbbd_row0_col17, #T_ffbbd_row0_col18, #T_ffbbd_row0_col19, #T_ffbbd_row0_col20, #T_ffbbd_row0_col21, #T_ffbbd_row0_col22, #T_ffbbd_row0_col23, #T_ffbbd_row0_col24, #T_ffbbd_row0_col25, #T_ffbbd_row0_col26, #T_ffbbd_row0_col27, #T_ffbbd_row0_col28, #T_ffbbd_row0_col29, #T_ffbbd_row0_col30, #T_ffbbd_row0_col31, #T_ffbbd_row0_col32, #T_ffbbd_row0_col33, #T_ffbbd_row0_col34, #T_ffbbd_row0_col35, #T_ffbbd_row0_col36, #T_ffbbd_row0_col37, #T_ffbbd_row0_col38, #T_ffbbd_row0_col39, #T_ffbbd_row0_col40, #T_ffbbd_row0_col41, #T_ffbbd_row0_col42, #T_ffbbd_row0_col43, #T_ffbbd_row0_col44, #T_ffbbd_row0_col45, #T_ffbbd_row0_col46, #T_ffbbd_row0_col47, #T_ffbbd_row0_col48, #T_ffbbd_row0_col49, #T_ffbbd_row0_col50, #T_ffbbd_row0_col51, #T_ffbbd_row0_col52, #T_ffbbd_row0_col53, #T_ffbbd_row0_col54, #T_ffbbd_row1_col0, #T_ffbbd_row1_col1, #T_ffbbd_row1_col2, #T_ffbbd_row1_col3, #T_ffbbd_row1_col4, #T_ffbbd_row1_col5, #T_ffbbd_row1_col6, #T_ffbbd_row1_col7, #T_ffbbd_row1_col8, #T_ffbbd_row1_col9, #T_ffbbd_row1_col10, #T_ffbbd_row1_col11, #T_ffbbd_row1_col12, #T_ffbbd_row1_col13, #T_ffbbd_row1_col14, #T_ffbbd_row1_col15, #T_ffbbd_row1_col16, #T_ffbbd_row1_col17, #T_ffbbd_row1_col18, #T_ffbbd_row1_col19, #T_ffbbd_row1_col20, #T_ffbbd_row1_col21, #T_ffbbd_row1_col22, #T_ffbbd_row1_col23, #T_ffbbd_row1_col24, #T_ffbbd_row1_col25, #T_ffbbd_row1_col26, #T_ffbbd_row1_col27, #T_ffbbd_row1_col28, #T_ffbbd_row1_col29, #T_ffbbd_row1_col30, #T_ffbbd_row1_col31, #T_ffbbd_row1_col32, #T_ffbbd_row1_col33, #T_ffbbd_row1_col34, #T_ffbbd_row1_col35, #T_ffbbd_row1_col36, #T_ffbbd_row1_col37, #T_ffbbd_row1_col38, #T_ffbbd_row1_col39, #T_ffbbd_row1_col40, #T_ffbbd_row1_col41, #T_ffbbd_row1_col42, #T_ffbbd_row1_col43, #T_ffbbd_row1_col44, #T_ffbbd_row1_col45, #T_ffbbd_row1_col46, #T_ffbbd_row1_col47, #T_ffbbd_row1_col48, #T_ffbbd_row1_col49, #T_ffbbd_row1_col50, #T_ffbbd_row1_col51, #T_ffbbd_row1_col52, #T_ffbbd_row1_col53, #T_ffbbd_row1_col54, #T_ffbbd_row2_col0, #T_ffbbd_row2_col1, #T_ffbbd_row2_col2, #T_ffbbd_row2_col3, #T_ffbbd_row2_col4, #T_ffbbd_row2_col5, #T_ffbbd_row2_col6, #T_ffbbd_row2_col7, #T_ffbbd_row2_col8, #T_ffbbd_row2_col9, #T_ffbbd_row2_col10, #T_ffbbd_row2_col11, #T_ffbbd_row2_col12, #T_ffbbd_row2_col13, #T_ffbbd_row2_col14, #T_ffbbd_row2_col15, #T_ffbbd_row2_col16, #T_ffbbd_row2_col17, #T_ffbbd_row2_col18, #T_ffbbd_row2_col19, #T_ffbbd_row2_col20, #T_ffbbd_row2_col21, #T_ffbbd_row2_col22, #T_ffbbd_row2_col23, #T_ffbbd_row2_col24, #T_ffbbd_row2_col25, #T_ffbbd_row2_col26, #T_ffbbd_row2_col27, #T_ffbbd_row2_col28, #T_ffbbd_row2_col29, #T_ffbbd_row2_col30, #T_ffbbd_row2_col31, #T_ffbbd_row2_col32, #T_ffbbd_row2_col33, #T_ffbbd_row2_col34, #T_ffbbd_row2_col35, #T_ffbbd_row2_col36, #T_ffbbd_row2_col37, #T_ffbbd_row2_col38, #T_ffbbd_row2_col39, #T_ffbbd_row2_col40, #T_ffbbd_row2_col41, #T_ffbbd_row2_col42, #T_ffbbd_row2_col43, #T_ffbbd_row2_col44, #T_ffbbd_row2_col45, #T_ffbbd_row2_col46, #T_ffbbd_row2_col47, #T_ffbbd_row2_col48, #T_ffbbd_row2_col49, #T_ffbbd_row2_col50, #T_ffbbd_row2_col51, #T_ffbbd_row2_col52, #T_ffbbd_row2_col53, #T_ffbbd_row2_col54, #T_ffbbd_row3_col0, #T_ffbbd_row3_col1, #T_ffbbd_row3_col2, #T_ffbbd_row3_col3, #T_ffbbd_row3_col4, #T_ffbbd_row3_col5, #T_ffbbd_row3_col6, #T_ffbbd_row3_col7, #T_ffbbd_row3_col8, #T_ffbbd_row3_col9, #T_ffbbd_row3_col10, #T_ffbbd_row3_col11, #T_ffbbd_row3_col12, #T_ffbbd_row3_col13, #T_ffbbd_row3_col14, #T_ffbbd_row3_col15, #T_ffbbd_row3_col16, #T_ffbbd_row3_col17, #T_ffbbd_row3_col18, #T_ffbbd_row3_col19, #T_ffbbd_row3_col20, #T_ffbbd_row3_col21, #T_ffbbd_row3_col22, #T_ffbbd_row3_col23, #T_ffbbd_row3_col24, #T_ffbbd_row3_col25, #T_ffbbd_row3_col26, #T_ffbbd_row3_col27, #T_ffbbd_row3_col28, #T_ffbbd_row3_col29, #T_ffbbd_row3_col30, #T_ffbbd_row3_col31, #T_ffbbd_row3_col32, #T_ffbbd_row3_col33, #T_ffbbd_row3_col34, #T_ffbbd_row3_col35, #T_ffbbd_row3_col36, #T_ffbbd_row3_col37, #T_ffbbd_row3_col38, #T_ffbbd_row3_col39, #T_ffbbd_row3_col40, #T_ffbbd_row3_col41, #T_ffbbd_row3_col42, #T_ffbbd_row3_col43, #T_ffbbd_row3_col44, #T_ffbbd_row3_col45, #T_ffbbd_row3_col46, #T_ffbbd_row3_col47, #T_ffbbd_row3_col48, #T_ffbbd_row3_col49, #T_ffbbd_row3_col50, #T_ffbbd_row3_col51, #T_ffbbd_row3_col52, #T_ffbbd_row3_col53, #T_ffbbd_row3_col54, #T_ffbbd_row4_col0, #T_ffbbd_row4_col1, #T_ffbbd_row4_col2, #T_ffbbd_row4_col3, #T_ffbbd_row4_col4, #T_ffbbd_row4_col5, #T_ffbbd_row4_col6, #T_ffbbd_row4_col7, #T_ffbbd_row4_col8, #T_ffbbd_row4_col9, #T_ffbbd_row4_col10, #T_ffbbd_row4_col11, #T_ffbbd_row4_col12, #T_ffbbd_row4_col13, #T_ffbbd_row4_col14, #T_ffbbd_row4_col15, #T_ffbbd_row4_col16, #T_ffbbd_row4_col17, #T_ffbbd_row4_col18, #T_ffbbd_row4_col19, #T_ffbbd_row4_col20, #T_ffbbd_row4_col21, #T_ffbbd_row4_col22, #T_ffbbd_row4_col23, #T_ffbbd_row4_col24, #T_ffbbd_row4_col25, #T_ffbbd_row4_col26, #T_ffbbd_row4_col27, #T_ffbbd_row4_col28, #T_ffbbd_row4_col29, #T_ffbbd_row4_col30, #T_ffbbd_row4_col31, #T_ffbbd_row4_col32, #T_ffbbd_row4_col33, #T_ffbbd_row4_col34, #T_ffbbd_row4_col35, #T_ffbbd_row4_col36, #T_ffbbd_row4_col37, #T_ffbbd_row4_col38, #T_ffbbd_row4_col39, #T_ffbbd_row4_col40, #T_ffbbd_row4_col41, #T_ffbbd_row4_col42, #T_ffbbd_row4_col43, #T_ffbbd_row4_col44, #T_ffbbd_row4_col45, #T_ffbbd_row4_col46, #T_ffbbd_row4_col47, #T_ffbbd_row4_col48, #T_ffbbd_row4_col49, #T_ffbbd_row4_col50, #T_ffbbd_row4_col51, #T_ffbbd_row4_col52, #T_ffbbd_row4_col53, #T_ffbbd_row4_col54, #T_ffbbd_row5_col0, #T_ffbbd_row5_col1, #T_ffbbd_row5_col2, #T_ffbbd_row5_col3, #T_ffbbd_row5_col4, #T_ffbbd_row5_col5, #T_ffbbd_row5_col6, #T_ffbbd_row5_col7, #T_ffbbd_row5_col8, #T_ffbbd_row5_col9, #T_ffbbd_row5_col10, #T_ffbbd_row5_col11, #T_ffbbd_row5_col12, #T_ffbbd_row5_col13, #T_ffbbd_row5_col14, #T_ffbbd_row5_col15, #T_ffbbd_row5_col16, #T_ffbbd_row5_col17, #T_ffbbd_row5_col18, #T_ffbbd_row5_col19, #T_ffbbd_row5_col20, #T_ffbbd_row5_col21, #T_ffbbd_row5_col22, #T_ffbbd_row5_col23, #T_ffbbd_row5_col24, #T_ffbbd_row5_col25, #T_ffbbd_row5_col26, #T_ffbbd_row5_col27, #T_ffbbd_row5_col28, #T_ffbbd_row5_col29, #T_ffbbd_row5_col30, #T_ffbbd_row5_col31, #T_ffbbd_row5_col32, #T_ffbbd_row5_col33, #T_ffbbd_row5_col34, #T_ffbbd_row5_col35, #T_ffbbd_row5_col36, #T_ffbbd_row5_col37, #T_ffbbd_row5_col38, #T_ffbbd_row5_col39, #T_ffbbd_row5_col40, #T_ffbbd_row5_col41, #T_ffbbd_row5_col42, #T_ffbbd_row5_col43, #T_ffbbd_row5_col44, #T_ffbbd_row5_col45, #T_ffbbd_row5_col46, #T_ffbbd_row5_col47, #T_ffbbd_row5_col48, #T_ffbbd_row5_col49, #T_ffbbd_row5_col50, #T_ffbbd_row5_col51, #T_ffbbd_row5_col52, #T_ffbbd_row5_col53, #T_ffbbd_row5_col54, #T_ffbbd_row6_col0, #T_ffbbd_row6_col1, #T_ffbbd_row6_col2, #T_ffbbd_row6_col3, #T_ffbbd_row6_col4, #T_ffbbd_row6_col5, #T_ffbbd_row6_col6, #T_ffbbd_row6_col7, #T_ffbbd_row6_col8, #T_ffbbd_row6_col9, #T_ffbbd_row6_col10, #T_ffbbd_row6_col11, #T_ffbbd_row6_col12, #T_ffbbd_row6_col13, #T_ffbbd_row6_col14, #T_ffbbd_row6_col15, #T_ffbbd_row6_col16, #T_ffbbd_row6_col17, #T_ffbbd_row6_col18, #T_ffbbd_row6_col19, #T_ffbbd_row6_col20, #T_ffbbd_row6_col21, #T_ffbbd_row6_col22, #T_ffbbd_row6_col23, #T_ffbbd_row6_col24, #T_ffbbd_row6_col25, #T_ffbbd_row6_col26, #T_ffbbd_row6_col27, #T_ffbbd_row6_col28, #T_ffbbd_row6_col29, #T_ffbbd_row6_col30, #T_ffbbd_row6_col31, #T_ffbbd_row6_col32, #T_ffbbd_row6_col33, #T_ffbbd_row6_col34, #T_ffbbd_row6_col35, #T_ffbbd_row6_col36, #T_ffbbd_row6_col37, #T_ffbbd_row6_col38, #T_ffbbd_row6_col39, #T_ffbbd_row6_col40, #T_ffbbd_row6_col41, #T_ffbbd_row6_col42, #T_ffbbd_row6_col43, #T_ffbbd_row6_col44, #T_ffbbd_row6_col45, #T_ffbbd_row6_col46, #T_ffbbd_row6_col47, #T_ffbbd_row6_col48, #T_ffbbd_row6_col49, #T_ffbbd_row6_col50, #T_ffbbd_row6_col51, #T_ffbbd_row6_col52, #T_ffbbd_row6_col53, #T_ffbbd_row6_col54, #T_ffbbd_row7_col0, #T_ffbbd_row7_col1, #T_ffbbd_row7_col2, #T_ffbbd_row7_col3, #T_ffbbd_row7_col4, #T_ffbbd_row7_col5, #T_ffbbd_row7_col6, #T_ffbbd_row7_col7, #T_ffbbd_row7_col8, #T_ffbbd_row7_col9, #T_ffbbd_row7_col10, #T_ffbbd_row7_col11, #T_ffbbd_row7_col12, #T_ffbbd_row7_col13, #T_ffbbd_row7_col14, #T_ffbbd_row7_col15, #T_ffbbd_row7_col16, #T_ffbbd_row7_col17, #T_ffbbd_row7_col18, #T_ffbbd_row7_col19, #T_ffbbd_row7_col20, #T_ffbbd_row7_col21, #T_ffbbd_row7_col22, #T_ffbbd_row7_col23, #T_ffbbd_row7_col24, #T_ffbbd_row7_col25, #T_ffbbd_row7_col26, #T_ffbbd_row7_col27, #T_ffbbd_row7_col28, #T_ffbbd_row7_col29, #T_ffbbd_row7_col30, #T_ffbbd_row7_col31, #T_ffbbd_row7_col32, #T_ffbbd_row7_col33, #T_ffbbd_row7_col34, #T_ffbbd_row7_col35, #T_ffbbd_row7_col36, #T_ffbbd_row7_col37, #T_ffbbd_row7_col38, #T_ffbbd_row7_col39, #T_ffbbd_row7_col40, #T_ffbbd_row7_col41, #T_ffbbd_row7_col42, #T_ffbbd_row7_col43, #T_ffbbd_row7_col44, #T_ffbbd_row7_col45, #T_ffbbd_row7_col46, #T_ffbbd_row7_col47, #T_ffbbd_row7_col48, #T_ffbbd_row7_col49, #T_ffbbd_row7_col50, #T_ffbbd_row7_col51, #T_ffbbd_row7_col52, #T_ffbbd_row7_col53, #T_ffbbd_row7_col54, #T_ffbbd_row8_col0, #T_ffbbd_row8_col1, #T_ffbbd_row8_col2, #T_ffbbd_row8_col3, #T_ffbbd_row8_col4, #T_ffbbd_row8_col5, #T_ffbbd_row8_col6, #T_ffbbd_row8_col7, #T_ffbbd_row8_col8, #T_ffbbd_row8_col9, #T_ffbbd_row8_col10, #T_ffbbd_row8_col11, #T_ffbbd_row8_col12, #T_ffbbd_row8_col13, #T_ffbbd_row8_col14, #T_ffbbd_row8_col15, #T_ffbbd_row8_col16, #T_ffbbd_row8_col17, #T_ffbbd_row8_col18, #T_ffbbd_row8_col19, #T_ffbbd_row8_col20, #T_ffbbd_row8_col21, #T_ffbbd_row8_col22, #T_ffbbd_row8_col23, #T_ffbbd_row8_col24, #T_ffbbd_row8_col25, #T_ffbbd_row8_col26, #T_ffbbd_row8_col27, #T_ffbbd_row8_col28, #T_ffbbd_row8_col29, #T_ffbbd_row8_col30, #T_ffbbd_row8_col31, #T_ffbbd_row8_col32, #T_ffbbd_row8_col33, #T_ffbbd_row8_col34, #T_ffbbd_row8_col35, #T_ffbbd_row8_col36, #T_ffbbd_row8_col37, #T_ffbbd_row8_col38, #T_ffbbd_row8_col39, #T_ffbbd_row8_col40, #T_ffbbd_row8_col41, #T_ffbbd_row8_col42, #T_ffbbd_row8_col43, #T_ffbbd_row8_col44, #T_ffbbd_row8_col45, #T_ffbbd_row8_col46, #T_ffbbd_row8_col47, #T_ffbbd_row8_col48, #T_ffbbd_row8_col49, #T_ffbbd_row8_col50, #T_ffbbd_row8_col51, #T_ffbbd_row8_col52, #T_ffbbd_row8_col53, #T_ffbbd_row8_col54, #T_ffbbd_row9_col0, #T_ffbbd_row9_col1, #T_ffbbd_row9_col2, #T_ffbbd_row9_col3, #T_ffbbd_row9_col4, #T_ffbbd_row9_col5, #T_ffbbd_row9_col6, #T_ffbbd_row9_col7, #T_ffbbd_row9_col8, #T_ffbbd_row9_col9, #T_ffbbd_row9_col10, #T_ffbbd_row9_col11, #T_ffbbd_row9_col12, #T_ffbbd_row9_col13, #T_ffbbd_row9_col14, #T_ffbbd_row9_col15, #T_ffbbd_row9_col16, #T_ffbbd_row9_col17, #T_ffbbd_row9_col18, #T_ffbbd_row9_col19, #T_ffbbd_row9_col20, #T_ffbbd_row9_col21, #T_ffbbd_row9_col22, #T_ffbbd_row9_col23, #T_ffbbd_row9_col24, #T_ffbbd_row9_col25, #T_ffbbd_row9_col26, #T_ffbbd_row9_col27, #T_ffbbd_row9_col28, #T_ffbbd_row9_col29, #T_ffbbd_row9_col30, #T_ffbbd_row9_col31, #T_ffbbd_row9_col32, #T_ffbbd_row9_col33, #T_ffbbd_row9_col34, #T_ffbbd_row9_col35, #T_ffbbd_row9_col36, #T_ffbbd_row9_col37, #T_ffbbd_row9_col38, #T_ffbbd_row9_col39, #T_ffbbd_row9_col40, #T_ffbbd_row9_col41, #T_ffbbd_row9_col42, #T_ffbbd_row9_col43, #T_ffbbd_row9_col44, #T_ffbbd_row9_col45, #T_ffbbd_row9_col46, #T_ffbbd_row9_col47, #T_ffbbd_row9_col48, #T_ffbbd_row9_col49, #T_ffbbd_row9_col50, #T_ffbbd_row9_col51, #T_ffbbd_row9_col52, #T_ffbbd_row9_col53, #T_ffbbd_row9_col54 {\n",
       "  background-color: #003366;\n",
       "  color: white;\n",
       "  border: 1.5px  solid black;\n",
       "}\n",
       "</style>\n",
       "<table id=\"T_ffbbd\">\n",
       "  <thead>\n",
       "    <tr>\n",
       "      <th class=\"blank level0\" >&nbsp;</th>\n",
       "      <th id=\"T_ffbbd_level0_col0\" class=\"col_heading level0 col0\" >Country Name</th>\n",
       "      <th id=\"T_ffbbd_level0_col1\" class=\"col_heading level0 col1\" >1960</th>\n",
       "      <th id=\"T_ffbbd_level0_col2\" class=\"col_heading level0 col2\" >1961</th>\n",
       "      <th id=\"T_ffbbd_level0_col3\" class=\"col_heading level0 col3\" >1962</th>\n",
       "      <th id=\"T_ffbbd_level0_col4\" class=\"col_heading level0 col4\" >1963</th>\n",
       "      <th id=\"T_ffbbd_level0_col5\" class=\"col_heading level0 col5\" >1964</th>\n",
       "      <th id=\"T_ffbbd_level0_col6\" class=\"col_heading level0 col6\" >1965</th>\n",
       "      <th id=\"T_ffbbd_level0_col7\" class=\"col_heading level0 col7\" >1966</th>\n",
       "      <th id=\"T_ffbbd_level0_col8\" class=\"col_heading level0 col8\" >1967</th>\n",
       "      <th id=\"T_ffbbd_level0_col9\" class=\"col_heading level0 col9\" >1968</th>\n",
       "      <th id=\"T_ffbbd_level0_col10\" class=\"col_heading level0 col10\" >1969</th>\n",
       "      <th id=\"T_ffbbd_level0_col11\" class=\"col_heading level0 col11\" >1970</th>\n",
       "      <th id=\"T_ffbbd_level0_col12\" class=\"col_heading level0 col12\" >1971</th>\n",
       "      <th id=\"T_ffbbd_level0_col13\" class=\"col_heading level0 col13\" >1972</th>\n",
       "      <th id=\"T_ffbbd_level0_col14\" class=\"col_heading level0 col14\" >1973</th>\n",
       "      <th id=\"T_ffbbd_level0_col15\" class=\"col_heading level0 col15\" >1974</th>\n",
       "      <th id=\"T_ffbbd_level0_col16\" class=\"col_heading level0 col16\" >1975</th>\n",
       "      <th id=\"T_ffbbd_level0_col17\" class=\"col_heading level0 col17\" >1976</th>\n",
       "      <th id=\"T_ffbbd_level0_col18\" class=\"col_heading level0 col18\" >1977</th>\n",
       "      <th id=\"T_ffbbd_level0_col19\" class=\"col_heading level0 col19\" >1978</th>\n",
       "      <th id=\"T_ffbbd_level0_col20\" class=\"col_heading level0 col20\" >1979</th>\n",
       "      <th id=\"T_ffbbd_level0_col21\" class=\"col_heading level0 col21\" >1980</th>\n",
       "      <th id=\"T_ffbbd_level0_col22\" class=\"col_heading level0 col22\" >1981</th>\n",
       "      <th id=\"T_ffbbd_level0_col23\" class=\"col_heading level0 col23\" >1982</th>\n",
       "      <th id=\"T_ffbbd_level0_col24\" class=\"col_heading level0 col24\" >1983</th>\n",
       "      <th id=\"T_ffbbd_level0_col25\" class=\"col_heading level0 col25\" >1984</th>\n",
       "      <th id=\"T_ffbbd_level0_col26\" class=\"col_heading level0 col26\" >1985</th>\n",
       "      <th id=\"T_ffbbd_level0_col27\" class=\"col_heading level0 col27\" >1986</th>\n",
       "      <th id=\"T_ffbbd_level0_col28\" class=\"col_heading level0 col28\" >1987</th>\n",
       "      <th id=\"T_ffbbd_level0_col29\" class=\"col_heading level0 col29\" >1988</th>\n",
       "      <th id=\"T_ffbbd_level0_col30\" class=\"col_heading level0 col30\" >1989</th>\n",
       "      <th id=\"T_ffbbd_level0_col31\" class=\"col_heading level0 col31\" >1990</th>\n",
       "      <th id=\"T_ffbbd_level0_col32\" class=\"col_heading level0 col32\" >1991</th>\n",
       "      <th id=\"T_ffbbd_level0_col33\" class=\"col_heading level0 col33\" >1992</th>\n",
       "      <th id=\"T_ffbbd_level0_col34\" class=\"col_heading level0 col34\" >1993</th>\n",
       "      <th id=\"T_ffbbd_level0_col35\" class=\"col_heading level0 col35\" >1994</th>\n",
       "      <th id=\"T_ffbbd_level0_col36\" class=\"col_heading level0 col36\" >1995</th>\n",
       "      <th id=\"T_ffbbd_level0_col37\" class=\"col_heading level0 col37\" >1996</th>\n",
       "      <th id=\"T_ffbbd_level0_col38\" class=\"col_heading level0 col38\" >1997</th>\n",
       "      <th id=\"T_ffbbd_level0_col39\" class=\"col_heading level0 col39\" >1998</th>\n",
       "      <th id=\"T_ffbbd_level0_col40\" class=\"col_heading level0 col40\" >1999</th>\n",
       "      <th id=\"T_ffbbd_level0_col41\" class=\"col_heading level0 col41\" >2000</th>\n",
       "      <th id=\"T_ffbbd_level0_col42\" class=\"col_heading level0 col42\" >2001</th>\n",
       "      <th id=\"T_ffbbd_level0_col43\" class=\"col_heading level0 col43\" >2002</th>\n",
       "      <th id=\"T_ffbbd_level0_col44\" class=\"col_heading level0 col44\" >2003</th>\n",
       "      <th id=\"T_ffbbd_level0_col45\" class=\"col_heading level0 col45\" >2004</th>\n",
       "      <th id=\"T_ffbbd_level0_col46\" class=\"col_heading level0 col46\" >2005</th>\n",
       "      <th id=\"T_ffbbd_level0_col47\" class=\"col_heading level0 col47\" >2006</th>\n",
       "      <th id=\"T_ffbbd_level0_col48\" class=\"col_heading level0 col48\" >2007</th>\n",
       "      <th id=\"T_ffbbd_level0_col49\" class=\"col_heading level0 col49\" >2008</th>\n",
       "      <th id=\"T_ffbbd_level0_col50\" class=\"col_heading level0 col50\" >2009</th>\n",
       "      <th id=\"T_ffbbd_level0_col51\" class=\"col_heading level0 col51\" >2010</th>\n",
       "      <th id=\"T_ffbbd_level0_col52\" class=\"col_heading level0 col52\" >2011</th>\n",
       "      <th id=\"T_ffbbd_level0_col53\" class=\"col_heading level0 col53\" >2012</th>\n",
       "      <th id=\"T_ffbbd_level0_col54\" class=\"col_heading level0 col54\" >2013</th>\n",
       "    </tr>\n",
       "  </thead>\n",
       "  <tbody>\n",
       "    <tr>\n",
       "      <th id=\"T_ffbbd_level0_row0\" class=\"row_heading level0 row0\" >105</th>\n",
       "      <td id=\"T_ffbbd_row0_col0\" class=\"data row0 col0\" >Kuwait</td>\n",
       "      <td id=\"T_ffbbd_row0_col1\" class=\"data row0 col1\" >7.251000</td>\n",
       "      <td id=\"T_ffbbd_row0_col2\" class=\"data row0 col2\" >7.279000</td>\n",
       "      <td id=\"T_ffbbd_row0_col3\" class=\"data row0 col3\" >7.312000</td>\n",
       "      <td id=\"T_ffbbd_row0_col4\" class=\"data row0 col4\" >7.348000</td>\n",
       "      <td id=\"T_ffbbd_row0_col5\" class=\"data row0 col5\" >7.381000</td>\n",
       "      <td id=\"T_ffbbd_row0_col6\" class=\"data row0 col6\" >7.407000</td>\n",
       "      <td id=\"T_ffbbd_row0_col7\" class=\"data row0 col7\" >7.419000</td>\n",
       "      <td id=\"T_ffbbd_row0_col8\" class=\"data row0 col8\" >7.413000</td>\n",
       "      <td id=\"T_ffbbd_row0_col9\" class=\"data row0 col9\" >7.383000</td>\n",
       "      <td id=\"T_ffbbd_row0_col10\" class=\"data row0 col10\" >7.327000</td>\n",
       "      <td id=\"T_ffbbd_row0_col11\" class=\"data row0 col11\" >7.241000</td>\n",
       "      <td id=\"T_ffbbd_row0_col12\" class=\"data row0 col12\" >7.124000</td>\n",
       "      <td id=\"T_ffbbd_row0_col13\" class=\"data row0 col13\" >6.978000</td>\n",
       "      <td id=\"T_ffbbd_row0_col14\" class=\"data row0 col14\" >6.809000</td>\n",
       "      <td id=\"T_ffbbd_row0_col15\" class=\"data row0 col15\" >6.622000</td>\n",
       "      <td id=\"T_ffbbd_row0_col16\" class=\"data row0 col16\" >6.427000</td>\n",
       "      <td id=\"T_ffbbd_row0_col17\" class=\"data row0 col17\" >6.234000</td>\n",
       "      <td id=\"T_ffbbd_row0_col18\" class=\"data row0 col18\" >6.050000</td>\n",
       "      <td id=\"T_ffbbd_row0_col19\" class=\"data row0 col19\" >5.874000</td>\n",
       "      <td id=\"T_ffbbd_row0_col20\" class=\"data row0 col20\" >5.703000</td>\n",
       "      <td id=\"T_ffbbd_row0_col21\" class=\"data row0 col21\" >5.524000</td>\n",
       "      <td id=\"T_ffbbd_row0_col22\" class=\"data row0 col22\" >5.319000</td>\n",
       "      <td id=\"T_ffbbd_row0_col23\" class=\"data row0 col23\" >5.075000</td>\n",
       "      <td id=\"T_ffbbd_row0_col24\" class=\"data row0 col24\" >4.786000</td>\n",
       "      <td id=\"T_ffbbd_row0_col25\" class=\"data row0 col25\" >4.456000</td>\n",
       "      <td id=\"T_ffbbd_row0_col26\" class=\"data row0 col26\" >4.092000</td>\n",
       "      <td id=\"T_ffbbd_row0_col27\" class=\"data row0 col27\" >3.704000</td>\n",
       "      <td id=\"T_ffbbd_row0_col28\" class=\"data row0 col28\" >3.313000</td>\n",
       "      <td id=\"T_ffbbd_row0_col29\" class=\"data row0 col29\" >2.944000</td>\n",
       "      <td id=\"T_ffbbd_row0_col30\" class=\"data row0 col30\" >2.615000</td>\n",
       "      <td id=\"T_ffbbd_row0_col31\" class=\"data row0 col31\" >2.358000</td>\n",
       "      <td id=\"T_ffbbd_row0_col32\" class=\"data row0 col32\" >2.200000</td>\n",
       "      <td id=\"T_ffbbd_row0_col33\" class=\"data row0 col33\" >2.144000</td>\n",
       "      <td id=\"T_ffbbd_row0_col34\" class=\"data row0 col34\" >2.182000</td>\n",
       "      <td id=\"T_ffbbd_row0_col35\" class=\"data row0 col35\" >2.300000</td>\n",
       "      <td id=\"T_ffbbd_row0_col36\" class=\"data row0 col36\" >2.467000</td>\n",
       "      <td id=\"T_ffbbd_row0_col37\" class=\"data row0 col37\" >2.642000</td>\n",
       "      <td id=\"T_ffbbd_row0_col38\" class=\"data row0 col38\" >2.788000</td>\n",
       "      <td id=\"T_ffbbd_row0_col39\" class=\"data row0 col39\" >2.878000</td>\n",
       "      <td id=\"T_ffbbd_row0_col40\" class=\"data row0 col40\" >2.903000</td>\n",
       "      <td id=\"T_ffbbd_row0_col41\" class=\"data row0 col41\" >2.869000</td>\n",
       "      <td id=\"T_ffbbd_row0_col42\" class=\"data row0 col42\" >2.796000</td>\n",
       "      <td id=\"T_ffbbd_row0_col43\" class=\"data row0 col43\" >2.718000</td>\n",
       "      <td id=\"T_ffbbd_row0_col44\" class=\"data row0 col44\" >2.660000</td>\n",
       "      <td id=\"T_ffbbd_row0_col45\" class=\"data row0 col45\" >2.630000</td>\n",
       "      <td id=\"T_ffbbd_row0_col46\" class=\"data row0 col46\" >2.628000</td>\n",
       "      <td id=\"T_ffbbd_row0_col47\" class=\"data row0 col47\" >2.645000</td>\n",
       "      <td id=\"T_ffbbd_row0_col48\" class=\"data row0 col48\" >2.667000</td>\n",
       "      <td id=\"T_ffbbd_row0_col49\" class=\"data row0 col49\" >2.681000</td>\n",
       "      <td id=\"T_ffbbd_row0_col50\" class=\"data row0 col50\" >2.683000</td>\n",
       "      <td id=\"T_ffbbd_row0_col51\" class=\"data row0 col51\" >2.673000</td>\n",
       "      <td id=\"T_ffbbd_row0_col52\" class=\"data row0 col52\" >2.652000</td>\n",
       "      <td id=\"T_ffbbd_row0_col53\" class=\"data row0 col53\" >2.626000</td>\n",
       "      <td id=\"T_ffbbd_row0_col54\" class=\"data row0 col54\" >2.600000</td>\n",
       "    </tr>\n",
       "    <tr>\n",
       "      <th id=\"T_ffbbd_level0_row1\" class=\"row_heading level0 row1\" >12</th>\n",
       "      <td id=\"T_ffbbd_row1_col0\" class=\"data row1 col0\" >Azerbaijan</td>\n",
       "      <td id=\"T_ffbbd_row1_col1\" class=\"data row1 col1\" >5.571000</td>\n",
       "      <td id=\"T_ffbbd_row1_col2\" class=\"data row1 col2\" >5.596000</td>\n",
       "      <td id=\"T_ffbbd_row1_col3\" class=\"data row1 col3\" >5.591000</td>\n",
       "      <td id=\"T_ffbbd_row1_col4\" class=\"data row1 col4\" >5.549000</td>\n",
       "      <td id=\"T_ffbbd_row1_col5\" class=\"data row1 col5\" >5.468000</td>\n",
       "      <td id=\"T_ffbbd_row1_col6\" class=\"data row1 col6\" >5.352000</td>\n",
       "      <td id=\"T_ffbbd_row1_col7\" class=\"data row1 col7\" >5.210000</td>\n",
       "      <td id=\"T_ffbbd_row1_col8\" class=\"data row1 col8\" >5.056000</td>\n",
       "      <td id=\"T_ffbbd_row1_col9\" class=\"data row1 col9\" >4.901000</td>\n",
       "      <td id=\"T_ffbbd_row1_col10\" class=\"data row1 col10\" >4.753000</td>\n",
       "      <td id=\"T_ffbbd_row1_col11\" class=\"data row1 col11\" >4.612000</td>\n",
       "      <td id=\"T_ffbbd_row1_col12\" class=\"data row1 col12\" >4.479000</td>\n",
       "      <td id=\"T_ffbbd_row1_col13\" class=\"data row1 col13\" >4.348000</td>\n",
       "      <td id=\"T_ffbbd_row1_col14\" class=\"data row1 col14\" >4.216000</td>\n",
       "      <td id=\"T_ffbbd_row1_col15\" class=\"data row1 col15\" >4.084000</td>\n",
       "      <td id=\"T_ffbbd_row1_col16\" class=\"data row1 col16\" >3.950000</td>\n",
       "      <td id=\"T_ffbbd_row1_col17\" class=\"data row1 col17\" >3.814000</td>\n",
       "      <td id=\"T_ffbbd_row1_col18\" class=\"data row1 col18\" >3.676000</td>\n",
       "      <td id=\"T_ffbbd_row1_col19\" class=\"data row1 col19\" >3.539000</td>\n",
       "      <td id=\"T_ffbbd_row1_col20\" class=\"data row1 col20\" >3.407000</td>\n",
       "      <td id=\"T_ffbbd_row1_col21\" class=\"data row1 col21\" >3.286000</td>\n",
       "      <td id=\"T_ffbbd_row1_col22\" class=\"data row1 col22\" >3.179000</td>\n",
       "      <td id=\"T_ffbbd_row1_col23\" class=\"data row1 col23\" >3.092000</td>\n",
       "      <td id=\"T_ffbbd_row1_col24\" class=\"data row1 col24\" >3.026000</td>\n",
       "      <td id=\"T_ffbbd_row1_col25\" class=\"data row1 col25\" >2.980000</td>\n",
       "      <td id=\"T_ffbbd_row1_col26\" class=\"data row1 col26\" >2.910000</td>\n",
       "      <td id=\"T_ffbbd_row1_col27\" class=\"data row1 col27\" >2.900000</td>\n",
       "      <td id=\"T_ffbbd_row1_col28\" class=\"data row1 col28\" >2.902600</td>\n",
       "      <td id=\"T_ffbbd_row1_col29\" class=\"data row1 col29\" >2.800000</td>\n",
       "      <td id=\"T_ffbbd_row1_col30\" class=\"data row1 col30\" >2.800000</td>\n",
       "      <td id=\"T_ffbbd_row1_col31\" class=\"data row1 col31\" >2.740000</td>\n",
       "      <td id=\"T_ffbbd_row1_col32\" class=\"data row1 col32\" >2.870000</td>\n",
       "      <td id=\"T_ffbbd_row1_col33\" class=\"data row1 col33\" >2.740000</td>\n",
       "      <td id=\"T_ffbbd_row1_col34\" class=\"data row1 col34\" >2.700000</td>\n",
       "      <td id=\"T_ffbbd_row1_col35\" class=\"data row1 col35\" >2.520000</td>\n",
       "      <td id=\"T_ffbbd_row1_col36\" class=\"data row1 col36\" >2.290000</td>\n",
       "      <td id=\"T_ffbbd_row1_col37\" class=\"data row1 col37\" >2.060000</td>\n",
       "      <td id=\"T_ffbbd_row1_col38\" class=\"data row1 col38\" >2.070000</td>\n",
       "      <td id=\"T_ffbbd_row1_col39\" class=\"data row1 col39\" >2.000000</td>\n",
       "      <td id=\"T_ffbbd_row1_col40\" class=\"data row1 col40\" >2.070000</td>\n",
       "      <td id=\"T_ffbbd_row1_col41\" class=\"data row1 col41\" >2.000000</td>\n",
       "      <td id=\"T_ffbbd_row1_col42\" class=\"data row1 col42\" >1.800000</td>\n",
       "      <td id=\"T_ffbbd_row1_col43\" class=\"data row1 col43\" >1.800000</td>\n",
       "      <td id=\"T_ffbbd_row1_col44\" class=\"data row1 col44\" >1.900000</td>\n",
       "      <td id=\"T_ffbbd_row1_col45\" class=\"data row1 col45\" >2.053500</td>\n",
       "      <td id=\"T_ffbbd_row1_col46\" class=\"data row1 col46\" >2.000000</td>\n",
       "      <td id=\"T_ffbbd_row1_col47\" class=\"data row1 col47\" >1.970000</td>\n",
       "      <td id=\"T_ffbbd_row1_col48\" class=\"data row1 col48\" >1.970000</td>\n",
       "      <td id=\"T_ffbbd_row1_col49\" class=\"data row1 col49\" >1.900000</td>\n",
       "      <td id=\"T_ffbbd_row1_col50\" class=\"data row1 col50\" >1.820000</td>\n",
       "      <td id=\"T_ffbbd_row1_col51\" class=\"data row1 col51\" >1.920000</td>\n",
       "      <td id=\"T_ffbbd_row1_col52\" class=\"data row1 col52\" >1.960000</td>\n",
       "      <td id=\"T_ffbbd_row1_col53\" class=\"data row1 col53\" >2.000000</td>\n",
       "      <td id=\"T_ffbbd_row1_col54\" class=\"data row1 col54\" >2.000000</td>\n",
       "    </tr>\n",
       "    <tr>\n",
       "      <th id=\"T_ffbbd_level0_row2\" class=\"row_heading level0 row2\" >199</th>\n",
       "      <td id=\"T_ffbbd_row2_col0\" class=\"data row2 col0\" >Ukraine</td>\n",
       "      <td id=\"T_ffbbd_row2_col1\" class=\"data row2 col1\" >2.240000</td>\n",
       "      <td id=\"T_ffbbd_row2_col2\" class=\"data row2 col2\" >2.170000</td>\n",
       "      <td id=\"T_ffbbd_row2_col3\" class=\"data row2 col3\" >2.140000</td>\n",
       "      <td id=\"T_ffbbd_row2_col4\" class=\"data row2 col4\" >2.060000</td>\n",
       "      <td id=\"T_ffbbd_row2_col5\" class=\"data row2 col5\" >1.960000</td>\n",
       "      <td id=\"T_ffbbd_row2_col6\" class=\"data row2 col6\" >1.990000</td>\n",
       "      <td id=\"T_ffbbd_row2_col7\" class=\"data row2 col7\" >2.020000</td>\n",
       "      <td id=\"T_ffbbd_row2_col8\" class=\"data row2 col8\" >2.010000</td>\n",
       "      <td id=\"T_ffbbd_row2_col9\" class=\"data row2 col9\" >1.998000</td>\n",
       "      <td id=\"T_ffbbd_row2_col10\" class=\"data row2 col10\" >2.040000</td>\n",
       "      <td id=\"T_ffbbd_row2_col11\" class=\"data row2 col11\" >2.090000</td>\n",
       "      <td id=\"T_ffbbd_row2_col12\" class=\"data row2 col12\" >2.120000</td>\n",
       "      <td id=\"T_ffbbd_row2_col13\" class=\"data row2 col13\" >2.080000</td>\n",
       "      <td id=\"T_ffbbd_row2_col14\" class=\"data row2 col14\" >2.040000</td>\n",
       "      <td id=\"T_ffbbd_row2_col15\" class=\"data row2 col15\" >2.040000</td>\n",
       "      <td id=\"T_ffbbd_row2_col16\" class=\"data row2 col16\" >2.020000</td>\n",
       "      <td id=\"T_ffbbd_row2_col17\" class=\"data row2 col17\" >1.990000</td>\n",
       "      <td id=\"T_ffbbd_row2_col18\" class=\"data row2 col18\" >1.940000</td>\n",
       "      <td id=\"T_ffbbd_row2_col19\" class=\"data row2 col19\" >1.960000</td>\n",
       "      <td id=\"T_ffbbd_row2_col20\" class=\"data row2 col20\" >1.960000</td>\n",
       "      <td id=\"T_ffbbd_row2_col21\" class=\"data row2 col21\" >1.950000</td>\n",
       "      <td id=\"T_ffbbd_row2_col22\" class=\"data row2 col22\" >1.930000</td>\n",
       "      <td id=\"T_ffbbd_row2_col23\" class=\"data row2 col23\" >1.980000</td>\n",
       "      <td id=\"T_ffbbd_row2_col24\" class=\"data row2 col24\" >2.080000</td>\n",
       "      <td id=\"T_ffbbd_row2_col25\" class=\"data row2 col25\" >2.090000</td>\n",
       "      <td id=\"T_ffbbd_row2_col26\" class=\"data row2 col26\" >2.060000</td>\n",
       "      <td id=\"T_ffbbd_row2_col27\" class=\"data row2 col27\" >2.080000</td>\n",
       "      <td id=\"T_ffbbd_row2_col28\" class=\"data row2 col28\" >2.050000</td>\n",
       "      <td id=\"T_ffbbd_row2_col29\" class=\"data row2 col29\" >2.020000</td>\n",
       "      <td id=\"T_ffbbd_row2_col30\" class=\"data row2 col30\" >1.920000</td>\n",
       "      <td id=\"T_ffbbd_row2_col31\" class=\"data row2 col31\" >1.844000</td>\n",
       "      <td id=\"T_ffbbd_row2_col32\" class=\"data row2 col32\" >1.773000</td>\n",
       "      <td id=\"T_ffbbd_row2_col33\" class=\"data row2 col33\" >1.674000</td>\n",
       "      <td id=\"T_ffbbd_row2_col34\" class=\"data row2 col34\" >1.563000</td>\n",
       "      <td id=\"T_ffbbd_row2_col35\" class=\"data row2 col35\" >1.470000</td>\n",
       "      <td id=\"T_ffbbd_row2_col36\" class=\"data row2 col36\" >1.397000</td>\n",
       "      <td id=\"T_ffbbd_row2_col37\" class=\"data row2 col37\" >1.332000</td>\n",
       "      <td id=\"T_ffbbd_row2_col38\" class=\"data row2 col38\" >1.270000</td>\n",
       "      <td id=\"T_ffbbd_row2_col39\" class=\"data row2 col39\" >1.207000</td>\n",
       "      <td id=\"T_ffbbd_row2_col40\" class=\"data row2 col40\" >1.121000</td>\n",
       "      <td id=\"T_ffbbd_row2_col41\" class=\"data row2 col41\" >1.110000</td>\n",
       "      <td id=\"T_ffbbd_row2_col42\" class=\"data row2 col42\" >1.085000</td>\n",
       "      <td id=\"T_ffbbd_row2_col43\" class=\"data row2 col43\" >1.126000</td>\n",
       "      <td id=\"T_ffbbd_row2_col44\" class=\"data row2 col44\" >1.172000</td>\n",
       "      <td id=\"T_ffbbd_row2_col45\" class=\"data row2 col45\" >1.218000</td>\n",
       "      <td id=\"T_ffbbd_row2_col46\" class=\"data row2 col46\" >1.213000</td>\n",
       "      <td id=\"T_ffbbd_row2_col47\" class=\"data row2 col47\" >1.310000</td>\n",
       "      <td id=\"T_ffbbd_row2_col48\" class=\"data row2 col48\" >1.345000</td>\n",
       "      <td id=\"T_ffbbd_row2_col49\" class=\"data row2 col49\" >1.458000</td>\n",
       "      <td id=\"T_ffbbd_row2_col50\" class=\"data row2 col50\" >1.460000</td>\n",
       "      <td id=\"T_ffbbd_row2_col51\" class=\"data row2 col51\" >1.445000</td>\n",
       "      <td id=\"T_ffbbd_row2_col52\" class=\"data row2 col52\" >1.459000</td>\n",
       "      <td id=\"T_ffbbd_row2_col53\" class=\"data row2 col53\" >1.531000</td>\n",
       "      <td id=\"T_ffbbd_row2_col54\" class=\"data row2 col54\" >1.506000</td>\n",
       "    </tr>\n",
       "    <tr>\n",
       "      <th id=\"T_ffbbd_level0_row3\" class=\"row_heading level0 row3\" >138</th>\n",
       "      <td id=\"T_ffbbd_row3_col0\" class=\"data row3 col0\" >Namibia</td>\n",
       "      <td id=\"T_ffbbd_row3_col1\" class=\"data row3 col1\" >6.150000</td>\n",
       "      <td id=\"T_ffbbd_row3_col2\" class=\"data row3 col2\" >6.167000</td>\n",
       "      <td id=\"T_ffbbd_row3_col3\" class=\"data row3 col3\" >6.184000</td>\n",
       "      <td id=\"T_ffbbd_row3_col4\" class=\"data row3 col4\" >6.199000</td>\n",
       "      <td id=\"T_ffbbd_row3_col5\" class=\"data row3 col5\" >6.216000</td>\n",
       "      <td id=\"T_ffbbd_row3_col6\" class=\"data row3 col6\" >6.236000</td>\n",
       "      <td id=\"T_ffbbd_row3_col7\" class=\"data row3 col7\" >6.263000</td>\n",
       "      <td id=\"T_ffbbd_row3_col8\" class=\"data row3 col8\" >6.301000</td>\n",
       "      <td id=\"T_ffbbd_row3_col9\" class=\"data row3 col9\" >6.347000</td>\n",
       "      <td id=\"T_ffbbd_row3_col10\" class=\"data row3 col10\" >6.401000</td>\n",
       "      <td id=\"T_ffbbd_row3_col11\" class=\"data row3 col11\" >6.459000</td>\n",
       "      <td id=\"T_ffbbd_row3_col12\" class=\"data row3 col12\" >6.517000</td>\n",
       "      <td id=\"T_ffbbd_row3_col13\" class=\"data row3 col13\" >6.570000</td>\n",
       "      <td id=\"T_ffbbd_row3_col14\" class=\"data row3 col14\" >6.613000</td>\n",
       "      <td id=\"T_ffbbd_row3_col15\" class=\"data row3 col15\" >6.642000</td>\n",
       "      <td id=\"T_ffbbd_row3_col16\" class=\"data row3 col16\" >6.654000</td>\n",
       "      <td id=\"T_ffbbd_row3_col17\" class=\"data row3 col17\" >6.647000</td>\n",
       "      <td id=\"T_ffbbd_row3_col18\" class=\"data row3 col18\" >6.622000</td>\n",
       "      <td id=\"T_ffbbd_row3_col19\" class=\"data row3 col19\" >6.581000</td>\n",
       "      <td id=\"T_ffbbd_row3_col20\" class=\"data row3 col20\" >6.524000</td>\n",
       "      <td id=\"T_ffbbd_row3_col21\" class=\"data row3 col21\" >6.451000</td>\n",
       "      <td id=\"T_ffbbd_row3_col22\" class=\"data row3 col22\" >6.362000</td>\n",
       "      <td id=\"T_ffbbd_row3_col23\" class=\"data row3 col23\" >6.259000</td>\n",
       "      <td id=\"T_ffbbd_row3_col24\" class=\"data row3 col24\" >6.145000</td>\n",
       "      <td id=\"T_ffbbd_row3_col25\" class=\"data row3 col25\" >6.022000</td>\n",
       "      <td id=\"T_ffbbd_row3_col26\" class=\"data row3 col26\" >5.893000</td>\n",
       "      <td id=\"T_ffbbd_row3_col27\" class=\"data row3 col27\" >5.760000</td>\n",
       "      <td id=\"T_ffbbd_row3_col28\" class=\"data row3 col28\" >5.625000</td>\n",
       "      <td id=\"T_ffbbd_row3_col29\" class=\"data row3 col29\" >5.491000</td>\n",
       "      <td id=\"T_ffbbd_row3_col30\" class=\"data row3 col30\" >5.358000</td>\n",
       "      <td id=\"T_ffbbd_row3_col31\" class=\"data row3 col31\" >5.227000</td>\n",
       "      <td id=\"T_ffbbd_row3_col32\" class=\"data row3 col32\" >5.098000</td>\n",
       "      <td id=\"T_ffbbd_row3_col33\" class=\"data row3 col33\" >4.970000</td>\n",
       "      <td id=\"T_ffbbd_row3_col34\" class=\"data row3 col34\" >4.842000</td>\n",
       "      <td id=\"T_ffbbd_row3_col35\" class=\"data row3 col35\" >4.715000</td>\n",
       "      <td id=\"T_ffbbd_row3_col36\" class=\"data row3 col36\" >4.590000</td>\n",
       "      <td id=\"T_ffbbd_row3_col37\" class=\"data row3 col37\" >4.469000</td>\n",
       "      <td id=\"T_ffbbd_row3_col38\" class=\"data row3 col38\" >4.351000</td>\n",
       "      <td id=\"T_ffbbd_row3_col39\" class=\"data row3 col39\" >4.240000</td>\n",
       "      <td id=\"T_ffbbd_row3_col40\" class=\"data row3 col40\" >4.134000</td>\n",
       "      <td id=\"T_ffbbd_row3_col41\" class=\"data row3 col41\" >4.033000</td>\n",
       "      <td id=\"T_ffbbd_row3_col42\" class=\"data row3 col42\" >3.938000</td>\n",
       "      <td id=\"T_ffbbd_row3_col43\" class=\"data row3 col43\" >3.847000</td>\n",
       "      <td id=\"T_ffbbd_row3_col44\" class=\"data row3 col44\" >3.759000</td>\n",
       "      <td id=\"T_ffbbd_row3_col45\" class=\"data row3 col45\" >3.674000</td>\n",
       "      <td id=\"T_ffbbd_row3_col46\" class=\"data row3 col46\" >3.591000</td>\n",
       "      <td id=\"T_ffbbd_row3_col47\" class=\"data row3 col47\" >3.512000</td>\n",
       "      <td id=\"T_ffbbd_row3_col48\" class=\"data row3 col48\" >3.436000</td>\n",
       "      <td id=\"T_ffbbd_row3_col49\" class=\"data row3 col49\" >3.364000</td>\n",
       "      <td id=\"T_ffbbd_row3_col50\" class=\"data row3 col50\" >3.295000</td>\n",
       "      <td id=\"T_ffbbd_row3_col51\" class=\"data row3 col51\" >3.229000</td>\n",
       "      <td id=\"T_ffbbd_row3_col52\" class=\"data row3 col52\" >3.167000</td>\n",
       "      <td id=\"T_ffbbd_row3_col53\" class=\"data row3 col53\" >3.107000</td>\n",
       "      <td id=\"T_ffbbd_row3_col54\" class=\"data row3 col54\" >3.051000</td>\n",
       "    </tr>\n",
       "    <tr>\n",
       "      <th id=\"T_ffbbd_level0_row4\" class=\"row_heading level0 row4\" >108</th>\n",
       "      <td id=\"T_ffbbd_row4_col0\" class=\"data row4 col0\" >Liberia</td>\n",
       "      <td id=\"T_ffbbd_row4_col1\" class=\"data row4 col1\" >6.406000</td>\n",
       "      <td id=\"T_ffbbd_row4_col2\" class=\"data row4 col2\" >6.429000</td>\n",
       "      <td id=\"T_ffbbd_row4_col3\" class=\"data row4 col3\" >6.453000</td>\n",
       "      <td id=\"T_ffbbd_row4_col4\" class=\"data row4 col4\" >6.476000</td>\n",
       "      <td id=\"T_ffbbd_row4_col5\" class=\"data row4 col5\" >6.500000</td>\n",
       "      <td id=\"T_ffbbd_row4_col6\" class=\"data row4 col6\" >6.524000</td>\n",
       "      <td id=\"T_ffbbd_row4_col7\" class=\"data row4 col7\" >6.552000</td>\n",
       "      <td id=\"T_ffbbd_row4_col8\" class=\"data row4 col8\" >6.583000</td>\n",
       "      <td id=\"T_ffbbd_row4_col9\" class=\"data row4 col9\" >6.617000</td>\n",
       "      <td id=\"T_ffbbd_row4_col10\" class=\"data row4 col10\" >6.655000</td>\n",
       "      <td id=\"T_ffbbd_row4_col11\" class=\"data row4 col11\" >6.695000</td>\n",
       "      <td id=\"T_ffbbd_row4_col12\" class=\"data row4 col12\" >6.736000</td>\n",
       "      <td id=\"T_ffbbd_row4_col13\" class=\"data row4 col13\" >6.777000</td>\n",
       "      <td id=\"T_ffbbd_row4_col14\" class=\"data row4 col14\" >6.815000</td>\n",
       "      <td id=\"T_ffbbd_row4_col15\" class=\"data row4 col15\" >6.849000</td>\n",
       "      <td id=\"T_ffbbd_row4_col16\" class=\"data row4 col16\" >6.880000</td>\n",
       "      <td id=\"T_ffbbd_row4_col17\" class=\"data row4 col17\" >6.907000</td>\n",
       "      <td id=\"T_ffbbd_row4_col18\" class=\"data row4 col18\" >6.930000</td>\n",
       "      <td id=\"T_ffbbd_row4_col19\" class=\"data row4 col19\" >6.950000</td>\n",
       "      <td id=\"T_ffbbd_row4_col20\" class=\"data row4 col20\" >6.964000</td>\n",
       "      <td id=\"T_ffbbd_row4_col21\" class=\"data row4 col21\" >6.973000</td>\n",
       "      <td id=\"T_ffbbd_row4_col22\" class=\"data row4 col22\" >6.973000</td>\n",
       "      <td id=\"T_ffbbd_row4_col23\" class=\"data row4 col23\" >6.964000</td>\n",
       "      <td id=\"T_ffbbd_row4_col24\" class=\"data row4 col24\" >6.946000</td>\n",
       "      <td id=\"T_ffbbd_row4_col25\" class=\"data row4 col25\" >6.917000</td>\n",
       "      <td id=\"T_ffbbd_row4_col26\" class=\"data row4 col26\" >6.875000</td>\n",
       "      <td id=\"T_ffbbd_row4_col27\" class=\"data row4 col27\" >6.820000</td>\n",
       "      <td id=\"T_ffbbd_row4_col28\" class=\"data row4 col28\" >6.752000</td>\n",
       "      <td id=\"T_ffbbd_row4_col29\" class=\"data row4 col29\" >6.673000</td>\n",
       "      <td id=\"T_ffbbd_row4_col30\" class=\"data row4 col30\" >6.587000</td>\n",
       "      <td id=\"T_ffbbd_row4_col31\" class=\"data row4 col31\" >6.499000</td>\n",
       "      <td id=\"T_ffbbd_row4_col32\" class=\"data row4 col32\" >6.414000</td>\n",
       "      <td id=\"T_ffbbd_row4_col33\" class=\"data row4 col33\" >6.336000</td>\n",
       "      <td id=\"T_ffbbd_row4_col34\" class=\"data row4 col34\" >6.267000</td>\n",
       "      <td id=\"T_ffbbd_row4_col35\" class=\"data row4 col35\" >6.208000</td>\n",
       "      <td id=\"T_ffbbd_row4_col36\" class=\"data row4 col36\" >6.156000</td>\n",
       "      <td id=\"T_ffbbd_row4_col37\" class=\"data row4 col37\" >6.109000</td>\n",
       "      <td id=\"T_ffbbd_row4_col38\" class=\"data row4 col38\" >6.061000</td>\n",
       "      <td id=\"T_ffbbd_row4_col39\" class=\"data row4 col39\" >6.008000</td>\n",
       "      <td id=\"T_ffbbd_row4_col40\" class=\"data row4 col40\" >5.948000</td>\n",
       "      <td id=\"T_ffbbd_row4_col41\" class=\"data row4 col41\" >5.880000</td>\n",
       "      <td id=\"T_ffbbd_row4_col42\" class=\"data row4 col42\" >5.804000</td>\n",
       "      <td id=\"T_ffbbd_row4_col43\" class=\"data row4 col43\" >5.722000</td>\n",
       "      <td id=\"T_ffbbd_row4_col44\" class=\"data row4 col44\" >5.635000</td>\n",
       "      <td id=\"T_ffbbd_row4_col45\" class=\"data row4 col45\" >5.547000</td>\n",
       "      <td id=\"T_ffbbd_row4_col46\" class=\"data row4 col46\" >5.456000</td>\n",
       "      <td id=\"T_ffbbd_row4_col47\" class=\"data row4 col47\" >5.366000</td>\n",
       "      <td id=\"T_ffbbd_row4_col48\" class=\"data row4 col48\" >5.277000</td>\n",
       "      <td id=\"T_ffbbd_row4_col49\" class=\"data row4 col49\" >5.190000</td>\n",
       "      <td id=\"T_ffbbd_row4_col50\" class=\"data row4 col50\" >5.106000</td>\n",
       "      <td id=\"T_ffbbd_row4_col51\" class=\"data row4 col51\" >5.024000</td>\n",
       "      <td id=\"T_ffbbd_row4_col52\" class=\"data row4 col52\" >4.945000</td>\n",
       "      <td id=\"T_ffbbd_row4_col53\" class=\"data row4 col53\" >4.868000</td>\n",
       "      <td id=\"T_ffbbd_row4_col54\" class=\"data row4 col54\" >4.792000</td>\n",
       "    </tr>\n",
       "    <tr>\n",
       "      <th id=\"T_ffbbd_level0_row5\" class=\"row_heading level0 row5\" >194</th>\n",
       "      <td id=\"T_ffbbd_row5_col0\" class=\"data row5 col0\" >Turkey</td>\n",
       "      <td id=\"T_ffbbd_row5_col1\" class=\"data row5 col1\" >6.303000</td>\n",
       "      <td id=\"T_ffbbd_row5_col2\" class=\"data row5 col2\" >6.241000</td>\n",
       "      <td id=\"T_ffbbd_row5_col3\" class=\"data row5 col3\" >6.175000</td>\n",
       "      <td id=\"T_ffbbd_row5_col4\" class=\"data row5 col4\" >6.104000</td>\n",
       "      <td id=\"T_ffbbd_row5_col5\" class=\"data row5 col5\" >6.029000</td>\n",
       "      <td id=\"T_ffbbd_row5_col6\" class=\"data row5 col6\" >5.951000</td>\n",
       "      <td id=\"T_ffbbd_row5_col7\" class=\"data row5 col7\" >5.874000</td>\n",
       "      <td id=\"T_ffbbd_row5_col8\" class=\"data row5 col8\" >5.797000</td>\n",
       "      <td id=\"T_ffbbd_row5_col9\" class=\"data row5 col9\" >5.721000</td>\n",
       "      <td id=\"T_ffbbd_row5_col10\" class=\"data row5 col10\" >5.644000</td>\n",
       "      <td id=\"T_ffbbd_row5_col11\" class=\"data row5 col11\" >5.563000</td>\n",
       "      <td id=\"T_ffbbd_row5_col12\" class=\"data row5 col12\" >5.475000</td>\n",
       "      <td id=\"T_ffbbd_row5_col13\" class=\"data row5 col13\" >5.375000</td>\n",
       "      <td id=\"T_ffbbd_row5_col14\" class=\"data row5 col14\" >5.263000</td>\n",
       "      <td id=\"T_ffbbd_row5_col15\" class=\"data row5 col15\" >5.140000</td>\n",
       "      <td id=\"T_ffbbd_row5_col16\" class=\"data row5 col16\" >5.008000</td>\n",
       "      <td id=\"T_ffbbd_row5_col17\" class=\"data row5 col17\" >4.872000</td>\n",
       "      <td id=\"T_ffbbd_row5_col18\" class=\"data row5 col18\" >4.738000</td>\n",
       "      <td id=\"T_ffbbd_row5_col19\" class=\"data row5 col19\" >4.608000</td>\n",
       "      <td id=\"T_ffbbd_row5_col20\" class=\"data row5 col20\" >4.483000</td>\n",
       "      <td id=\"T_ffbbd_row5_col21\" class=\"data row5 col21\" >4.361000</td>\n",
       "      <td id=\"T_ffbbd_row5_col22\" class=\"data row5 col22\" >4.239000</td>\n",
       "      <td id=\"T_ffbbd_row5_col23\" class=\"data row5 col23\" >4.114000</td>\n",
       "      <td id=\"T_ffbbd_row5_col24\" class=\"data row5 col24\" >3.982000</td>\n",
       "      <td id=\"T_ffbbd_row5_col25\" class=\"data row5 col25\" >3.844000</td>\n",
       "      <td id=\"T_ffbbd_row5_col26\" class=\"data row5 col26\" >3.704000</td>\n",
       "      <td id=\"T_ffbbd_row5_col27\" class=\"data row5 col27\" >3.563000</td>\n",
       "      <td id=\"T_ffbbd_row5_col28\" class=\"data row5 col28\" >3.427000</td>\n",
       "      <td id=\"T_ffbbd_row5_col29\" class=\"data row5 col29\" >3.300000</td>\n",
       "      <td id=\"T_ffbbd_row5_col30\" class=\"data row5 col30\" >3.183000</td>\n",
       "      <td id=\"T_ffbbd_row5_col31\" class=\"data row5 col31\" >3.078000</td>\n",
       "      <td id=\"T_ffbbd_row5_col32\" class=\"data row5 col32\" >2.987000</td>\n",
       "      <td id=\"T_ffbbd_row5_col33\" class=\"data row5 col33\" >2.906000</td>\n",
       "      <td id=\"T_ffbbd_row5_col34\" class=\"data row5 col34\" >2.835000</td>\n",
       "      <td id=\"T_ffbbd_row5_col35\" class=\"data row5 col35\" >2.772000</td>\n",
       "      <td id=\"T_ffbbd_row5_col36\" class=\"data row5 col36\" >2.715000</td>\n",
       "      <td id=\"T_ffbbd_row5_col37\" class=\"data row5 col37\" >2.661000</td>\n",
       "      <td id=\"T_ffbbd_row5_col38\" class=\"data row5 col38\" >2.609000</td>\n",
       "      <td id=\"T_ffbbd_row5_col39\" class=\"data row5 col39\" >2.557000</td>\n",
       "      <td id=\"T_ffbbd_row5_col40\" class=\"data row5 col40\" >2.506000</td>\n",
       "      <td id=\"T_ffbbd_row5_col41\" class=\"data row5 col41\" >2.454000</td>\n",
       "      <td id=\"T_ffbbd_row5_col42\" class=\"data row5 col42\" >2.404000</td>\n",
       "      <td id=\"T_ffbbd_row5_col43\" class=\"data row5 col43\" >2.356000</td>\n",
       "      <td id=\"T_ffbbd_row5_col44\" class=\"data row5 col44\" >2.311000</td>\n",
       "      <td id=\"T_ffbbd_row5_col45\" class=\"data row5 col45\" >2.270000</td>\n",
       "      <td id=\"T_ffbbd_row5_col46\" class=\"data row5 col46\" >2.234000</td>\n",
       "      <td id=\"T_ffbbd_row5_col47\" class=\"data row5 col47\" >2.202000</td>\n",
       "      <td id=\"T_ffbbd_row5_col48\" class=\"data row5 col48\" >2.173000</td>\n",
       "      <td id=\"T_ffbbd_row5_col49\" class=\"data row5 col49\" >2.147000</td>\n",
       "      <td id=\"T_ffbbd_row5_col50\" class=\"data row5 col50\" >2.123000</td>\n",
       "      <td id=\"T_ffbbd_row5_col51\" class=\"data row5 col51\" >2.101000</td>\n",
       "      <td id=\"T_ffbbd_row5_col52\" class=\"data row5 col52\" >2.080000</td>\n",
       "      <td id=\"T_ffbbd_row5_col53\" class=\"data row5 col53\" >2.060000</td>\n",
       "      <td id=\"T_ffbbd_row5_col54\" class=\"data row5 col54\" >2.041000</td>\n",
       "    </tr>\n",
       "    <tr>\n",
       "      <th id=\"T_ffbbd_level0_row6\" class=\"row_heading level0 row6\" >38</th>\n",
       "      <td id=\"T_ffbbd_row6_col0\" class=\"data row6 col0\" >Cameroon</td>\n",
       "      <td id=\"T_ffbbd_row6_col1\" class=\"data row6 col1\" >5.647000</td>\n",
       "      <td id=\"T_ffbbd_row6_col2\" class=\"data row6 col2\" >5.705000</td>\n",
       "      <td id=\"T_ffbbd_row6_col3\" class=\"data row6 col3\" >5.766000</td>\n",
       "      <td id=\"T_ffbbd_row6_col4\" class=\"data row6 col4\" >5.828000</td>\n",
       "      <td id=\"T_ffbbd_row6_col5\" class=\"data row6 col5\" >5.890000</td>\n",
       "      <td id=\"T_ffbbd_row6_col6\" class=\"data row6 col6\" >5.949000</td>\n",
       "      <td id=\"T_ffbbd_row6_col7\" class=\"data row6 col7\" >6.005000</td>\n",
       "      <td id=\"T_ffbbd_row6_col8\" class=\"data row6 col8\" >6.058000</td>\n",
       "      <td id=\"T_ffbbd_row6_col9\" class=\"data row6 col9\" >6.110000</td>\n",
       "      <td id=\"T_ffbbd_row6_col10\" class=\"data row6 col10\" >6.159000</td>\n",
       "      <td id=\"T_ffbbd_row6_col11\" class=\"data row6 col11\" >6.205000</td>\n",
       "      <td id=\"T_ffbbd_row6_col12\" class=\"data row6 col12\" >6.247000</td>\n",
       "      <td id=\"T_ffbbd_row6_col13\" class=\"data row6 col13\" >6.286000</td>\n",
       "      <td id=\"T_ffbbd_row6_col14\" class=\"data row6 col14\" >6.322000</td>\n",
       "      <td id=\"T_ffbbd_row6_col15\" class=\"data row6 col15\" >6.356000</td>\n",
       "      <td id=\"T_ffbbd_row6_col16\" class=\"data row6 col16\" >6.391000</td>\n",
       "      <td id=\"T_ffbbd_row6_col17\" class=\"data row6 col17\" >6.429000</td>\n",
       "      <td id=\"T_ffbbd_row6_col18\" class=\"data row6 col18\" >6.470000</td>\n",
       "      <td id=\"T_ffbbd_row6_col19\" class=\"data row6 col19\" >6.516000</td>\n",
       "      <td id=\"T_ffbbd_row6_col20\" class=\"data row6 col20\" >6.563000</td>\n",
       "      <td id=\"T_ffbbd_row6_col21\" class=\"data row6 col21\" >6.609000</td>\n",
       "      <td id=\"T_ffbbd_row6_col22\" class=\"data row6 col22\" >6.651000</td>\n",
       "      <td id=\"T_ffbbd_row6_col23\" class=\"data row6 col23\" >6.683000</td>\n",
       "      <td id=\"T_ffbbd_row6_col24\" class=\"data row6 col24\" >6.703000</td>\n",
       "      <td id=\"T_ffbbd_row6_col25\" class=\"data row6 col25\" >6.708000</td>\n",
       "      <td id=\"T_ffbbd_row6_col26\" class=\"data row6 col26\" >6.697000</td>\n",
       "      <td id=\"T_ffbbd_row6_col27\" class=\"data row6 col27\" >6.669000</td>\n",
       "      <td id=\"T_ffbbd_row6_col28\" class=\"data row6 col28\" >6.627000</td>\n",
       "      <td id=\"T_ffbbd_row6_col29\" class=\"data row6 col29\" >6.572000</td>\n",
       "      <td id=\"T_ffbbd_row6_col30\" class=\"data row6 col30\" >6.508000</td>\n",
       "      <td id=\"T_ffbbd_row6_col31\" class=\"data row6 col31\" >6.434000</td>\n",
       "      <td id=\"T_ffbbd_row6_col32\" class=\"data row6 col32\" >6.352000</td>\n",
       "      <td id=\"T_ffbbd_row6_col33\" class=\"data row6 col33\" >6.264000</td>\n",
       "      <td id=\"T_ffbbd_row6_col34\" class=\"data row6 col34\" >6.173000</td>\n",
       "      <td id=\"T_ffbbd_row6_col35\" class=\"data row6 col35\" >6.080000</td>\n",
       "      <td id=\"T_ffbbd_row6_col36\" class=\"data row6 col36\" >5.989000</td>\n",
       "      <td id=\"T_ffbbd_row6_col37\" class=\"data row6 col37\" >5.903000</td>\n",
       "      <td id=\"T_ffbbd_row6_col38\" class=\"data row6 col38\" >5.823000</td>\n",
       "      <td id=\"T_ffbbd_row6_col39\" class=\"data row6 col39\" >5.749000</td>\n",
       "      <td id=\"T_ffbbd_row6_col40\" class=\"data row6 col40\" >5.682000</td>\n",
       "      <td id=\"T_ffbbd_row6_col41\" class=\"data row6 col41\" >5.621000</td>\n",
       "      <td id=\"T_ffbbd_row6_col42\" class=\"data row6 col42\" >5.567000</td>\n",
       "      <td id=\"T_ffbbd_row6_col43\" class=\"data row6 col43\" >5.515000</td>\n",
       "      <td id=\"T_ffbbd_row6_col44\" class=\"data row6 col44\" >5.464000</td>\n",
       "      <td id=\"T_ffbbd_row6_col45\" class=\"data row6 col45\" >5.413000</td>\n",
       "      <td id=\"T_ffbbd_row6_col46\" class=\"data row6 col46\" >5.358000</td>\n",
       "      <td id=\"T_ffbbd_row6_col47\" class=\"data row6 col47\" >5.299000</td>\n",
       "      <td id=\"T_ffbbd_row6_col48\" class=\"data row6 col48\" >5.235000</td>\n",
       "      <td id=\"T_ffbbd_row6_col49\" class=\"data row6 col49\" >5.167000</td>\n",
       "      <td id=\"T_ffbbd_row6_col50\" class=\"data row6 col50\" >5.094000</td>\n",
       "      <td id=\"T_ffbbd_row6_col51\" class=\"data row6 col51\" >5.017000</td>\n",
       "      <td id=\"T_ffbbd_row6_col52\" class=\"data row6 col52\" >4.939000</td>\n",
       "      <td id=\"T_ffbbd_row6_col53\" class=\"data row6 col53\" >4.859000</td>\n",
       "      <td id=\"T_ffbbd_row6_col54\" class=\"data row6 col54\" >4.780000</td>\n",
       "    </tr>\n",
       "    <tr>\n",
       "      <th id=\"T_ffbbd_level0_row7\" class=\"row_heading level0 row7\" >128</th>\n",
       "      <td id=\"T_ffbbd_row7_col0\" class=\"data row7 col0\" >Malta</td>\n",
       "      <td id=\"T_ffbbd_row7_col1\" class=\"data row7 col1\" >3.620000</td>\n",
       "      <td id=\"T_ffbbd_row7_col2\" class=\"data row7 col2\" >3.270000</td>\n",
       "      <td id=\"T_ffbbd_row7_col3\" class=\"data row7 col3\" >3.240000</td>\n",
       "      <td id=\"T_ffbbd_row7_col4\" class=\"data row7 col4\" >2.900000</td>\n",
       "      <td id=\"T_ffbbd_row7_col5\" class=\"data row7 col5\" >2.790000</td>\n",
       "      <td id=\"T_ffbbd_row7_col6\" class=\"data row7 col6\" >2.520000</td>\n",
       "      <td id=\"T_ffbbd_row7_col7\" class=\"data row7 col7\" >2.330000</td>\n",
       "      <td id=\"T_ffbbd_row7_col8\" class=\"data row7 col8\" >2.240000</td>\n",
       "      <td id=\"T_ffbbd_row7_col9\" class=\"data row7 col9\" >2.120000</td>\n",
       "      <td id=\"T_ffbbd_row7_col10\" class=\"data row7 col10\" >2.020000</td>\n",
       "      <td id=\"T_ffbbd_row7_col11\" class=\"data row7 col11\" >2.030000</td>\n",
       "      <td id=\"T_ffbbd_row7_col12\" class=\"data row7 col12\" >2.060000</td>\n",
       "      <td id=\"T_ffbbd_row7_col13\" class=\"data row7 col13\" >2.010000</td>\n",
       "      <td id=\"T_ffbbd_row7_col14\" class=\"data row7 col14\" >1.650000</td>\n",
       "      <td id=\"T_ffbbd_row7_col15\" class=\"data row7 col15\" >1.640000</td>\n",
       "      <td id=\"T_ffbbd_row7_col16\" class=\"data row7 col16\" >2.270000</td>\n",
       "      <td id=\"T_ffbbd_row7_col17\" class=\"data row7 col17\" >2.210000</td>\n",
       "      <td id=\"T_ffbbd_row7_col18\" class=\"data row7 col18\" >2.140000</td>\n",
       "      <td id=\"T_ffbbd_row7_col19\" class=\"data row7 col19\" >2.050000</td>\n",
       "      <td id=\"T_ffbbd_row7_col20\" class=\"data row7 col20\" >2.100000</td>\n",
       "      <td id=\"T_ffbbd_row7_col21\" class=\"data row7 col21\" >1.990000</td>\n",
       "      <td id=\"T_ffbbd_row7_col22\" class=\"data row7 col22\" >1.870000</td>\n",
       "      <td id=\"T_ffbbd_row7_col23\" class=\"data row7 col23\" >1.900000</td>\n",
       "      <td id=\"T_ffbbd_row7_col24\" class=\"data row7 col24\" >1.920000</td>\n",
       "      <td id=\"T_ffbbd_row7_col25\" class=\"data row7 col25\" >1.950000</td>\n",
       "      <td id=\"T_ffbbd_row7_col26\" class=\"data row7 col26\" >1.950000</td>\n",
       "      <td id=\"T_ffbbd_row7_col27\" class=\"data row7 col27\" >1.930000</td>\n",
       "      <td id=\"T_ffbbd_row7_col28\" class=\"data row7 col28\" >1.970000</td>\n",
       "      <td id=\"T_ffbbd_row7_col29\" class=\"data row7 col29\" >2.060000</td>\n",
       "      <td id=\"T_ffbbd_row7_col30\" class=\"data row7 col30\" >2.100000</td>\n",
       "      <td id=\"T_ffbbd_row7_col31\" class=\"data row7 col31\" >2.040000</td>\n",
       "      <td id=\"T_ffbbd_row7_col32\" class=\"data row7 col32\" >2.040000</td>\n",
       "      <td id=\"T_ffbbd_row7_col33\" class=\"data row7 col33\" >2.110000</td>\n",
       "      <td id=\"T_ffbbd_row7_col34\" class=\"data row7 col34\" >2.000000</td>\n",
       "      <td id=\"T_ffbbd_row7_col35\" class=\"data row7 col35\" >1.880000</td>\n",
       "      <td id=\"T_ffbbd_row7_col36\" class=\"data row7 col36\" >1.810000</td>\n",
       "      <td id=\"T_ffbbd_row7_col37\" class=\"data row7 col37\" >2.030000</td>\n",
       "      <td id=\"T_ffbbd_row7_col38\" class=\"data row7 col38\" >1.980000</td>\n",
       "      <td id=\"T_ffbbd_row7_col39\" class=\"data row7 col39\" >1.880000</td>\n",
       "      <td id=\"T_ffbbd_row7_col40\" class=\"data row7 col40\" >1.770000</td>\n",
       "      <td id=\"T_ffbbd_row7_col41\" class=\"data row7 col41\" >1.700000</td>\n",
       "      <td id=\"T_ffbbd_row7_col42\" class=\"data row7 col42\" >1.480000</td>\n",
       "      <td id=\"T_ffbbd_row7_col43\" class=\"data row7 col43\" >1.450000</td>\n",
       "      <td id=\"T_ffbbd_row7_col44\" class=\"data row7 col44\" >1.480000</td>\n",
       "      <td id=\"T_ffbbd_row7_col45\" class=\"data row7 col45\" >1.400000</td>\n",
       "      <td id=\"T_ffbbd_row7_col46\" class=\"data row7 col46\" >1.380000</td>\n",
       "      <td id=\"T_ffbbd_row7_col47\" class=\"data row7 col47\" >1.360000</td>\n",
       "      <td id=\"T_ffbbd_row7_col48\" class=\"data row7 col48\" >1.350000</td>\n",
       "      <td id=\"T_ffbbd_row7_col49\" class=\"data row7 col49\" >1.430000</td>\n",
       "      <td id=\"T_ffbbd_row7_col50\" class=\"data row7 col50\" >1.420000</td>\n",
       "      <td id=\"T_ffbbd_row7_col51\" class=\"data row7 col51\" >1.360000</td>\n",
       "      <td id=\"T_ffbbd_row7_col52\" class=\"data row7 col52\" >1.450000</td>\n",
       "      <td id=\"T_ffbbd_row7_col53\" class=\"data row7 col53\" >1.430000</td>\n",
       "      <td id=\"T_ffbbd_row7_col54\" class=\"data row7 col54\" >1.430000</td>\n",
       "    </tr>\n",
       "    <tr>\n",
       "      <th id=\"T_ffbbd_level0_row8\" class=\"row_heading level0 row8\" >114</th>\n",
       "      <td id=\"T_ffbbd_row8_col0\" class=\"data row8 col0\" >Lithuania</td>\n",
       "      <td id=\"T_ffbbd_row8_col1\" class=\"data row8 col1\" >2.560000</td>\n",
       "      <td id=\"T_ffbbd_row8_col2\" class=\"data row8 col2\" >2.530000</td>\n",
       "      <td id=\"T_ffbbd_row8_col3\" class=\"data row8 col3\" >2.450000</td>\n",
       "      <td id=\"T_ffbbd_row8_col4\" class=\"data row8 col4\" >2.350000</td>\n",
       "      <td id=\"T_ffbbd_row8_col5\" class=\"data row8 col5\" >2.280000</td>\n",
       "      <td id=\"T_ffbbd_row8_col6\" class=\"data row8 col6\" >2.230000</td>\n",
       "      <td id=\"T_ffbbd_row8_col7\" class=\"data row8 col7\" >2.220000</td>\n",
       "      <td id=\"T_ffbbd_row8_col8\" class=\"data row8 col8\" >2.230000</td>\n",
       "      <td id=\"T_ffbbd_row8_col9\" class=\"data row8 col9\" >2.240000</td>\n",
       "      <td id=\"T_ffbbd_row8_col10\" class=\"data row8 col10\" >2.300000</td>\n",
       "      <td id=\"T_ffbbd_row8_col11\" class=\"data row8 col11\" >2.400000</td>\n",
       "      <td id=\"T_ffbbd_row8_col12\" class=\"data row8 col12\" >2.410000</td>\n",
       "      <td id=\"T_ffbbd_row8_col13\" class=\"data row8 col13\" >2.340000</td>\n",
       "      <td id=\"T_ffbbd_row8_col14\" class=\"data row8 col14\" >2.220000</td>\n",
       "      <td id=\"T_ffbbd_row8_col15\" class=\"data row8 col15\" >2.210000</td>\n",
       "      <td id=\"T_ffbbd_row8_col16\" class=\"data row8 col16\" >2.180000</td>\n",
       "      <td id=\"T_ffbbd_row8_col17\" class=\"data row8 col17\" >2.180000</td>\n",
       "      <td id=\"T_ffbbd_row8_col18\" class=\"data row8 col18\" >2.140000</td>\n",
       "      <td id=\"T_ffbbd_row8_col19\" class=\"data row8 col19\" >2.080000</td>\n",
       "      <td id=\"T_ffbbd_row8_col20\" class=\"data row8 col20\" >2.050000</td>\n",
       "      <td id=\"T_ffbbd_row8_col21\" class=\"data row8 col21\" >1.990000</td>\n",
       "      <td id=\"T_ffbbd_row8_col22\" class=\"data row8 col22\" >1.980000</td>\n",
       "      <td id=\"T_ffbbd_row8_col23\" class=\"data row8 col23\" >1.970000</td>\n",
       "      <td id=\"T_ffbbd_row8_col24\" class=\"data row8 col24\" >2.100000</td>\n",
       "      <td id=\"T_ffbbd_row8_col25\" class=\"data row8 col25\" >2.070000</td>\n",
       "      <td id=\"T_ffbbd_row8_col26\" class=\"data row8 col26\" >2.080000</td>\n",
       "      <td id=\"T_ffbbd_row8_col27\" class=\"data row8 col27\" >2.120000</td>\n",
       "      <td id=\"T_ffbbd_row8_col28\" class=\"data row8 col28\" >2.110000</td>\n",
       "      <td id=\"T_ffbbd_row8_col29\" class=\"data row8 col29\" >2.020000</td>\n",
       "      <td id=\"T_ffbbd_row8_col30\" class=\"data row8 col30\" >1.980000</td>\n",
       "      <td id=\"T_ffbbd_row8_col31\" class=\"data row8 col31\" >2.030000</td>\n",
       "      <td id=\"T_ffbbd_row8_col32\" class=\"data row8 col32\" >2.010000</td>\n",
       "      <td id=\"T_ffbbd_row8_col33\" class=\"data row8 col33\" >1.970000</td>\n",
       "      <td id=\"T_ffbbd_row8_col34\" class=\"data row8 col34\" >1.740000</td>\n",
       "      <td id=\"T_ffbbd_row8_col35\" class=\"data row8 col35\" >1.570000</td>\n",
       "      <td id=\"T_ffbbd_row8_col36\" class=\"data row8 col36\" >1.550000</td>\n",
       "      <td id=\"T_ffbbd_row8_col37\" class=\"data row8 col37\" >1.490000</td>\n",
       "      <td id=\"T_ffbbd_row8_col38\" class=\"data row8 col38\" >1.470000</td>\n",
       "      <td id=\"T_ffbbd_row8_col39\" class=\"data row8 col39\" >1.460000</td>\n",
       "      <td id=\"T_ffbbd_row8_col40\" class=\"data row8 col40\" >1.460000</td>\n",
       "      <td id=\"T_ffbbd_row8_col41\" class=\"data row8 col41\" >1.390000</td>\n",
       "      <td id=\"T_ffbbd_row8_col42\" class=\"data row8 col42\" >1.290000</td>\n",
       "      <td id=\"T_ffbbd_row8_col43\" class=\"data row8 col43\" >1.230000</td>\n",
       "      <td id=\"T_ffbbd_row8_col44\" class=\"data row8 col44\" >1.260000</td>\n",
       "      <td id=\"T_ffbbd_row8_col45\" class=\"data row8 col45\" >1.270000</td>\n",
       "      <td id=\"T_ffbbd_row8_col46\" class=\"data row8 col46\" >1.290000</td>\n",
       "      <td id=\"T_ffbbd_row8_col47\" class=\"data row8 col47\" >1.330000</td>\n",
       "      <td id=\"T_ffbbd_row8_col48\" class=\"data row8 col48\" >1.360000</td>\n",
       "      <td id=\"T_ffbbd_row8_col49\" class=\"data row8 col49\" >1.450000</td>\n",
       "      <td id=\"T_ffbbd_row8_col50\" class=\"data row8 col50\" >1.500000</td>\n",
       "      <td id=\"T_ffbbd_row8_col51\" class=\"data row8 col51\" >1.500000</td>\n",
       "      <td id=\"T_ffbbd_row8_col52\" class=\"data row8 col52\" >1.550000</td>\n",
       "      <td id=\"T_ffbbd_row8_col53\" class=\"data row8 col53\" >1.600000</td>\n",
       "      <td id=\"T_ffbbd_row8_col54\" class=\"data row8 col54\" >1.600000</td>\n",
       "    </tr>\n",
       "    <tr>\n",
       "      <th id=\"T_ffbbd_level0_row9\" class=\"row_heading level0 row9\" >56</th>\n",
       "      <td id=\"T_ffbbd_row9_col0\" class=\"data row9 col0\" >Egypt, Arab Rep.</td>\n",
       "      <td id=\"T_ffbbd_row9_col1\" class=\"data row9 col1\" >6.630000</td>\n",
       "      <td id=\"T_ffbbd_row9_col2\" class=\"data row9 col2\" >6.605000</td>\n",
       "      <td id=\"T_ffbbd_row9_col3\" class=\"data row9 col3\" >6.570000</td>\n",
       "      <td id=\"T_ffbbd_row9_col4\" class=\"data row9 col4\" >6.526000</td>\n",
       "      <td id=\"T_ffbbd_row9_col5\" class=\"data row9 col5\" >6.471000</td>\n",
       "      <td id=\"T_ffbbd_row9_col6\" class=\"data row9 col6\" >6.405000</td>\n",
       "      <td id=\"T_ffbbd_row9_col7\" class=\"data row9 col7\" >6.327000</td>\n",
       "      <td id=\"T_ffbbd_row9_col8\" class=\"data row9 col8\" >6.238000</td>\n",
       "      <td id=\"T_ffbbd_row9_col9\" class=\"data row9 col9\" >6.141000</td>\n",
       "      <td id=\"T_ffbbd_row9_col10\" class=\"data row9 col10\" >6.040000</td>\n",
       "      <td id=\"T_ffbbd_row9_col11\" class=\"data row9 col11\" >5.940000</td>\n",
       "      <td id=\"T_ffbbd_row9_col12\" class=\"data row9 col12\" >5.846000</td>\n",
       "      <td id=\"T_ffbbd_row9_col13\" class=\"data row9 col13\" >5.763000</td>\n",
       "      <td id=\"T_ffbbd_row9_col14\" class=\"data row9 col14\" >5.692000</td>\n",
       "      <td id=\"T_ffbbd_row9_col15\" class=\"data row9 col15\" >5.633000</td>\n",
       "      <td id=\"T_ffbbd_row9_col16\" class=\"data row9 col16\" >5.585000</td>\n",
       "      <td id=\"T_ffbbd_row9_col17\" class=\"data row9 col17\" >5.545000</td>\n",
       "      <td id=\"T_ffbbd_row9_col18\" class=\"data row9 col18\" >5.507000</td>\n",
       "      <td id=\"T_ffbbd_row9_col19\" class=\"data row9 col19\" >5.465000</td>\n",
       "      <td id=\"T_ffbbd_row9_col20\" class=\"data row9 col20\" >5.418000</td>\n",
       "      <td id=\"T_ffbbd_row9_col21\" class=\"data row9 col21\" >5.366000</td>\n",
       "      <td id=\"T_ffbbd_row9_col22\" class=\"data row9 col22\" >5.310000</td>\n",
       "      <td id=\"T_ffbbd_row9_col23\" class=\"data row9 col23\" >5.251000</td>\n",
       "      <td id=\"T_ffbbd_row9_col24\" class=\"data row9 col24\" >5.189000</td>\n",
       "      <td id=\"T_ffbbd_row9_col25\" class=\"data row9 col25\" >5.123000</td>\n",
       "      <td id=\"T_ffbbd_row9_col26\" class=\"data row9 col26\" >5.045000</td>\n",
       "      <td id=\"T_ffbbd_row9_col27\" class=\"data row9 col27\" >4.947000</td>\n",
       "      <td id=\"T_ffbbd_row9_col28\" class=\"data row9 col28\" >4.827000</td>\n",
       "      <td id=\"T_ffbbd_row9_col29\" class=\"data row9 col29\" >4.684000</td>\n",
       "      <td id=\"T_ffbbd_row9_col30\" class=\"data row9 col30\" >4.522000</td>\n",
       "      <td id=\"T_ffbbd_row9_col31\" class=\"data row9 col31\" >4.350000</td>\n",
       "      <td id=\"T_ffbbd_row9_col32\" class=\"data row9 col32\" >4.179000</td>\n",
       "      <td id=\"T_ffbbd_row9_col33\" class=\"data row9 col33\" >4.018000</td>\n",
       "      <td id=\"T_ffbbd_row9_col34\" class=\"data row9 col34\" >3.876000</td>\n",
       "      <td id=\"T_ffbbd_row9_col35\" class=\"data row9 col35\" >3.757000</td>\n",
       "      <td id=\"T_ffbbd_row9_col36\" class=\"data row9 col36\" >3.659000</td>\n",
       "      <td id=\"T_ffbbd_row9_col37\" class=\"data row9 col37\" >3.579000</td>\n",
       "      <td id=\"T_ffbbd_row9_col38\" class=\"data row9 col38\" >3.508000</td>\n",
       "      <td id=\"T_ffbbd_row9_col39\" class=\"data row9 col39\" >3.440000</td>\n",
       "      <td id=\"T_ffbbd_row9_col40\" class=\"data row9 col40\" >3.372000</td>\n",
       "      <td id=\"T_ffbbd_row9_col41\" class=\"data row9 col41\" >3.306000</td>\n",
       "      <td id=\"T_ffbbd_row9_col42\" class=\"data row9 col42\" >3.242000</td>\n",
       "      <td id=\"T_ffbbd_row9_col43\" class=\"data row9 col43\" >3.184000</td>\n",
       "      <td id=\"T_ffbbd_row9_col44\" class=\"data row9 col44\" >3.134000</td>\n",
       "      <td id=\"T_ffbbd_row9_col45\" class=\"data row9 col45\" >3.091000</td>\n",
       "      <td id=\"T_ffbbd_row9_col46\" class=\"data row9 col46\" >3.053000</td>\n",
       "      <td id=\"T_ffbbd_row9_col47\" class=\"data row9 col47\" >3.020000</td>\n",
       "      <td id=\"T_ffbbd_row9_col48\" class=\"data row9 col48\" >2.987000</td>\n",
       "      <td id=\"T_ffbbd_row9_col49\" class=\"data row9 col49\" >2.954000</td>\n",
       "      <td id=\"T_ffbbd_row9_col50\" class=\"data row9 col50\" >2.919000</td>\n",
       "      <td id=\"T_ffbbd_row9_col51\" class=\"data row9 col51\" >2.883000</td>\n",
       "      <td id=\"T_ffbbd_row9_col52\" class=\"data row9 col52\" >2.845000</td>\n",
       "      <td id=\"T_ffbbd_row9_col53\" class=\"data row9 col53\" >2.807000</td>\n",
       "      <td id=\"T_ffbbd_row9_col54\" class=\"data row9 col54\" >2.770000</td>\n",
       "    </tr>\n",
       "  </tbody>\n",
       "</table>\n"
      ],
      "text/plain": [
       "<pandas.io.formats.style.Styler at 0x7f733760f370>"
      ]
     },
     "execution_count": 12,
     "metadata": {},
     "output_type": "execute_result"
    }
   ],
   "source": [
    "# Count missing values in each row\n",
    "missing_counts_per_row = df.isnull().sum(axis=1)\n",
    "\n",
    "# Find rows with more than 40 missing values\n",
    "rows_with_more_than_40_missing = df[missing_counts_per_row > 40]\n",
    "\n",
    "# Drop rows where the number of missing values exceeds 40\n",
    "df_cleaned = df[missing_counts_per_row <= 40]\n",
    "\n",
    "# If you want to update the original Data, you can reassign it\n",
    "df = df_cleaned\n",
    "\n",
    "# Display 10 random rows after removing the rows with missing values\n",
    "\n",
    "df.sample(10).style.set_properties(**{\"background-color\": \"#003366\",\"color\":\"white\",\"border\": \"1.5px  solid black\"})"
   ]
  },
  {
   "cell_type": "markdown",
   "id": "43960fd0-a1fa-4b69-aab7-2c463f278e70",
   "metadata": {},
   "source": [
    "# Data Summary\n",
    "Let's have a glimpse of the summary of the dataset. "
   ]
  },
  {
   "cell_type": "code",
   "execution_count": 14,
   "id": "47bd794f-96ab-40ab-88f5-e6f60ab5385e",
   "metadata": {},
   "outputs": [
    {
     "name": "stdout",
     "output_type": "stream",
     "text": [
      "<class 'pandas.core.frame.DataFrame'>\n",
      "Index: 198 entries, 0 to 214\n",
      "Data columns (total 55 columns):\n",
      " #   Column        Non-Null Count  Dtype  \n",
      "---  ------        --------------  -----  \n",
      " 0   Country Name  198 non-null    object \n",
      " 1   1960          190 non-null    float64\n",
      " 2   1961          190 non-null    float64\n",
      " 3   1962          190 non-null    float64\n",
      " 4   1963          189 non-null    float64\n",
      " 5   1964          190 non-null    float64\n",
      " 6   1965          190 non-null    float64\n",
      " 7   1966          190 non-null    float64\n",
      " 8   1967          190 non-null    float64\n",
      " 9   1968          190 non-null    float64\n",
      " 10  1969          190 non-null    float64\n",
      " 11  1970          190 non-null    float64\n",
      " 12  1971          191 non-null    float64\n",
      " 13  1972          190 non-null    float64\n",
      " 14  1973          190 non-null    float64\n",
      " 15  1974          190 non-null    float64\n",
      " 16  1975          190 non-null    float64\n",
      " 17  1976          191 non-null    float64\n",
      " 18  1977          190 non-null    float64\n",
      " 19  1978          190 non-null    float64\n",
      " 20  1979          190 non-null    float64\n",
      " 21  1980          190 non-null    float64\n",
      " 22  1981          192 non-null    float64\n",
      " 23  1982          193 non-null    float64\n",
      " 24  1983          192 non-null    float64\n",
      " 25  1984          192 non-null    float64\n",
      " 26  1985          192 non-null    float64\n",
      " 27  1986          192 non-null    float64\n",
      " 28  1987          193 non-null    float64\n",
      " 29  1988          192 non-null    float64\n",
      " 30  1989          192 non-null    float64\n",
      " 31  1990          194 non-null    float64\n",
      " 32  1991          195 non-null    float64\n",
      " 33  1992          195 non-null    float64\n",
      " 34  1993          194 non-null    float64\n",
      " 35  1994          194 non-null    float64\n",
      " 36  1995          196 non-null    float64\n",
      " 37  1996          194 non-null    float64\n",
      " 38  1997          196 non-null    float64\n",
      " 39  1998          195 non-null    float64\n",
      " 40  1999          195 non-null    float64\n",
      " 41  2000          197 non-null    float64\n",
      " 42  2001          198 non-null    float64\n",
      " 43  2002          198 non-null    float64\n",
      " 44  2003          198 non-null    float64\n",
      " 45  2004          198 non-null    float64\n",
      " 46  2005          198 non-null    float64\n",
      " 47  2006          198 non-null    float64\n",
      " 48  2007          198 non-null    float64\n",
      " 49  2008          198 non-null    float64\n",
      " 50  2009          198 non-null    float64\n",
      " 51  2010          198 non-null    float64\n",
      " 52  2011          198 non-null    float64\n",
      " 53  2012          198 non-null    float64\n",
      " 54  2013          198 non-null    float64\n",
      "dtypes: float64(54), object(1)\n",
      "memory usage: 86.6+ KB\n"
     ]
    }
   ],
   "source": [
    "df.info()"
   ]
  },
  {
   "cell_type": "markdown",
   "id": "c4f068b6-74fd-43e2-8c1b-c3f708df3fce",
   "metadata": {},
   "source": [
    "After cleaning the data, 17 countries were deleted as they had more than 40 missing values. 3 unnecessary columns were deleted, and our data types are correct. Now, we can analyze the data. "
   ]
  },
  {
   "cell_type": "markdown",
   "id": "d47df932-552b-47d4-971e-639670604036",
   "metadata": {},
   "source": [
    "# Data Analysis\n"
   ]
  },
  {
   "cell_type": "markdown",
   "id": "e82fbbe9-34fe-48cb-99c6-727deca3ba10",
   "metadata": {},
   "source": [
    "**1. Which country has the highest fertility rate for each year? Explain the findings.**\n"
   ]
  },
  {
   "cell_type": "code",
   "execution_count": 38,
   "id": "5331ba39-968d-4d7f-97fe-5ae22ad2f49d",
   "metadata": {},
   "outputs": [
    {
     "data": {
      "application/vnd.plotly.v1+json": {
       "config": {
        "plotlyServerURL": "https://plot.ly"
       },
       "data": [
        {
         "cells": {
          "align": "left",
          "fill": {
           "color": "#003366"
          },
          "font": {
           "color": "white"
          },
          "line": {
           "color": "black"
          },
          "values": [
           [
            "1960",
            "1961",
            "1962",
            "1963",
            "1964",
            "1965",
            "1966",
            "1967",
            "1968",
            "1969",
            "1970",
            "1971",
            "1972",
            "1973",
            "1974",
            "1975",
            "1976",
            "1977",
            "1978",
            "1979",
            "1980",
            "1981",
            "1982",
            "1983",
            "1984",
            "1985",
            "1986",
            "1987",
            "1988",
            "1989",
            "1990",
            "1991",
            "1992",
            "1993",
            "1994",
            "1995",
            "1996",
            "1997",
            "1998",
            "1999",
            "2000",
            "2001",
            "2002",
            "2003",
            "2004",
            "2005",
            "2006",
            "2007",
            "2008",
            "2009",
            "2010",
            "2011",
            "2012",
            "2013"
           ],
           [
            8.187,
            8.194,
            8.197,
            8.198,
            8.198,
            8.198,
            8.198,
            8.201,
            8.207,
            8.217,
            8.231,
            8.252,
            8.278,
            8.307,
            8.339,
            8.37,
            8.399,
            8.474,
            8.667,
            8.843,
            8.993,
            9.108,
            9.185,
            9.223,
            9.223,
            9.186,
            9.119,
            9.03,
            8.925,
            8.805,
            8.667,
            8.504,
            8.311,
            8.088,
            7.841,
            7.832,
            7.859,
            7.869,
            7.854,
            7.809,
            7.733,
            7.704,
            7.681,
            7.658,
            7.636,
            7.617,
            7.602,
            7.593,
            7.588,
            7.585,
            7.584,
            7.581,
            7.574,
            7.561
           ],
           [
            "Rwanda",
            "Rwanda",
            "Rwanda",
            "Rwanda",
            "Rwanda",
            "Rwanda",
            "Rwanda",
            "Rwanda",
            "Rwanda",
            "Rwanda",
            "Rwanda",
            "Rwanda",
            "Rwanda",
            "Rwanda",
            "Rwanda",
            "Rwanda",
            "Rwanda",
            "Yemen, Rep.",
            "Yemen, Rep.",
            "Yemen, Rep.",
            "Yemen, Rep.",
            "Yemen, Rep.",
            "Yemen, Rep.",
            "Yemen, Rep.",
            "Yemen, Rep.",
            "Yemen, Rep.",
            "Yemen, Rep.",
            "Yemen, Rep.",
            "Yemen, Rep.",
            "Yemen, Rep.",
            "Yemen, Rep.",
            "Yemen, Rep.",
            "Yemen, Rep.",
            "Yemen, Rep.",
            "Yemen, Rep.",
            "Afghanistan",
            "Afghanistan",
            "Afghanistan",
            "Afghanistan",
            "Afghanistan",
            "Afghanistan",
            "Niger",
            "Niger",
            "Niger",
            "Niger",
            "Niger",
            "Niger",
            "Niger",
            "Niger",
            "Niger",
            "Niger",
            "Niger",
            "Niger",
            "Niger"
           ]
          ]
         },
         "header": {
          "align": "left",
          "fill": {
           "color": "#003366"
          },
          "font": {
           "color": "white"
          },
          "line": {
           "color": "black"
          },
          "values": [
           "Column",
           "Max Value",
           "Value from Country Name"
          ]
         },
         "type": "table"
        }
       ],
       "layout": {
        "autosize": true,
        "height": 400,
        "margin": {
         "b": 0,
         "l": 0,
         "r": 0,
         "t": 0
        },
        "template": {
         "data": {
          "bar": [
           {
            "error_x": {
             "color": "#2a3f5f"
            },
            "error_y": {
             "color": "#2a3f5f"
            },
            "marker": {
             "line": {
              "color": "#E5ECF6",
              "width": 0.5
             },
             "pattern": {
              "fillmode": "overlay",
              "size": 10,
              "solidity": 0.2
             }
            },
            "type": "bar"
           }
          ],
          "barpolar": [
           {
            "marker": {
             "line": {
              "color": "#E5ECF6",
              "width": 0.5
             },
             "pattern": {
              "fillmode": "overlay",
              "size": 10,
              "solidity": 0.2
             }
            },
            "type": "barpolar"
           }
          ],
          "carpet": [
           {
            "aaxis": {
             "endlinecolor": "#2a3f5f",
             "gridcolor": "white",
             "linecolor": "white",
             "minorgridcolor": "white",
             "startlinecolor": "#2a3f5f"
            },
            "baxis": {
             "endlinecolor": "#2a3f5f",
             "gridcolor": "white",
             "linecolor": "white",
             "minorgridcolor": "white",
             "startlinecolor": "#2a3f5f"
            },
            "type": "carpet"
           }
          ],
          "choropleth": [
           {
            "colorbar": {
             "outlinewidth": 0,
             "ticks": ""
            },
            "type": "choropleth"
           }
          ],
          "contour": [
           {
            "colorbar": {
             "outlinewidth": 0,
             "ticks": ""
            },
            "colorscale": [
             [
              0,
              "#0d0887"
             ],
             [
              0.1111111111111111,
              "#46039f"
             ],
             [
              0.2222222222222222,
              "#7201a8"
             ],
             [
              0.3333333333333333,
              "#9c179e"
             ],
             [
              0.4444444444444444,
              "#bd3786"
             ],
             [
              0.5555555555555556,
              "#d8576b"
             ],
             [
              0.6666666666666666,
              "#ed7953"
             ],
             [
              0.7777777777777778,
              "#fb9f3a"
             ],
             [
              0.8888888888888888,
              "#fdca26"
             ],
             [
              1,
              "#f0f921"
             ]
            ],
            "type": "contour"
           }
          ],
          "contourcarpet": [
           {
            "colorbar": {
             "outlinewidth": 0,
             "ticks": ""
            },
            "type": "contourcarpet"
           }
          ],
          "heatmap": [
           {
            "colorbar": {
             "outlinewidth": 0,
             "ticks": ""
            },
            "colorscale": [
             [
              0,
              "#0d0887"
             ],
             [
              0.1111111111111111,
              "#46039f"
             ],
             [
              0.2222222222222222,
              "#7201a8"
             ],
             [
              0.3333333333333333,
              "#9c179e"
             ],
             [
              0.4444444444444444,
              "#bd3786"
             ],
             [
              0.5555555555555556,
              "#d8576b"
             ],
             [
              0.6666666666666666,
              "#ed7953"
             ],
             [
              0.7777777777777778,
              "#fb9f3a"
             ],
             [
              0.8888888888888888,
              "#fdca26"
             ],
             [
              1,
              "#f0f921"
             ]
            ],
            "type": "heatmap"
           }
          ],
          "heatmapgl": [
           {
            "colorbar": {
             "outlinewidth": 0,
             "ticks": ""
            },
            "colorscale": [
             [
              0,
              "#0d0887"
             ],
             [
              0.1111111111111111,
              "#46039f"
             ],
             [
              0.2222222222222222,
              "#7201a8"
             ],
             [
              0.3333333333333333,
              "#9c179e"
             ],
             [
              0.4444444444444444,
              "#bd3786"
             ],
             [
              0.5555555555555556,
              "#d8576b"
             ],
             [
              0.6666666666666666,
              "#ed7953"
             ],
             [
              0.7777777777777778,
              "#fb9f3a"
             ],
             [
              0.8888888888888888,
              "#fdca26"
             ],
             [
              1,
              "#f0f921"
             ]
            ],
            "type": "heatmapgl"
           }
          ],
          "histogram": [
           {
            "marker": {
             "pattern": {
              "fillmode": "overlay",
              "size": 10,
              "solidity": 0.2
             }
            },
            "type": "histogram"
           }
          ],
          "histogram2d": [
           {
            "colorbar": {
             "outlinewidth": 0,
             "ticks": ""
            },
            "colorscale": [
             [
              0,
              "#0d0887"
             ],
             [
              0.1111111111111111,
              "#46039f"
             ],
             [
              0.2222222222222222,
              "#7201a8"
             ],
             [
              0.3333333333333333,
              "#9c179e"
             ],
             [
              0.4444444444444444,
              "#bd3786"
             ],
             [
              0.5555555555555556,
              "#d8576b"
             ],
             [
              0.6666666666666666,
              "#ed7953"
             ],
             [
              0.7777777777777778,
              "#fb9f3a"
             ],
             [
              0.8888888888888888,
              "#fdca26"
             ],
             [
              1,
              "#f0f921"
             ]
            ],
            "type": "histogram2d"
           }
          ],
          "histogram2dcontour": [
           {
            "colorbar": {
             "outlinewidth": 0,
             "ticks": ""
            },
            "colorscale": [
             [
              0,
              "#0d0887"
             ],
             [
              0.1111111111111111,
              "#46039f"
             ],
             [
              0.2222222222222222,
              "#7201a8"
             ],
             [
              0.3333333333333333,
              "#9c179e"
             ],
             [
              0.4444444444444444,
              "#bd3786"
             ],
             [
              0.5555555555555556,
              "#d8576b"
             ],
             [
              0.6666666666666666,
              "#ed7953"
             ],
             [
              0.7777777777777778,
              "#fb9f3a"
             ],
             [
              0.8888888888888888,
              "#fdca26"
             ],
             [
              1,
              "#f0f921"
             ]
            ],
            "type": "histogram2dcontour"
           }
          ],
          "mesh3d": [
           {
            "colorbar": {
             "outlinewidth": 0,
             "ticks": ""
            },
            "type": "mesh3d"
           }
          ],
          "parcoords": [
           {
            "line": {
             "colorbar": {
              "outlinewidth": 0,
              "ticks": ""
             }
            },
            "type": "parcoords"
           }
          ],
          "pie": [
           {
            "automargin": true,
            "type": "pie"
           }
          ],
          "scatter": [
           {
            "fillpattern": {
             "fillmode": "overlay",
             "size": 10,
             "solidity": 0.2
            },
            "type": "scatter"
           }
          ],
          "scatter3d": [
           {
            "line": {
             "colorbar": {
              "outlinewidth": 0,
              "ticks": ""
             }
            },
            "marker": {
             "colorbar": {
              "outlinewidth": 0,
              "ticks": ""
             }
            },
            "type": "scatter3d"
           }
          ],
          "scattercarpet": [
           {
            "marker": {
             "colorbar": {
              "outlinewidth": 0,
              "ticks": ""
             }
            },
            "type": "scattercarpet"
           }
          ],
          "scattergeo": [
           {
            "marker": {
             "colorbar": {
              "outlinewidth": 0,
              "ticks": ""
             }
            },
            "type": "scattergeo"
           }
          ],
          "scattergl": [
           {
            "marker": {
             "colorbar": {
              "outlinewidth": 0,
              "ticks": ""
             }
            },
            "type": "scattergl"
           }
          ],
          "scattermapbox": [
           {
            "marker": {
             "colorbar": {
              "outlinewidth": 0,
              "ticks": ""
             }
            },
            "type": "scattermapbox"
           }
          ],
          "scatterpolar": [
           {
            "marker": {
             "colorbar": {
              "outlinewidth": 0,
              "ticks": ""
             }
            },
            "type": "scatterpolar"
           }
          ],
          "scatterpolargl": [
           {
            "marker": {
             "colorbar": {
              "outlinewidth": 0,
              "ticks": ""
             }
            },
            "type": "scatterpolargl"
           }
          ],
          "scatterternary": [
           {
            "marker": {
             "colorbar": {
              "outlinewidth": 0,
              "ticks": ""
             }
            },
            "type": "scatterternary"
           }
          ],
          "surface": [
           {
            "colorbar": {
             "outlinewidth": 0,
             "ticks": ""
            },
            "colorscale": [
             [
              0,
              "#0d0887"
             ],
             [
              0.1111111111111111,
              "#46039f"
             ],
             [
              0.2222222222222222,
              "#7201a8"
             ],
             [
              0.3333333333333333,
              "#9c179e"
             ],
             [
              0.4444444444444444,
              "#bd3786"
             ],
             [
              0.5555555555555556,
              "#d8576b"
             ],
             [
              0.6666666666666666,
              "#ed7953"
             ],
             [
              0.7777777777777778,
              "#fb9f3a"
             ],
             [
              0.8888888888888888,
              "#fdca26"
             ],
             [
              1,
              "#f0f921"
             ]
            ],
            "type": "surface"
           }
          ],
          "table": [
           {
            "cells": {
             "fill": {
              "color": "#EBF0F8"
             },
             "line": {
              "color": "white"
             }
            },
            "header": {
             "fill": {
              "color": "#C8D4E3"
             },
             "line": {
              "color": "white"
             }
            },
            "type": "table"
           }
          ]
         },
         "layout": {
          "annotationdefaults": {
           "arrowcolor": "#2a3f5f",
           "arrowhead": 0,
           "arrowwidth": 1
          },
          "autotypenumbers": "strict",
          "coloraxis": {
           "colorbar": {
            "outlinewidth": 0,
            "ticks": ""
           }
          },
          "colorscale": {
           "diverging": [
            [
             0,
             "#8e0152"
            ],
            [
             0.1,
             "#c51b7d"
            ],
            [
             0.2,
             "#de77ae"
            ],
            [
             0.3,
             "#f1b6da"
            ],
            [
             0.4,
             "#fde0ef"
            ],
            [
             0.5,
             "#f7f7f7"
            ],
            [
             0.6,
             "#e6f5d0"
            ],
            [
             0.7,
             "#b8e186"
            ],
            [
             0.8,
             "#7fbc41"
            ],
            [
             0.9,
             "#4d9221"
            ],
            [
             1,
             "#276419"
            ]
           ],
           "sequential": [
            [
             0,
             "#0d0887"
            ],
            [
             0.1111111111111111,
             "#46039f"
            ],
            [
             0.2222222222222222,
             "#7201a8"
            ],
            [
             0.3333333333333333,
             "#9c179e"
            ],
            [
             0.4444444444444444,
             "#bd3786"
            ],
            [
             0.5555555555555556,
             "#d8576b"
            ],
            [
             0.6666666666666666,
             "#ed7953"
            ],
            [
             0.7777777777777778,
             "#fb9f3a"
            ],
            [
             0.8888888888888888,
             "#fdca26"
            ],
            [
             1,
             "#f0f921"
            ]
           ],
           "sequentialminus": [
            [
             0,
             "#0d0887"
            ],
            [
             0.1111111111111111,
             "#46039f"
            ],
            [
             0.2222222222222222,
             "#7201a8"
            ],
            [
             0.3333333333333333,
             "#9c179e"
            ],
            [
             0.4444444444444444,
             "#bd3786"
            ],
            [
             0.5555555555555556,
             "#d8576b"
            ],
            [
             0.6666666666666666,
             "#ed7953"
            ],
            [
             0.7777777777777778,
             "#fb9f3a"
            ],
            [
             0.8888888888888888,
             "#fdca26"
            ],
            [
             1,
             "#f0f921"
            ]
           ]
          },
          "colorway": [
           "#636efa",
           "#EF553B",
           "#00cc96",
           "#ab63fa",
           "#FFA15A",
           "#19d3f3",
           "#FF6692",
           "#B6E880",
           "#FF97FF",
           "#FECB52"
          ],
          "font": {
           "color": "#2a3f5f"
          },
          "geo": {
           "bgcolor": "white",
           "lakecolor": "white",
           "landcolor": "#E5ECF6",
           "showlakes": true,
           "showland": true,
           "subunitcolor": "white"
          },
          "hoverlabel": {
           "align": "left"
          },
          "hovermode": "closest",
          "mapbox": {
           "style": "light"
          },
          "paper_bgcolor": "white",
          "plot_bgcolor": "#E5ECF6",
          "polar": {
           "angularaxis": {
            "gridcolor": "white",
            "linecolor": "white",
            "ticks": ""
           },
           "bgcolor": "#E5ECF6",
           "radialaxis": {
            "gridcolor": "white",
            "linecolor": "white",
            "ticks": ""
           }
          },
          "scene": {
           "xaxis": {
            "backgroundcolor": "#E5ECF6",
            "gridcolor": "white",
            "gridwidth": 2,
            "linecolor": "white",
            "showbackground": true,
            "ticks": "",
            "zerolinecolor": "white"
           },
           "yaxis": {
            "backgroundcolor": "#E5ECF6",
            "gridcolor": "white",
            "gridwidth": 2,
            "linecolor": "white",
            "showbackground": true,
            "ticks": "",
            "zerolinecolor": "white"
           },
           "zaxis": {
            "backgroundcolor": "#E5ECF6",
            "gridcolor": "white",
            "gridwidth": 2,
            "linecolor": "white",
            "showbackground": true,
            "ticks": "",
            "zerolinecolor": "white"
           }
          },
          "shapedefaults": {
           "line": {
            "color": "#2a3f5f"
           }
          },
          "ternary": {
           "aaxis": {
            "gridcolor": "white",
            "linecolor": "white",
            "ticks": ""
           },
           "baxis": {
            "gridcolor": "white",
            "linecolor": "white",
            "ticks": ""
           },
           "bgcolor": "#E5ECF6",
           "caxis": {
            "gridcolor": "white",
            "linecolor": "white",
            "ticks": ""
           }
          },
          "title": {
           "x": 0.05
          },
          "xaxis": {
           "automargin": true,
           "gridcolor": "white",
           "linecolor": "white",
           "ticks": "",
           "title": {
            "standoff": 15
           },
           "zerolinecolor": "white",
           "zerolinewidth": 2
          },
          "yaxis": {
           "automargin": true,
           "gridcolor": "white",
           "linecolor": "white",
           "ticks": "",
           "title": {
            "standoff": 15
           },
           "zerolinecolor": "white",
           "zerolinewidth": 2
          }
         }
        },
        "width": 800
       }
      },
      "image/png": "[encoded data removed]",
      "text/html": [
       "<div>                            <div id=\"ba692a96-47b3-4b58-83f4-a0313f6c3731\" class=\"plotly-graph-div\" style=\"height:400px; width:800px;\"></div>            <script type=\"text/javascript\">                require([\"plotly\"], function(Plotly) {                    window.PLOTLYENV=window.PLOTLYENV || {};                                    if (document.getElementById(\"ba692a96-47b3-4b58-83f4-a0313f6c3731\")) {                    Plotly.newPlot(                        \"ba692a96-47b3-4b58-83f4-a0313f6c3731\",                        [{\"cells\":{\"align\":\"left\",\"fill\":{\"color\":\"#003366\"},\"font\":{\"color\":\"white\"},\"line\":{\"color\":\"black\"},\"values\":[[\"1960\",\"1961\",\"1962\",\"1963\",\"1964\",\"1965\",\"1966\",\"1967\",\"1968\",\"1969\",\"1970\",\"1971\",\"1972\",\"1973\",\"1974\",\"1975\",\"1976\",\"1977\",\"1978\",\"1979\",\"1980\",\"1981\",\"1982\",\"1983\",\"1984\",\"1985\",\"1986\",\"1987\",\"1988\",\"1989\",\"1990\",\"1991\",\"1992\",\"1993\",\"1994\",\"1995\",\"1996\",\"1997\",\"1998\",\"1999\",\"2000\",\"2001\",\"2002\",\"2003\",\"2004\",\"2005\",\"2006\",\"2007\",\"2008\",\"2009\",\"2010\",\"2011\",\"2012\",\"2013\"],[8.187,8.194,8.197,8.198,8.198,8.198,8.198,8.201,8.207,8.217,8.231,8.252,8.278,8.307,8.339,8.37,8.399,8.474,8.667,8.843,8.993,9.108,9.185,9.223,9.223,9.186,9.119,9.03,8.925,8.805,8.667,8.504,8.311,8.088,7.841,7.832,7.859,7.869,7.854,7.809,7.733,7.704,7.681,7.658,7.636,7.617,7.602,7.593,7.588,7.585,7.584,7.581,7.574,7.561],[\"Rwanda\",\"Rwanda\",\"Rwanda\",\"Rwanda\",\"Rwanda\",\"Rwanda\",\"Rwanda\",\"Rwanda\",\"Rwanda\",\"Rwanda\",\"Rwanda\",\"Rwanda\",\"Rwanda\",\"Rwanda\",\"Rwanda\",\"Rwanda\",\"Rwanda\",\"Yemen, Rep.\",\"Yemen, Rep.\",\"Yemen, Rep.\",\"Yemen, Rep.\",\"Yemen, Rep.\",\"Yemen, Rep.\",\"Yemen, Rep.\",\"Yemen, Rep.\",\"Yemen, Rep.\",\"Yemen, Rep.\",\"Yemen, Rep.\",\"Yemen, Rep.\",\"Yemen, Rep.\",\"Yemen, Rep.\",\"Yemen, Rep.\",\"Yemen, Rep.\",\"Yemen, Rep.\",\"Yemen, Rep.\",\"Afghanistan\",\"Afghanistan\",\"Afghanistan\",\"Afghanistan\",\"Afghanistan\",\"Afghanistan\",\"Niger\",\"Niger\",\"Niger\",\"Niger\",\"Niger\",\"Niger\",\"Niger\",\"Niger\",\"Niger\",\"Niger\",\"Niger\",\"Niger\",\"Niger\"]]},\"header\":{\"align\":\"left\",\"fill\":{\"color\":\"#003366\"},\"font\":{\"color\":\"white\"},\"line\":{\"color\":\"black\"},\"values\":[\"Column\",\"Max Value\",\"Value from Country Name\"]},\"type\":\"table\"}],                        {\"template\":{\"data\":{\"histogram2dcontour\":[{\"type\":\"histogram2dcontour\",\"colorbar\":{\"outlinewidth\":0,\"ticks\":\"\"},\"colorscale\":[[0.0,\"#0d0887\"],[0.1111111111111111,\"#46039f\"],[0.2222222222222222,\"#7201a8\"],[0.3333333333333333,\"#9c179e\"],[0.4444444444444444,\"#bd3786\"],[0.5555555555555556,\"#d8576b\"],[0.6666666666666666,\"#ed7953\"],[0.7777777777777778,\"#fb9f3a\"],[0.8888888888888888,\"#fdca26\"],[1.0,\"#f0f921\"]]}],\"choropleth\":[{\"type\":\"choropleth\",\"colorbar\":{\"outlinewidth\":0,\"ticks\":\"\"}}],\"histogram2d\":[{\"type\":\"histogram2d\",\"colorbar\":{\"outlinewidth\":0,\"ticks\":\"\"},\"colorscale\":[[0.0,\"#0d0887\"],[0.1111111111111111,\"#46039f\"],[0.2222222222222222,\"#7201a8\"],[0.3333333333333333,\"#9c179e\"],[0.4444444444444444,\"#bd3786\"],[0.5555555555555556,\"#d8576b\"],[0.6666666666666666,\"#ed7953\"],[0.7777777777777778,\"#fb9f3a\"],[0.8888888888888888,\"#fdca26\"],[1.0,\"#f0f921\"]]}],\"heatmap\":[{\"type\":\"heatmap\",\"colorbar\":{\"outlinewidth\":0,\"ticks\":\"\"},\"colorscale\":[[0.0,\"#0d0887\"],[0.1111111111111111,\"#46039f\"],[0.2222222222222222,\"#7201a8\"],[0.3333333333333333,\"#9c179e\"],[0.4444444444444444,\"#bd3786\"],[0.5555555555555556,\"#d8576b\"],[0.6666666666666666,\"#ed7953\"],[0.7777777777777778,\"#fb9f3a\"],[0.8888888888888888,\"#fdca26\"],[1.0,\"#f0f921\"]]}],\"heatmapgl\":[{\"type\":\"heatmapgl\",\"colorbar\":{\"outlinewidth\":0,\"ticks\":\"\"},\"colorscale\":[[0.0,\"#0d0887\"],[0.1111111111111111,\"#46039f\"],[0.2222222222222222,\"#7201a8\"],[0.3333333333333333,\"#9c179e\"],[0.4444444444444444,\"#bd3786\"],[0.5555555555555556,\"#d8576b\"],[0.6666666666666666,\"#ed7953\"],[0.7777777777777778,\"#fb9f3a\"],[0.8888888888888888,\"#fdca26\"],[1.0,\"#f0f921\"]]}],\"contourcarpet\":[{\"type\":\"contourcarpet\",\"colorbar\":{\"outlinewidth\":0,\"ticks\":\"\"}}],\"contour\":[{\"type\":\"contour\",\"colorbar\":{\"outlinewidth\":0,\"ticks\":\"\"},\"colorscale\":[[0.0,\"#0d0887\"],[0.1111111111111111,\"#46039f\"],[0.2222222222222222,\"#7201a8\"],[0.3333333333333333,\"#9c179e\"],[0.4444444444444444,\"#bd3786\"],[0.5555555555555556,\"#d8576b\"],[0.6666666666666666,\"#ed7953\"],[0.7777777777777778,\"#fb9f3a\"],[0.8888888888888888,\"#fdca26\"],[1.0,\"#f0f921\"]]}],\"surface\":[{\"type\":\"surface\",\"colorbar\":{\"outlinewidth\":0,\"ticks\":\"\"},\"colorscale\":[[0.0,\"#0d0887\"],[0.1111111111111111,\"#46039f\"],[0.2222222222222222,\"#7201a8\"],[0.3333333333333333,\"#9c179e\"],[0.4444444444444444,\"#bd3786\"],[0.5555555555555556,\"#d8576b\"],[0.6666666666666666,\"#ed7953\"],[0.7777777777777778,\"#fb9f3a\"],[0.8888888888888888,\"#fdca26\"],[1.0,\"#f0f921\"]]}],\"mesh3d\":[{\"type\":\"mesh3d\",\"colorbar\":{\"outlinewidth\":0,\"ticks\":\"\"}}],\"scatter\":[{\"fillpattern\":{\"fillmode\":\"overlay\",\"size\":10,\"solidity\":0.2},\"type\":\"scatter\"}],\"parcoords\":[{\"type\":\"parcoords\",\"line\":{\"colorbar\":{\"outlinewidth\":0,\"ticks\":\"\"}}}],\"scatterpolargl\":[{\"type\":\"scatterpolargl\",\"marker\":{\"colorbar\":{\"outlinewidth\":0,\"ticks\":\"\"}}}],\"bar\":[{\"error_x\":{\"color\":\"#2a3f5f\"},\"error_y\":{\"color\":\"#2a3f5f\"},\"marker\":{\"line\":{\"color\":\"#E5ECF6\",\"width\":0.5},\"pattern\":{\"fillmode\":\"overlay\",\"size\":10,\"solidity\":0.2}},\"type\":\"bar\"}],\"scattergeo\":[{\"type\":\"scattergeo\",\"marker\":{\"colorbar\":{\"outlinewidth\":0,\"ticks\":\"\"}}}],\"scatterpolar\":[{\"type\":\"scatterpolar\",\"marker\":{\"colorbar\":{\"outlinewidth\":0,\"ticks\":\"\"}}}],\"histogram\":[{\"marker\":{\"pattern\":{\"fillmode\":\"overlay\",\"size\":10,\"solidity\":0.2}},\"type\":\"histogram\"}],\"scattergl\":[{\"type\":\"scattergl\",\"marker\":{\"colorbar\":{\"outlinewidth\":0,\"ticks\":\"\"}}}],\"scatter3d\":[{\"type\":\"scatter3d\",\"line\":{\"colorbar\":{\"outlinewidth\":0,\"ticks\":\"\"}},\"marker\":{\"colorbar\":{\"outlinewidth\":0,\"ticks\":\"\"}}}],\"scattermapbox\":[{\"type\":\"scattermapbox\",\"marker\":{\"colorbar\":{\"outlinewidth\":0,\"ticks\":\"\"}}}],\"scatterternary\":[{\"type\":\"scatterternary\",\"marker\":{\"colorbar\":{\"outlinewidth\":0,\"ticks\":\"\"}}}],\"scattercarpet\":[{\"type\":\"scattercarpet\",\"marker\":{\"colorbar\":{\"outlinewidth\":0,\"ticks\":\"\"}}}],\"carpet\":[{\"aaxis\":{\"endlinecolor\":\"#2a3f5f\",\"gridcolor\":\"white\",\"linecolor\":\"white\",\"minorgridcolor\":\"white\",\"startlinecolor\":\"#2a3f5f\"},\"baxis\":{\"endlinecolor\":\"#2a3f5f\",\"gridcolor\":\"white\",\"linecolor\":\"white\",\"minorgridcolor\":\"white\",\"startlinecolor\":\"#2a3f5f\"},\"type\":\"carpet\"}],\"table\":[{\"cells\":{\"fill\":{\"color\":\"#EBF0F8\"},\"line\":{\"color\":\"white\"}},\"header\":{\"fill\":{\"color\":\"#C8D4E3\"},\"line\":{\"color\":\"white\"}},\"type\":\"table\"}],\"barpolar\":[{\"marker\":{\"line\":{\"color\":\"#E5ECF6\",\"width\":0.5},\"pattern\":{\"fillmode\":\"overlay\",\"size\":10,\"solidity\":0.2}},\"type\":\"barpolar\"}],\"pie\":[{\"automargin\":true,\"type\":\"pie\"}]},\"layout\":{\"autotypenumbers\":\"strict\",\"colorway\":[\"#636efa\",\"#EF553B\",\"#00cc96\",\"#ab63fa\",\"#FFA15A\",\"#19d3f3\",\"#FF6692\",\"#B6E880\",\"#FF97FF\",\"#FECB52\"],\"font\":{\"color\":\"#2a3f5f\"},\"hovermode\":\"closest\",\"hoverlabel\":{\"align\":\"left\"},\"paper_bgcolor\":\"white\",\"plot_bgcolor\":\"#E5ECF6\",\"polar\":{\"bgcolor\":\"#E5ECF6\",\"angularaxis\":{\"gridcolor\":\"white\",\"linecolor\":\"white\",\"ticks\":\"\"},\"radialaxis\":{\"gridcolor\":\"white\",\"linecolor\":\"white\",\"ticks\":\"\"}},\"ternary\":{\"bgcolor\":\"#E5ECF6\",\"aaxis\":{\"gridcolor\":\"white\",\"linecolor\":\"white\",\"ticks\":\"\"},\"baxis\":{\"gridcolor\":\"white\",\"linecolor\":\"white\",\"ticks\":\"\"},\"caxis\":{\"gridcolor\":\"white\",\"linecolor\":\"white\",\"ticks\":\"\"}},\"coloraxis\":{\"colorbar\":{\"outlinewidth\":0,\"ticks\":\"\"}},\"colorscale\":{\"sequential\":[[0.0,\"#0d0887\"],[0.1111111111111111,\"#46039f\"],[0.2222222222222222,\"#7201a8\"],[0.3333333333333333,\"#9c179e\"],[0.4444444444444444,\"#bd3786\"],[0.5555555555555556,\"#d8576b\"],[0.6666666666666666,\"#ed7953\"],[0.7777777777777778,\"#fb9f3a\"],[0.8888888888888888,\"#fdca26\"],[1.0,\"#f0f921\"]],\"sequentialminus\":[[0.0,\"#0d0887\"],[0.1111111111111111,\"#46039f\"],[0.2222222222222222,\"#7201a8\"],[0.3333333333333333,\"#9c179e\"],[0.4444444444444444,\"#bd3786\"],[0.5555555555555556,\"#d8576b\"],[0.6666666666666666,\"#ed7953\"],[0.7777777777777778,\"#fb9f3a\"],[0.8888888888888888,\"#fdca26\"],[1.0,\"#f0f921\"]],\"diverging\":[[0,\"#8e0152\"],[0.1,\"#c51b7d\"],[0.2,\"#de77ae\"],[0.3,\"#f1b6da\"],[0.4,\"#fde0ef\"],[0.5,\"#f7f7f7\"],[0.6,\"#e6f5d0\"],[0.7,\"#b8e186\"],[0.8,\"#7fbc41\"],[0.9,\"#4d9221\"],[1,\"#276419\"]]},\"xaxis\":{\"gridcolor\":\"white\",\"linecolor\":\"white\",\"ticks\":\"\",\"title\":{\"standoff\":15},\"zerolinecolor\":\"white\",\"automargin\":true,\"zerolinewidth\":2},\"yaxis\":{\"gridcolor\":\"white\",\"linecolor\":\"white\",\"ticks\":\"\",\"title\":{\"standoff\":15},\"zerolinecolor\":\"white\",\"automargin\":true,\"zerolinewidth\":2},\"scene\":{\"xaxis\":{\"backgroundcolor\":\"#E5ECF6\",\"gridcolor\":\"white\",\"linecolor\":\"white\",\"showbackground\":true,\"ticks\":\"\",\"zerolinecolor\":\"white\",\"gridwidth\":2},\"yaxis\":{\"backgroundcolor\":\"#E5ECF6\",\"gridcolor\":\"white\",\"linecolor\":\"white\",\"showbackground\":true,\"ticks\":\"\",\"zerolinecolor\":\"white\",\"gridwidth\":2},\"zaxis\":{\"backgroundcolor\":\"#E5ECF6\",\"gridcolor\":\"white\",\"linecolor\":\"white\",\"showbackground\":true,\"ticks\":\"\",\"zerolinecolor\":\"white\",\"gridwidth\":2}},\"shapedefaults\":{\"line\":{\"color\":\"#2a3f5f\"}},\"annotationdefaults\":{\"arrowcolor\":\"#2a3f5f\",\"arrowhead\":0,\"arrowwidth\":1},\"geo\":{\"bgcolor\":\"white\",\"landcolor\":\"#E5ECF6\",\"subunitcolor\":\"white\",\"showland\":true,\"showlakes\":true,\"lakecolor\":\"white\"},\"title\":{\"x\":0.05},\"mapbox\":{\"style\":\"light\"}}},\"margin\":{\"l\":0,\"r\":0,\"b\":0,\"t\":0},\"width\":800,\"height\":400,\"autosize\":true},                        {\"responsive\": true}                    ).then(function(){\n",
       "                            \n",
       "var gd = document.getElementById('ba692a96-47b3-4b58-83f4-a0313f6c3731');\n",
       "var x = new MutationObserver(function (mutations, observer) {{\n",
       "        var display = window.getComputedStyle(gd).display;\n",
       "        if (!display || display === 'none') {{\n",
       "            console.log([gd, 'removed!']);\n",
       "            Plotly.purge(gd);\n",
       "            observer.disconnect();\n",
       "        }}\n",
       "}});\n",
       "\n",
       "// Listen for the removal of the full notebook cells\n",
       "var notebookContainer = gd.closest('#notebook-container');\n",
       "if (notebookContainer) {{\n",
       "    x.observe(notebookContainer, {childList: true});\n",
       "}}\n",
       "\n",
       "// Listen for the clearing of the current output cell\n",
       "var outputEl = gd.closest('.output');\n",
       "if (outputEl) {{\n",
       "    x.observe(outputEl, {childList: true});\n",
       "}}\n",
       "\n",
       "                        })                };                });            </script>        </div>"
      ]
     },
     "metadata": {},
     "output_type": "display_data"
    }
   ],
   "source": [
    "# Function to get max value and corresponding value from the first column for each column, excluding the first column\n",
    "def max_value_and_specific_row_value(df, specific_column):\n",
    "    results = []\n",
    "    for col in df.columns[1:]:  # Skip the first column\n",
    "        max_value = df[col].max()\n",
    "        max_row = df[df[col] == max_value].iloc[0]\n",
    "        specific_value = max_row[specific_column]\n",
    "        results.append((col, max_value, specific_value))\n",
    "    return results\n",
    "\n",
    "# Specify the first column\n",
    "first_column = df.columns[0]\n",
    "\n",
    "# Get the maximum values and corresponding values from the first column, excluding the first column itself\n",
    "max_values = max_value_and_specific_row_value(df, first_column)\n",
    "\n",
    "# Create a new DataFrame to hold the results\n",
    "results_df = pd.DataFrame(max_values, columns=['Column', 'Max Value', f'Value from {first_column}'])\n",
    "\n",
    "# Create a Plotly table with the specified color scheme\n",
    "fig = go.Figure(data=[go.Table(\n",
    "    header=dict(\n",
    "        values=['Column', 'Max Value', f'Value from {first_column}'],\n",
    "        fill_color='#003366',\n",
    "        font=dict(color='white'),\n",
    "        align='left',\n",
    "        line_color='black'\n",
    "    ),\n",
    "    cells=dict(\n",
    "        values=[results_df['Column'], results_df['Max Value'], results_df[f'Value from {first_column}']],\n",
    "        fill_color='#003366',\n",
    "        font=dict(color='white'),\n",
    "        align='left',\n",
    "        line_color='black'\n",
    "    )\n",
    ")])\n",
    "\n",
    "# Update layout to make the table horizontally scrollable\n",
    "fig.update_layout(\n",
    "    width=800,\n",
    "    height=400,\n",
    "    margin=dict(l=0, r=0, b=0, t=0),\n",
    "    autosize=True\n",
    ")\n",
    "\n",
    "# Show the figure\n",
    "fig.show()"
   ]
  },
  {
   "cell_type": "markdown",
   "id": "87b3b625-40f0-4d34-a1db-f83c68937929",
   "metadata": {},
   "source": [
    "The data reveals a significant shift in the country with the highest birth rate over the decades. Initially, Rwanda held the top position from 1960 to 1976, with birth rates steadily increasing, peaking at 8.399 births per woman in 1976. This high birth rate during Rwanda's early years reflects its demographic trends, characterized by high fertility rates typical of many developing nations during that period.\n",
    "\n",
    "From 1977 to 1994, Yemen, Rep. (now Yemen) took over as the country with the highest birth rate. The birth rate in Yemen surged to an impressive 9.223 births per woman by 1983, indicating a period of rapid population growth. A significant reason for Yemen's high birth rate during the late 20th century was strong cultural and societal values favoring large families. Economic factors also played a role, as children were seen as contributors to the family's economic stability.\n",
    "\n",
    "The mid-1990s mark a notable transition as Afghanistan briefly surpassed Yemen in 1995-1999. During this time, Afghanistan's birth rates remained high but were slightly lower than Yemen's peak rates. The high birth rates in Afghanistan reflect the country's socio-economic challenges and limited healthcare infrastructure.\n",
    "\n",
    "From 2000 onwards, Niger emerged as the country with the highest birth rate, a position it has maintained through to 2013. Niger’s birth rate remained remarkably high, reaching a peak of 7.617 births per woman in 2005. This sustained high birth rate highlights the continuing demographic pressures and the country’s struggle with high fertility rates despite various efforts to improve access to family planning and healthcare."
   ]
  },
  {
   "cell_type": "markdown",
   "id": "32351aef-9d7b-4da2-a047-2adf05e1be60",
   "metadata": {},
   "source": [
    "**2. Which country has the lowest fertility rate for each year? Explain the findings.**"
   ]
  },
  {
   "cell_type": "code",
   "execution_count": 40,
   "id": "2020e5e8-e634-4e61-b8bf-6c80e43b0c6a",
   "metadata": {},
   "outputs": [
    {
     "data": {
      "application/vnd.plotly.v1+json": {
       "config": {
        "plotlyServerURL": "https://plot.ly"
       },
       "data": [
        {
         "cells": {
          "align": "left",
          "fill": {
           "color": "#003366"
          },
          "font": {
           "color": "white"
          },
          "line": {
           "color": "black"
          },
          "values": [
           [
            "1960",
            "1961",
            "1962",
            "1963",
            "1964",
            "1965",
            "1966",
            "1967",
            "1968",
            "1969",
            "1970",
            "1971",
            "1972",
            "1973",
            "1974",
            "1975",
            "1976",
            "1977",
            "1978",
            "1979",
            "1980",
            "1981",
            "1982",
            "1983",
            "1984",
            "1985",
            "1986",
            "1987",
            "1988",
            "1989",
            "1990",
            "1991",
            "1992",
            "1993",
            "1994",
            "1995",
            "1996",
            "1997",
            "1998",
            "1999",
            "2000",
            "2001",
            "2002",
            "2003",
            "2004",
            "2005",
            "2006",
            "2007",
            "2008",
            "2009",
            "2010",
            "2011",
            "2012",
            "2013"
           ],
           [
            1.94,
            1.94,
            1.79,
            1.82,
            1.79,
            1.74,
            1.58,
            1.8,
            1.83,
            1.87,
            1.83,
            1.68,
            1.58,
            1.49,
            1.51,
            1.45,
            1.44,
            1.4,
            1.38,
            1.38,
            1.44,
            1.43,
            1.41,
            1.33,
            1.29,
            1.37,
            1.35,
            1.311,
            1.36,
            1.296,
            1.272,
            1.281,
            1.29,
            1.25,
            1.2,
            1.17,
            1.16,
            1.09,
            1.017,
            0.982,
            0.939,
            0.891,
            0.856,
            0.838,
            0.836,
            0.849,
            0.874,
            0.906,
            0.939,
            0.973,
            1.003,
            1.031,
            1.058,
            1.083
           ],
           [
            "Latvia",
            "Hungary",
            "Hungary",
            "Hungary",
            "Latvia",
            "Latvia",
            "Japan",
            "Latvia",
            "Latvia",
            "Czech Republic",
            "Finland",
            "Finland",
            "Finland",
            "Finland",
            "Germany",
            "Germany",
            "Macao SAR, China",
            "Germany",
            "Germany",
            "Germany",
            "Germany",
            "Germany",
            "Germany",
            "Germany",
            "Germany",
            "Germany",
            "Italy",
            "Hong Kong SAR, China",
            "Italy",
            "Hong Kong SAR, China",
            "Hong Kong SAR, China",
            "Hong Kong SAR, China",
            "Germany",
            "Italy",
            "Spain",
            "Spain",
            "Spain",
            "Bulgaria",
            "Hong Kong SAR, China",
            "Hong Kong SAR, China",
            "Macao SAR, China",
            "Macao SAR, China",
            "Macao SAR, China",
            "Macao SAR, China",
            "Macao SAR, China",
            "Macao SAR, China",
            "Macao SAR, China",
            "Macao SAR, China",
            "Macao SAR, China",
            "Macao SAR, China",
            "Macao SAR, China",
            "Macao SAR, China",
            "Macao SAR, China",
            "Macao SAR, China"
           ]
          ]
         },
         "header": {
          "align": "left",
          "fill": {
           "color": "#003366"
          },
          "font": {
           "color": "white"
          },
          "line": {
           "color": "black"
          },
          "values": [
           "Column",
           "Min Value",
           "Value from Country Name"
          ]
         },
         "type": "table"
        }
       ],
       "layout": {
        "autosize": true,
        "height": 400,
        "margin": {
         "b": 0,
         "l": 0,
         "r": 0,
         "t": 0
        },
        "template": {
         "data": {
          "bar": [
           {
            "error_x": {
             "color": "#2a3f5f"
            },
            "error_y": {
             "color": "#2a3f5f"
            },
            "marker": {
             "line": {
              "color": "#E5ECF6",
              "width": 0.5
             },
             "pattern": {
              "fillmode": "overlay",
              "size": 10,
              "solidity": 0.2
             }
            },
            "type": "bar"
           }
          ],
          "barpolar": [
           {
            "marker": {
             "line": {
              "color": "#E5ECF6",
              "width": 0.5
             },
             "pattern": {
              "fillmode": "overlay",
              "size": 10,
              "solidity": 0.2
             }
            },
            "type": "barpolar"
           }
          ],
          "carpet": [
           {
            "aaxis": {
             "endlinecolor": "#2a3f5f",
             "gridcolor": "white",
             "linecolor": "white",
             "minorgridcolor": "white",
             "startlinecolor": "#2a3f5f"
            },
            "baxis": {
             "endlinecolor": "#2a3f5f",
             "gridcolor": "white",
             "linecolor": "white",
             "minorgridcolor": "white",
             "startlinecolor": "#2a3f5f"
            },
            "type": "carpet"
           }
          ],
          "choropleth": [
           {
            "colorbar": {
             "outlinewidth": 0,
             "ticks": ""
            },
            "type": "choropleth"
           }
          ],
          "contour": [
           {
            "colorbar": {
             "outlinewidth": 0,
             "ticks": ""
            },
            "colorscale": [
             [
              0,
              "#0d0887"
             ],
             [
              0.1111111111111111,
              "#46039f"
             ],
             [
              0.2222222222222222,
              "#7201a8"
             ],
             [
              0.3333333333333333,
              "#9c179e"
             ],
             [
              0.4444444444444444,
              "#bd3786"
             ],
             [
              0.5555555555555556,
              "#d8576b"
             ],
             [
              0.6666666666666666,
              "#ed7953"
             ],
             [
              0.7777777777777778,
              "#fb9f3a"
             ],
             [
              0.8888888888888888,
              "#fdca26"
             ],
             [
              1,
              "#f0f921"
             ]
            ],
            "type": "contour"
           }
          ],
          "contourcarpet": [
           {
            "colorbar": {
             "outlinewidth": 0,
             "ticks": ""
            },
            "type": "contourcarpet"
           }
          ],
          "heatmap": [
           {
            "colorbar": {
             "outlinewidth": 0,
             "ticks": ""
            },
            "colorscale": [
             [
              0,
              "#0d0887"
             ],
             [
              0.1111111111111111,
              "#46039f"
             ],
             [
              0.2222222222222222,
              "#7201a8"
             ],
             [
              0.3333333333333333,
              "#9c179e"
             ],
             [
              0.4444444444444444,
              "#bd3786"
             ],
             [
              0.5555555555555556,
              "#d8576b"
             ],
             [
              0.6666666666666666,
              "#ed7953"
             ],
             [
              0.7777777777777778,
              "#fb9f3a"
             ],
             [
              0.8888888888888888,
              "#fdca26"
             ],
             [
              1,
              "#f0f921"
             ]
            ],
            "type": "heatmap"
           }
          ],
          "heatmapgl": [
           {
            "colorbar": {
             "outlinewidth": 0,
             "ticks": ""
            },
            "colorscale": [
             [
              0,
              "#0d0887"
             ],
             [
              0.1111111111111111,
              "#46039f"
             ],
             [
              0.2222222222222222,
              "#7201a8"
             ],
             [
              0.3333333333333333,
              "#9c179e"
             ],
             [
              0.4444444444444444,
              "#bd3786"
             ],
             [
              0.5555555555555556,
              "#d8576b"
             ],
             [
              0.6666666666666666,
              "#ed7953"
             ],
             [
              0.7777777777777778,
              "#fb9f3a"
             ],
             [
              0.8888888888888888,
              "#fdca26"
             ],
             [
              1,
              "#f0f921"
             ]
            ],
            "type": "heatmapgl"
           }
          ],
          "histogram": [
           {
            "marker": {
             "pattern": {
              "fillmode": "overlay",
              "size": 10,
              "solidity": 0.2
             }
            },
            "type": "histogram"
           }
          ],
          "histogram2d": [
           {
            "colorbar": {
             "outlinewidth": 0,
             "ticks": ""
            },
            "colorscale": [
             [
              0,
              "#0d0887"
             ],
             [
              0.1111111111111111,
              "#46039f"
             ],
             [
              0.2222222222222222,
              "#7201a8"
             ],
             [
              0.3333333333333333,
              "#9c179e"
             ],
             [
              0.4444444444444444,
              "#bd3786"
             ],
             [
              0.5555555555555556,
              "#d8576b"
             ],
             [
              0.6666666666666666,
              "#ed7953"
             ],
             [
              0.7777777777777778,
              "#fb9f3a"
             ],
             [
              0.8888888888888888,
              "#fdca26"
             ],
             [
              1,
              "#f0f921"
             ]
            ],
            "type": "histogram2d"
           }
          ],
          "histogram2dcontour": [
           {
            "colorbar": {
             "outlinewidth": 0,
             "ticks": ""
            },
            "colorscale": [
             [
              0,
              "#0d0887"
             ],
             [
              0.1111111111111111,
              "#46039f"
             ],
             [
              0.2222222222222222,
              "#7201a8"
             ],
             [
              0.3333333333333333,
              "#9c179e"
             ],
             [
              0.4444444444444444,
              "#bd3786"
             ],
             [
              0.5555555555555556,
              "#d8576b"
             ],
             [
              0.6666666666666666,
              "#ed7953"
             ],
             [
              0.7777777777777778,
              "#fb9f3a"
             ],
             [
              0.8888888888888888,
              "#fdca26"
             ],
             [
              1,
              "#f0f921"
             ]
            ],
            "type": "histogram2dcontour"
           }
          ],
          "mesh3d": [
           {
            "colorbar": {
             "outlinewidth": 0,
             "ticks": ""
            },
            "type": "mesh3d"
           }
          ],
          "parcoords": [
           {
            "line": {
             "colorbar": {
              "outlinewidth": 0,
              "ticks": ""
             }
            },
            "type": "parcoords"
           }
          ],
          "pie": [
           {
            "automargin": true,
            "type": "pie"
           }
          ],
          "scatter": [
           {
            "fillpattern": {
             "fillmode": "overlay",
             "size": 10,
             "solidity": 0.2
            },
            "type": "scatter"
           }
          ],
          "scatter3d": [
           {
            "line": {
             "colorbar": {
              "outlinewidth": 0,
              "ticks": ""
             }
            },
            "marker": {
             "colorbar": {
              "outlinewidth": 0,
              "ticks": ""
             }
            },
            "type": "scatter3d"
           }
          ],
          "scattercarpet": [
           {
            "marker": {
             "colorbar": {
              "outlinewidth": 0,
              "ticks": ""
             }
            },
            "type": "scattercarpet"
           }
          ],
          "scattergeo": [
           {
            "marker": {
             "colorbar": {
              "outlinewidth": 0,
              "ticks": ""
             }
            },
            "type": "scattergeo"
           }
          ],
          "scattergl": [
           {
            "marker": {
             "colorbar": {
              "outlinewidth": 0,
              "ticks": ""
             }
            },
            "type": "scattergl"
           }
          ],
          "scattermapbox": [
           {
            "marker": {
             "colorbar": {
              "outlinewidth": 0,
              "ticks": ""
             }
            },
            "type": "scattermapbox"
           }
          ],
          "scatterpolar": [
           {
            "marker": {
             "colorbar": {
              "outlinewidth": 0,
              "ticks": ""
             }
            },
            "type": "scatterpolar"
           }
          ],
          "scatterpolargl": [
           {
            "marker": {
             "colorbar": {
              "outlinewidth": 0,
              "ticks": ""
             }
            },
            "type": "scatterpolargl"
           }
          ],
          "scatterternary": [
           {
            "marker": {
             "colorbar": {
              "outlinewidth": 0,
              "ticks": ""
             }
            },
            "type": "scatterternary"
           }
          ],
          "surface": [
           {
            "colorbar": {
             "outlinewidth": 0,
             "ticks": ""
            },
            "colorscale": [
             [
              0,
              "#0d0887"
             ],
             [
              0.1111111111111111,
              "#46039f"
             ],
             [
              0.2222222222222222,
              "#7201a8"
             ],
             [
              0.3333333333333333,
              "#9c179e"
             ],
             [
              0.4444444444444444,
              "#bd3786"
             ],
             [
              0.5555555555555556,
              "#d8576b"
             ],
             [
              0.6666666666666666,
              "#ed7953"
             ],
             [
              0.7777777777777778,
              "#fb9f3a"
             ],
             [
              0.8888888888888888,
              "#fdca26"
             ],
             [
              1,
              "#f0f921"
             ]
            ],
            "type": "surface"
           }
          ],
          "table": [
           {
            "cells": {
             "fill": {
              "color": "#EBF0F8"
             },
             "line": {
              "color": "white"
             }
            },
            "header": {
             "fill": {
              "color": "#C8D4E3"
             },
             "line": {
              "color": "white"
             }
            },
            "type": "table"
           }
          ]
         },
         "layout": {
          "annotationdefaults": {
           "arrowcolor": "#2a3f5f",
           "arrowhead": 0,
           "arrowwidth": 1
          },
          "autotypenumbers": "strict",
          "coloraxis": {
           "colorbar": {
            "outlinewidth": 0,
            "ticks": ""
           }
          },
          "colorscale": {
           "diverging": [
            [
             0,
             "#8e0152"
            ],
            [
             0.1,
             "#c51b7d"
            ],
            [
             0.2,
             "#de77ae"
            ],
            [
             0.3,
             "#f1b6da"
            ],
            [
             0.4,
             "#fde0ef"
            ],
            [
             0.5,
             "#f7f7f7"
            ],
            [
             0.6,
             "#e6f5d0"
            ],
            [
             0.7,
             "#b8e186"
            ],
            [
             0.8,
             "#7fbc41"
            ],
            [
             0.9,
             "#4d9221"
            ],
            [
             1,
             "#276419"
            ]
           ],
           "sequential": [
            [
             0,
             "#0d0887"
            ],
            [
             0.1111111111111111,
             "#46039f"
            ],
            [
             0.2222222222222222,
             "#7201a8"
            ],
            [
             0.3333333333333333,
             "#9c179e"
            ],
            [
             0.4444444444444444,
             "#bd3786"
            ],
            [
             0.5555555555555556,
             "#d8576b"
            ],
            [
             0.6666666666666666,
             "#ed7953"
            ],
            [
             0.7777777777777778,
             "#fb9f3a"
            ],
            [
             0.8888888888888888,
             "#fdca26"
            ],
            [
             1,
             "#f0f921"
            ]
           ],
           "sequentialminus": [
            [
             0,
             "#0d0887"
            ],
            [
             0.1111111111111111,
             "#46039f"
            ],
            [
             0.2222222222222222,
             "#7201a8"
            ],
            [
             0.3333333333333333,
             "#9c179e"
            ],
            [
             0.4444444444444444,
             "#bd3786"
            ],
            [
             0.5555555555555556,
             "#d8576b"
            ],
            [
             0.6666666666666666,
             "#ed7953"
            ],
            [
             0.7777777777777778,
             "#fb9f3a"
            ],
            [
             0.8888888888888888,
             "#fdca26"
            ],
            [
             1,
             "#f0f921"
            ]
           ]
          },
          "colorway": [
           "#636efa",
           "#EF553B",
           "#00cc96",
           "#ab63fa",
           "#FFA15A",
           "#19d3f3",
           "#FF6692",
           "#B6E880",
           "#FF97FF",
           "#FECB52"
          ],
          "font": {
           "color": "#2a3f5f"
          },
          "geo": {
           "bgcolor": "white",
           "lakecolor": "white",
           "landcolor": "#E5ECF6",
           "showlakes": true,
           "showland": true,
           "subunitcolor": "white"
          },
          "hoverlabel": {
           "align": "left"
          },
          "hovermode": "closest",
          "mapbox": {
           "style": "light"
          },
          "paper_bgcolor": "white",
          "plot_bgcolor": "#E5ECF6",
          "polar": {
           "angularaxis": {
            "gridcolor": "white",
            "linecolor": "white",
            "ticks": ""
           },
           "bgcolor": "#E5ECF6",
           "radialaxis": {
            "gridcolor": "white",
            "linecolor": "white",
            "ticks": ""
           }
          },
          "scene": {
           "xaxis": {
            "backgroundcolor": "#E5ECF6",
            "gridcolor": "white",
            "gridwidth": 2,
            "linecolor": "white",
            "showbackground": true,
            "ticks": "",
            "zerolinecolor": "white"
           },
           "yaxis": {
            "backgroundcolor": "#E5ECF6",
            "gridcolor": "white",
            "gridwidth": 2,
            "linecolor": "white",
            "showbackground": true,
            "ticks": "",
            "zerolinecolor": "white"
           },
           "zaxis": {
            "backgroundcolor": "#E5ECF6",
            "gridcolor": "white",
            "gridwidth": 2,
            "linecolor": "white",
            "showbackground": true,
            "ticks": "",
            "zerolinecolor": "white"
           }
          },
          "shapedefaults": {
           "line": {
            "color": "#2a3f5f"
           }
          },
          "ternary": {
           "aaxis": {
            "gridcolor": "white",
            "linecolor": "white",
            "ticks": ""
           },
           "baxis": {
            "gridcolor": "white",
            "linecolor": "white",
            "ticks": ""
           },
           "bgcolor": "#E5ECF6",
           "caxis": {
            "gridcolor": "white",
            "linecolor": "white",
            "ticks": ""
           }
          },
          "title": {
           "x": 0.05
          },
          "xaxis": {
           "automargin": true,
           "gridcolor": "white",
           "linecolor": "white",
           "ticks": "",
           "title": {
            "standoff": 15
           },
           "zerolinecolor": "white",
           "zerolinewidth": 2
          },
          "yaxis": {
           "automargin": true,
           "gridcolor": "white",
           "linecolor": "white",
           "ticks": "",
           "title": {
            "standoff": 15
           },
           "zerolinecolor": "white",
           "zerolinewidth": 2
          }
         }
        },
        "width": 800
       }
      },
      "image/png": "[encoded data removed]",
      "text/html": [
       "<div>                            <div id=\"4ee9d897-3477-4d6f-acac-443692bc173c\" class=\"plotly-graph-div\" style=\"height:400px; width:800px;\"></div>            <script type=\"text/javascript\">                require([\"plotly\"], function(Plotly) {                    window.PLOTLYENV=window.PLOTLYENV || {};                                    if (document.getElementById(\"4ee9d897-3477-4d6f-acac-443692bc173c\")) {                    Plotly.newPlot(                        \"4ee9d897-3477-4d6f-acac-443692bc173c\",                        [{\"cells\":{\"align\":\"left\",\"fill\":{\"color\":\"#003366\"},\"font\":{\"color\":\"white\"},\"line\":{\"color\":\"black\"},\"values\":[[\"1960\",\"1961\",\"1962\",\"1963\",\"1964\",\"1965\",\"1966\",\"1967\",\"1968\",\"1969\",\"1970\",\"1971\",\"1972\",\"1973\",\"1974\",\"1975\",\"1976\",\"1977\",\"1978\",\"1979\",\"1980\",\"1981\",\"1982\",\"1983\",\"1984\",\"1985\",\"1986\",\"1987\",\"1988\",\"1989\",\"1990\",\"1991\",\"1992\",\"1993\",\"1994\",\"1995\",\"1996\",\"1997\",\"1998\",\"1999\",\"2000\",\"2001\",\"2002\",\"2003\",\"2004\",\"2005\",\"2006\",\"2007\",\"2008\",\"2009\",\"2010\",\"2011\",\"2012\",\"2013\"],[1.94,1.94,1.79,1.82,1.79,1.74,1.58,1.8,1.83,1.87,1.83,1.68,1.58,1.49,1.51,1.45,1.44,1.4,1.38,1.38,1.44,1.43,1.41,1.33,1.29,1.37,1.35,1.311,1.36,1.296,1.272,1.281,1.29,1.25,1.2,1.17,1.16,1.09,1.017,0.982,0.939,0.891,0.856,0.838,0.836,0.849,0.874,0.906,0.939,0.973,1.003,1.031,1.058,1.083],[\"Latvia\",\"Hungary\",\"Hungary\",\"Hungary\",\"Latvia\",\"Latvia\",\"Japan\",\"Latvia\",\"Latvia\",\"Czech Republic\",\"Finland\",\"Finland\",\"Finland\",\"Finland\",\"Germany\",\"Germany\",\"Macao SAR, China\",\"Germany\",\"Germany\",\"Germany\",\"Germany\",\"Germany\",\"Germany\",\"Germany\",\"Germany\",\"Germany\",\"Italy\",\"Hong Kong SAR, China\",\"Italy\",\"Hong Kong SAR, China\",\"Hong Kong SAR, China\",\"Hong Kong SAR, China\",\"Germany\",\"Italy\",\"Spain\",\"Spain\",\"Spain\",\"Bulgaria\",\"Hong Kong SAR, China\",\"Hong Kong SAR, China\",\"Macao SAR, China\",\"Macao SAR, China\",\"Macao SAR, China\",\"Macao SAR, China\",\"Macao SAR, China\",\"Macao SAR, China\",\"Macao SAR, China\",\"Macao SAR, China\",\"Macao SAR, China\",\"Macao SAR, China\",\"Macao SAR, China\",\"Macao SAR, China\",\"Macao SAR, China\",\"Macao SAR, China\"]]},\"header\":{\"align\":\"left\",\"fill\":{\"color\":\"#003366\"},\"font\":{\"color\":\"white\"},\"line\":{\"color\":\"black\"},\"values\":[\"Column\",\"Min Value\",\"Value from Country Name\"]},\"type\":\"table\"}],                        {\"template\":{\"data\":{\"histogram2dcontour\":[{\"type\":\"histogram2dcontour\",\"colorbar\":{\"outlinewidth\":0,\"ticks\":\"\"},\"colorscale\":[[0.0,\"#0d0887\"],[0.1111111111111111,\"#46039f\"],[0.2222222222222222,\"#7201a8\"],[0.3333333333333333,\"#9c179e\"],[0.4444444444444444,\"#bd3786\"],[0.5555555555555556,\"#d8576b\"],[0.6666666666666666,\"#ed7953\"],[0.7777777777777778,\"#fb9f3a\"],[0.8888888888888888,\"#fdca26\"],[1.0,\"#f0f921\"]]}],\"choropleth\":[{\"type\":\"choropleth\",\"colorbar\":{\"outlinewidth\":0,\"ticks\":\"\"}}],\"histogram2d\":[{\"type\":\"histogram2d\",\"colorbar\":{\"outlinewidth\":0,\"ticks\":\"\"},\"colorscale\":[[0.0,\"#0d0887\"],[0.1111111111111111,\"#46039f\"],[0.2222222222222222,\"#7201a8\"],[0.3333333333333333,\"#9c179e\"],[0.4444444444444444,\"#bd3786\"],[0.5555555555555556,\"#d8576b\"],[0.6666666666666666,\"#ed7953\"],[0.7777777777777778,\"#fb9f3a\"],[0.8888888888888888,\"#fdca26\"],[1.0,\"#f0f921\"]]}],\"heatmap\":[{\"type\":\"heatmap\",\"colorbar\":{\"outlinewidth\":0,\"ticks\":\"\"},\"colorscale\":[[0.0,\"#0d0887\"],[0.1111111111111111,\"#46039f\"],[0.2222222222222222,\"#7201a8\"],[0.3333333333333333,\"#9c179e\"],[0.4444444444444444,\"#bd3786\"],[0.5555555555555556,\"#d8576b\"],[0.6666666666666666,\"#ed7953\"],[0.7777777777777778,\"#fb9f3a\"],[0.8888888888888888,\"#fdca26\"],[1.0,\"#f0f921\"]]}],\"heatmapgl\":[{\"type\":\"heatmapgl\",\"colorbar\":{\"outlinewidth\":0,\"ticks\":\"\"},\"colorscale\":[[0.0,\"#0d0887\"],[0.1111111111111111,\"#46039f\"],[0.2222222222222222,\"#7201a8\"],[0.3333333333333333,\"#9c179e\"],[0.4444444444444444,\"#bd3786\"],[0.5555555555555556,\"#d8576b\"],[0.6666666666666666,\"#ed7953\"],[0.7777777777777778,\"#fb9f3a\"],[0.8888888888888888,\"#fdca26\"],[1.0,\"#f0f921\"]]}],\"contourcarpet\":[{\"type\":\"contourcarpet\",\"colorbar\":{\"outlinewidth\":0,\"ticks\":\"\"}}],\"contour\":[{\"type\":\"contour\",\"colorbar\":{\"outlinewidth\":0,\"ticks\":\"\"},\"colorscale\":[[0.0,\"#0d0887\"],[0.1111111111111111,\"#46039f\"],[0.2222222222222222,\"#7201a8\"],[0.3333333333333333,\"#9c179e\"],[0.4444444444444444,\"#bd3786\"],[0.5555555555555556,\"#d8576b\"],[0.6666666666666666,\"#ed7953\"],[0.7777777777777778,\"#fb9f3a\"],[0.8888888888888888,\"#fdca26\"],[1.0,\"#f0f921\"]]}],\"surface\":[{\"type\":\"surface\",\"colorbar\":{\"outlinewidth\":0,\"ticks\":\"\"},\"colorscale\":[[0.0,\"#0d0887\"],[0.1111111111111111,\"#46039f\"],[0.2222222222222222,\"#7201a8\"],[0.3333333333333333,\"#9c179e\"],[0.4444444444444444,\"#bd3786\"],[0.5555555555555556,\"#d8576b\"],[0.6666666666666666,\"#ed7953\"],[0.7777777777777778,\"#fb9f3a\"],[0.8888888888888888,\"#fdca26\"],[1.0,\"#f0f921\"]]}],\"mesh3d\":[{\"type\":\"mesh3d\",\"colorbar\":{\"outlinewidth\":0,\"ticks\":\"\"}}],\"scatter\":[{\"fillpattern\":{\"fillmode\":\"overlay\",\"size\":10,\"solidity\":0.2},\"type\":\"scatter\"}],\"parcoords\":[{\"type\":\"parcoords\",\"line\":{\"colorbar\":{\"outlinewidth\":0,\"ticks\":\"\"}}}],\"scatterpolargl\":[{\"type\":\"scatterpolargl\",\"marker\":{\"colorbar\":{\"outlinewidth\":0,\"ticks\":\"\"}}}],\"bar\":[{\"error_x\":{\"color\":\"#2a3f5f\"},\"error_y\":{\"color\":\"#2a3f5f\"},\"marker\":{\"line\":{\"color\":\"#E5ECF6\",\"width\":0.5},\"pattern\":{\"fillmode\":\"overlay\",\"size\":10,\"solidity\":0.2}},\"type\":\"bar\"}],\"scattergeo\":[{\"type\":\"scattergeo\",\"marker\":{\"colorbar\":{\"outlinewidth\":0,\"ticks\":\"\"}}}],\"scatterpolar\":[{\"type\":\"scatterpolar\",\"marker\":{\"colorbar\":{\"outlinewidth\":0,\"ticks\":\"\"}}}],\"histogram\":[{\"marker\":{\"pattern\":{\"fillmode\":\"overlay\",\"size\":10,\"solidity\":0.2}},\"type\":\"histogram\"}],\"scattergl\":[{\"type\":\"scattergl\",\"marker\":{\"colorbar\":{\"outlinewidth\":0,\"ticks\":\"\"}}}],\"scatter3d\":[{\"type\":\"scatter3d\",\"line\":{\"colorbar\":{\"outlinewidth\":0,\"ticks\":\"\"}},\"marker\":{\"colorbar\":{\"outlinewidth\":0,\"ticks\":\"\"}}}],\"scattermapbox\":[{\"type\":\"scattermapbox\",\"marker\":{\"colorbar\":{\"outlinewidth\":0,\"ticks\":\"\"}}}],\"scatterternary\":[{\"type\":\"scatterternary\",\"marker\":{\"colorbar\":{\"outlinewidth\":0,\"ticks\":\"\"}}}],\"scattercarpet\":[{\"type\":\"scattercarpet\",\"marker\":{\"colorbar\":{\"outlinewidth\":0,\"ticks\":\"\"}}}],\"carpet\":[{\"aaxis\":{\"endlinecolor\":\"#2a3f5f\",\"gridcolor\":\"white\",\"linecolor\":\"white\",\"minorgridcolor\":\"white\",\"startlinecolor\":\"#2a3f5f\"},\"baxis\":{\"endlinecolor\":\"#2a3f5f\",\"gridcolor\":\"white\",\"linecolor\":\"white\",\"minorgridcolor\":\"white\",\"startlinecolor\":\"#2a3f5f\"},\"type\":\"carpet\"}],\"table\":[{\"cells\":{\"fill\":{\"color\":\"#EBF0F8\"},\"line\":{\"color\":\"white\"}},\"header\":{\"fill\":{\"color\":\"#C8D4E3\"},\"line\":{\"color\":\"white\"}},\"type\":\"table\"}],\"barpolar\":[{\"marker\":{\"line\":{\"color\":\"#E5ECF6\",\"width\":0.5},\"pattern\":{\"fillmode\":\"overlay\",\"size\":10,\"solidity\":0.2}},\"type\":\"barpolar\"}],\"pie\":[{\"automargin\":true,\"type\":\"pie\"}]},\"layout\":{\"autotypenumbers\":\"strict\",\"colorway\":[\"#636efa\",\"#EF553B\",\"#00cc96\",\"#ab63fa\",\"#FFA15A\",\"#19d3f3\",\"#FF6692\",\"#B6E880\",\"#FF97FF\",\"#FECB52\"],\"font\":{\"color\":\"#2a3f5f\"},\"hovermode\":\"closest\",\"hoverlabel\":{\"align\":\"left\"},\"paper_bgcolor\":\"white\",\"plot_bgcolor\":\"#E5ECF6\",\"polar\":{\"bgcolor\":\"#E5ECF6\",\"angularaxis\":{\"gridcolor\":\"white\",\"linecolor\":\"white\",\"ticks\":\"\"},\"radialaxis\":{\"gridcolor\":\"white\",\"linecolor\":\"white\",\"ticks\":\"\"}},\"ternary\":{\"bgcolor\":\"#E5ECF6\",\"aaxis\":{\"gridcolor\":\"white\",\"linecolor\":\"white\",\"ticks\":\"\"},\"baxis\":{\"gridcolor\":\"white\",\"linecolor\":\"white\",\"ticks\":\"\"},\"caxis\":{\"gridcolor\":\"white\",\"linecolor\":\"white\",\"ticks\":\"\"}},\"coloraxis\":{\"colorbar\":{\"outlinewidth\":0,\"ticks\":\"\"}},\"colorscale\":{\"sequential\":[[0.0,\"#0d0887\"],[0.1111111111111111,\"#46039f\"],[0.2222222222222222,\"#7201a8\"],[0.3333333333333333,\"#9c179e\"],[0.4444444444444444,\"#bd3786\"],[0.5555555555555556,\"#d8576b\"],[0.6666666666666666,\"#ed7953\"],[0.7777777777777778,\"#fb9f3a\"],[0.8888888888888888,\"#fdca26\"],[1.0,\"#f0f921\"]],\"sequentialminus\":[[0.0,\"#0d0887\"],[0.1111111111111111,\"#46039f\"],[0.2222222222222222,\"#7201a8\"],[0.3333333333333333,\"#9c179e\"],[0.4444444444444444,\"#bd3786\"],[0.5555555555555556,\"#d8576b\"],[0.6666666666666666,\"#ed7953\"],[0.7777777777777778,\"#fb9f3a\"],[0.8888888888888888,\"#fdca26\"],[1.0,\"#f0f921\"]],\"diverging\":[[0,\"#8e0152\"],[0.1,\"#c51b7d\"],[0.2,\"#de77ae\"],[0.3,\"#f1b6da\"],[0.4,\"#fde0ef\"],[0.5,\"#f7f7f7\"],[0.6,\"#e6f5d0\"],[0.7,\"#b8e186\"],[0.8,\"#7fbc41\"],[0.9,\"#4d9221\"],[1,\"#276419\"]]},\"xaxis\":{\"gridcolor\":\"white\",\"linecolor\":\"white\",\"ticks\":\"\",\"title\":{\"standoff\":15},\"zerolinecolor\":\"white\",\"automargin\":true,\"zerolinewidth\":2},\"yaxis\":{\"gridcolor\":\"white\",\"linecolor\":\"white\",\"ticks\":\"\",\"title\":{\"standoff\":15},\"zerolinecolor\":\"white\",\"automargin\":true,\"zerolinewidth\":2},\"scene\":{\"xaxis\":{\"backgroundcolor\":\"#E5ECF6\",\"gridcolor\":\"white\",\"linecolor\":\"white\",\"showbackground\":true,\"ticks\":\"\",\"zerolinecolor\":\"white\",\"gridwidth\":2},\"yaxis\":{\"backgroundcolor\":\"#E5ECF6\",\"gridcolor\":\"white\",\"linecolor\":\"white\",\"showbackground\":true,\"ticks\":\"\",\"zerolinecolor\":\"white\",\"gridwidth\":2},\"zaxis\":{\"backgroundcolor\":\"#E5ECF6\",\"gridcolor\":\"white\",\"linecolor\":\"white\",\"showbackground\":true,\"ticks\":\"\",\"zerolinecolor\":\"white\",\"gridwidth\":2}},\"shapedefaults\":{\"line\":{\"color\":\"#2a3f5f\"}},\"annotationdefaults\":{\"arrowcolor\":\"#2a3f5f\",\"arrowhead\":0,\"arrowwidth\":1},\"geo\":{\"bgcolor\":\"white\",\"landcolor\":\"#E5ECF6\",\"subunitcolor\":\"white\",\"showland\":true,\"showlakes\":true,\"lakecolor\":\"white\"},\"title\":{\"x\":0.05},\"mapbox\":{\"style\":\"light\"}}},\"margin\":{\"l\":0,\"r\":0,\"b\":0,\"t\":0},\"width\":800,\"height\":400,\"autosize\":true},                        {\"responsive\": true}                    ).then(function(){\n",
       "                            \n",
       "var gd = document.getElementById('4ee9d897-3477-4d6f-acac-443692bc173c');\n",
       "var x = new MutationObserver(function (mutations, observer) {{\n",
       "        var display = window.getComputedStyle(gd).display;\n",
       "        if (!display || display === 'none') {{\n",
       "            console.log([gd, 'removed!']);\n",
       "            Plotly.purge(gd);\n",
       "            observer.disconnect();\n",
       "        }}\n",
       "}});\n",
       "\n",
       "// Listen for the removal of the full notebook cells\n",
       "var notebookContainer = gd.closest('#notebook-container');\n",
       "if (notebookContainer) {{\n",
       "    x.observe(notebookContainer, {childList: true});\n",
       "}}\n",
       "\n",
       "// Listen for the clearing of the current output cell\n",
       "var outputEl = gd.closest('.output');\n",
       "if (outputEl) {{\n",
       "    x.observe(outputEl, {childList: true});\n",
       "}}\n",
       "\n",
       "                        })                };                });            </script>        </div>"
      ]
     },
     "metadata": {},
     "output_type": "display_data"
    }
   ],
   "source": [
    "# Function to get max value and corresponding value from the first column for each column, excluding the first column\n",
    "def min_value_and_specific_row_value(df, specific_column):\n",
    "    results = []\n",
    "    for col in df.columns[1:]:  # Skip the first column as this is the country name and has no minimum value\n",
    "        min_value = df[col].min()\n",
    "        min_row = df[df[col] == min_value].iloc[0]\n",
    "        specific_value = min_row[specific_column]\n",
    "        results.append((col, min_value, specific_value))\n",
    "    return results\n",
    "\n",
    "# Specify the first column\n",
    "first_column = df.columns[0]\n",
    "\n",
    "# Get the maximum values and corresponding values from the first column, excluding the first column itself\n",
    "min_values = min_value_and_specific_row_value(df, first_column)\n",
    "\n",
    "# Create a new DataFrame to hold the results\n",
    "results_df = pd.DataFrame(min_values, columns=['Column', 'Min Value', f'Value from {first_column}'])\n",
    "\n",
    "# Create a Plotly table\n",
    "fig = go.Figure(data=[go.Table(\n",
    "    header=dict(\n",
    "        values=['Column', 'Min Value', f'Value from {first_column}'],\n",
    "        fill_color='#003366',\n",
    "        font=dict(color='white'),\n",
    "        align='left',\n",
    "        line_color='black'\n",
    "    ),\n",
    "    cells=dict(\n",
    "        values=[results_df['Column'], results_df['Min Value'], results_df[f'Value from {first_column}']],\n",
    "        fill_color='#003366',\n",
    "        font=dict(color='white'),\n",
    "        align='left',\n",
    "        line_color='black'\n",
    "    )\n",
    ")])\n",
    "\n",
    "# Update layout to make the table vertically scrollable\n",
    "fig.update_layout(\n",
    "    width=800,\n",
    "    height=400,\n",
    "    margin=dict(l=0, r=0, b=0, t=0),\n",
    "    autosize=True\n",
    ")\n",
    "\n",
    "# Show the figure\n",
    "fig.show()"
   ]
  },
  {
   "cell_type": "markdown",
   "id": "4d037533-31fa-4f9f-af43-10bf83429aaf",
   "metadata": {},
   "source": [
    "The data reveals notable trends in the countries with the lowest birth rates from 1960 to 2013. Initially, countries like Latvia and Hungary had the lowest birth rates in the 1960s, reflecting the early stages of demographic transition in Eastern Europe. Latvia's birth rate fluctuated between 1.940 and 1.740, while Hungary's rate decreased from 1.940 in 1961 to 1.790 in 1962, indicating a period of demographic shifts.\n",
    "\n",
    "As we moved into the 1970s through to 1990s, Finland, Germany and Hong Kong became prominent for their low birth rates. Finland experienced a decline from 1.830 in 1970 to 1.490 in 1973, reflecting the impact of socio-economic changes and advancements in family planning. Germany's birth rate consistently remained low, with significant declines, reaching 1.290 by 1984. This pattern was indicative of Western Europe's broader trend of low fertility rates during this period.\n",
    "\n",
    "By the late 1990s and early 2000s, Hong Kong, and Macao, emerged as regions with the lowest birth rates globally. Hong Kong birth rate dropped to 0.982 in 1999, and Macao rate fell below 1.000 from 2000 onward till 2009, reaching a low of 0.836 in 2004. This dramatic decline in Macao birth rate reflects the region's rapid economic growth, urbanization, and effective family planning policies, which are common in many highly developed areas.\n",
    "\n"
   ]
  },
  {
   "cell_type": "markdown",
   "id": "fd89f00e-433b-47fb-927e-d9bd10b08533",
   "metadata": {},
   "source": [
    "**3. What countries had the highest and lowest difference in their birth rates from 1960 and 2013?**\n"
   ]
  },
  {
   "cell_type": "code",
   "execution_count": 43,
   "id": "c9b76def-31af-4dc1-a362-a0e4dc7722ad",
   "metadata": {},
   "outputs": [
    {
     "data": {
      "image/png": "[encoded data removed]",
      "text/plain": [
       "<Figure size 2000x800 with 2 Axes>"
      ]
     },
     "metadata": {},
     "output_type": "display_data"
    }
   ],
   "source": [
    "# Calculate the difference between the highest and lowest fertility rates for each country,\n",
    "# ignoring the first column (which is 'Country Name')\n",
    "df['Difference'] = df.iloc[:, 1:].max(axis=1) - df.iloc[:, 1:].min(axis=1)\n",
    "\n",
    "# Get the top ten countries with the highest and lowest differences\n",
    "top_ten = df.nlargest(10, 'Difference')\n",
    "bottom_ten = df.nsmallest(10, 'Difference')\n",
    "\n",
    "# Plotting both bar charts side by side\n",
    "fig, axes = plt.subplots(nrows=1, ncols=2, figsize=(20, 8))\n",
    "\n",
    "# Plot for top 10 countries with the highest difference\n",
    "sns.barplot(x='Difference', y='Country Name', data=top_ten, palette='viridis', ax=axes[0])\n",
    "axes[0].set_title('Top 10 Countries with Highest Difference in Fertility Rates (1960-2013)')\n",
    "axes[0].set_xlabel('Difference in Fertility Rates')\n",
    "axes[0].set_ylabel('Country')\n",
    "\n",
    "# Plot for top 10 countries with the lowest difference\n",
    "sns.barplot(x='Difference', y='Country Name', data=bottom_ten, palette='coolwarm', ax=axes[1])\n",
    "axes[1].set_title('Top 10 Countries with Lowest Difference in Fertility Rates (1960-2013)')\n",
    "axes[1].set_xlabel('Difference in Fertility Rates')\n",
    "axes[1].set_ylabel('Country')\n",
    "\n",
    "plt.tight_layout()\n",
    "plt.show()\n",
    "\n",
    "# Drop the 'Difference' column to revert to the original data\n",
    "df = df.drop(columns=['Difference'])"
   ]
  },
  {
   "cell_type": "markdown",
   "id": "412a7c6f-0c7e-49b3-bca2-19468c82e738",
   "metadata": {},
   "source": [
    "The first chart shows that Libya, Costa Rica, and Mongolia experienced the highest reductions in fertility rates between 1960 and 2013, with decreases of around 5.5, 5.3, and 5.2 births per woman, respectively, reflecting significant socio-economic transformations.\n",
    "\n",
    "The second chart indicates that Bermuda, Liechtenstein, and Mali had the lowest differences in fertility rates, with changes of approximately 0.2, 0.3, and 0.3 births per woman, suggesting relatively stable fertility rates over this period."
   ]
  },
  {
   "cell_type": "markdown",
   "id": "de80c708-7b93-4645-9887-c665dbd05031",
   "metadata": {},
   "source": [
    "# **Data Exploration**"
   ]
  },
  {
   "cell_type": "markdown",
   "id": "77b2d3cb-2f7b-4d3b-a188-cffd371bc1ba",
   "metadata": {},
   "source": [
    "**4. Show what the global trend was for fertility rates from 1960 to 2013?**\n"
   ]
  },
  {
   "cell_type": "code",
   "execution_count": null,
   "id": "9ca00460-2bd0-4c86-8748-70fc1e7b6835",
   "metadata": {},
   "outputs": [],
   "source": [
    "df.describe().T.style.set_properties(**{\"background-color\": \"#003366\",\"color\":\"white\",\"border\": \"1.5px  solid black\"})"
   ]
  },
  {
   "cell_type": "markdown",
   "id": "40f5a6b1-22e7-4186-a786-d58e32fba85b",
   "metadata": {},
   "source": [
    "We can plot the mean values for each year to see the global trend in fertility rates. "
   ]
  },
  {
   "cell_type": "code",
   "execution_count": 45,
   "id": "0142b1bb-848a-4bb5-b52e-a817ff150794",
   "metadata": {},
   "outputs": [
    {
     "name": "stderr",
     "output_type": "stream",
     "text": [
      "/opt/conda/envs/anaconda-2024.02-py310/lib/python3.10/site-packages/seaborn/_oldcore.py:1119: FutureWarning:\n",
      "\n",
      "use_inf_as_na option is deprecated and will be removed in a future version. Convert inf values to NaN before operating instead.\n",
      "\n",
      "/opt/conda/envs/anaconda-2024.02-py310/lib/python3.10/site-packages/seaborn/_oldcore.py:1119: FutureWarning:\n",
      "\n",
      "use_inf_as_na option is deprecated and will be removed in a future version. Convert inf values to NaN before operating instead.\n",
      "\n"
     ]
    },
    {
     "data": {
      "image/png": "[encoded data removed]",
      "text/plain": [
       "<Figure size 3000x600 with 1 Axes>"
      ]
     },
     "metadata": {},
     "output_type": "display_data"
    }
   ],
   "source": [
    "# Ignoring the first row and the first column\n",
    "df_trimmed = df.iloc[1:, 1:]\n",
    "\n",
    "# Calculate the mean of each column in the trimmed DataFrame\n",
    "mean_values = df_trimmed.mean()\n",
    "\n",
    "# Reset the index to get a proper format for plotting\n",
    "mean_values = mean_values.reset_index()\n",
    "mean_values.columns = ['Column', 'Mean']\n",
    "\n",
    "# Plotting\n",
    "plt.figure(figsize=(30, 6))\n",
    "sns.lineplot(data=mean_values, x='Column', y='Mean', marker='o')\n",
    "plt.title('Mean Fertility Rate by Year')\n",
    "plt.xlabel('Year')\n",
    "plt.ylabel('Mean')\n",
    "plt.grid(True)\n",
    "plt.show()"
   ]
  },
  {
   "cell_type": "markdown",
   "id": "b46d43e2-3578-4f09-a372-9969129ccad9",
   "metadata": {},
   "source": [
    "The graph clearly illustrates the global trend in fertility rates from 1960 to 2013, demonstrating a significant and consistent decline over this period. Here are the key points:\n",
    "\n",
    "**High Fertility Rates in the Early 1960s:**\n",
    "    \n",
    "The graph starts with high fertility rates around 5.5 children per woman.\n",
    "This high rate is indicative of a time when many countries had limited access to family planning and higher desired family sizes.\n",
    "\n",
    "**Steady Decline Over the Decades:**\n",
    "    \n",
    "From the 1960s to the mid-1970s, the fertility rate shows a gradual decline.\n",
    "This period marks the beginning of increased awareness and use of contraceptives and family planning programs.\n",
    "\n",
    "**Accelerated Decline in the Late 20th Century:**\n",
    "    \n",
    "From the late 1970s to the early 1990s, the rate of decline accelerates.\n",
    "Factors such as improved healthcare, women's education, and economic development contribute to this trend.\n",
    "Countries across various regions implemented policies to control population growth, further aiding the decline.\n",
    "\n",
    "**Continued Decline into the 21st Century:**\n",
    "    \n",
    "The decline continues steadily through the 1990s and into the 21st century, reaching below 3 children per woman by 2013.\n",
    "Advances in reproductive health services, socio-economic development, and shifts in societal norms regarding family size are critical factors.\n",
    "\n",
    "**Regional Variations:**\n",
    "    \n",
    "While the global trend shows a decline, regional variations exist, with some countries experiencing slower declines due to cultural, economic, and infrastructural factors."
   ]
  },
  {
   "cell_type": "code",
   "execution_count": 48,
   "id": "17fa1fca-e974-4f83-960b-3b1d427b52cf",
   "metadata": {},
   "outputs": [
    {
     "name": "stderr",
     "output_type": "stream",
     "text": [
      "/opt/conda/envs/anaconda-2024.02-py310/lib/python3.10/site-packages/seaborn/_oldcore.py:1119: FutureWarning:\n",
      "\n",
      "use_inf_as_na option is deprecated and will be removed in a future version. Convert inf values to NaN before operating instead.\n",
      "\n",
      "/opt/conda/envs/anaconda-2024.02-py310/lib/python3.10/site-packages/seaborn/_oldcore.py:1119: FutureWarning:\n",
      "\n",
      "use_inf_as_na option is deprecated and will be removed in a future version. Convert inf values to NaN before operating instead.\n",
      "\n"
     ]
    },
    {
     "name": "stdout",
     "output_type": "stream",
     "text": [
      "The histograms provide a visual representation of the fertility rates around the world in 1960 and 2013.\n"
     ]
    },
    {
     "data": {
      "image/png": "[encoded data removed]",
      "text/plain": [
       "<Figure size 1400x600 with 2 Axes>"
      ]
     },
     "metadata": {},
     "output_type": "display_data"
    }
   ],
   "source": [
    "# Set the aesthetic style of the plots\n",
    "sns.set_style(\"whitegrid\")\n",
    "fig, ax = plt.subplots(1, 2, figsize=(14, 6))\n",
    "\n",
    "# Populate the histograms for 1960\n",
    "sns.histplot(df['1960'], bins=30, kde=True, ax=ax[0])\n",
    "ax[0].set_title('Fertility Rates around the World in 1960')\n",
    "ax[0].set_xlabel('Fertility Rate (births per woman)')\n",
    "ax[0].set_ylabel('Number of Countries')\n",
    "\n",
    "# Populate the histograms for 2013\n",
    "sns.histplot(df['2013'], bins=30, kde=True, ax=ax[1])\n",
    "ax[1].set_title('Fertility Rates around the World in 2013')\n",
    "ax[1].set_xlabel('Fertility Rate (births per woman)')\n",
    "ax[1].set_ylabel('Number of Countries')\n",
    "\n",
    "print('The histograms provide a visual representation of the fertility rates around the world in 1960 and 2013.')\n",
    "\n",
    "plt.tight_layout()\n",
    "plt.show()"
   ]
  },
  {
   "cell_type": "markdown",
   "id": "413dd145-c4b2-4e15-b85c-cbe692696814",
   "metadata": {},
   "source": [
    "Here are the key conclusions we can draw about the trends:\n",
    "\n",
    "**Decrease in Fertility Rates:**\n",
    "\n",
    "In 1960, the majority of countries had high fertility rates, with a peak of around 6-7 births per woman.\n",
    "By 2013, fertility rates had significantly decreased. Most countries had fertility rates between 1 and 3 births per woman, with a peak of around 2 births per woman.\n",
    "\n",
    "**Shift in Distribution:**\n",
    "\n",
    "The 1960 distribution shows a more varied range of fertility rates, with a significant number of countries having very high rates (6-8 births per woman).\n",
    "In 2013, the distribution was more concentrated around lower fertility rates, indicating a global trend towards smaller family sizes.\n",
    "\n",
    "**Reduction in High Fertility Rates:**\n",
    "\n",
    "The number of countries with very high fertility rates (above 5 births per woman) has drastically reduced by 2013. There are very few countries with fertility rates above 5 in 2013 compared to 1960.\n",
    "\n",
    "**Increase in Low Fertility Rates:**\n",
    "\n",
    "In 1960, almost no countries had fertility rates below 2 births per woman. By 2013, many countries had fertility rates between 1 and 2 births per woman, indicating a trend towards lower fertility rates globally."
   ]
  },
  {
   "cell_type": "markdown",
   "id": "bd7bbe0a-77ed-4fd3-9e8d-4a27850ec34d",
   "metadata": {},
   "source": [
    "**5. Compare the birth rate changes in a developed region, like the United Kingdom with a developing country, such as Guinea.**"
   ]
  },
  {
   "cell_type": "code",
   "execution_count": 50,
   "id": "ebe093da-05e8-49cd-b558-9bc8060e26f5",
   "metadata": {},
   "outputs": [
    {
     "data": {
      "image/png": "[encoded data removed]",
      "text/plain": [
       "<Figure size 3000x600 with 1 Axes>"
      ]
     },
     "metadata": {},
     "output_type": "display_data"
    }
   ],
   "source": [
    "# Set the country column as the index\n",
    "df.set_index('Country Name', inplace=True)\n",
    "\n",
    "# Transpose the dataframe for easier plotting\n",
    "df_transposed = df.T\n",
    "\n",
    "# Filter the data for the United Kingdom and Guinea\n",
    "uk_fertility = df_transposed['United Kingdom']\n",
    "guinea_fertility = df_transposed['Guinea']\n",
    "\n",
    "# Plot the fertility rates over the years\n",
    "plt.figure(figsize=(30, 6))\n",
    "plt.plot(uk_fertility.index, uk_fertility.values, label='United Kingdom', marker='o')\n",
    "plt.plot(guinea_fertility.index, guinea_fertility.values, label='Guinea', marker='o')\n",
    "\n",
    "# Add titles and labels\n",
    "plt.title('Fertility Rates of the United Kingdom and Guinea (1960-2013)')\n",
    "plt.xlabel('Year')\n",
    "plt.ylabel('Fertility Rate (births per woman)')\n",
    "plt.legend()\n",
    "plt.grid(True)\n",
    "\n",
    "# Show the plot\n",
    "plt.show()\n",
    "\n",
    "# Reset the index to restore 'Country Name' as a column\n",
    "df_reset = df.reset_index()"
   ]
  },
  {
   "cell_type": "markdown",
   "id": "12fe72f4-1205-4d06-a063-5e21ad18e722",
   "metadata": {},
   "source": [
    "**United Kingdom:**\n",
    "\n",
    "**1960s:**\n",
    "\n",
    "The fertility rate in the UK was relatively high, averaging around 2.5 to 3.0 children per woman, peaking in 1964.\n",
    "\n",
    "**1970s-1980s:**\n",
    "\n",
    "There was a notable decline in fertility rates during this period. By the mid-70s, the fertility rate had dropped to below 2.0 children per woman but there was a marginal gain after 1977 through the 1980. However, the rate initially fell then stabilized in the 80s. \n",
    " \n",
    "**1990s:**\n",
    "\n",
    "The decline continued, with fertility rates falling to around 1.6 to 1.7 children per woman by the late 1990s.\n",
    "\n",
    "**2000s-2013:**\n",
    "\n",
    "Fertility rates in the UK stabilized somewhat, hovering around 1.8 to 1.9 children per woman in the early 2000s. There were slight fluctuations, but the general trend was a stable low fertility rate.\n",
    "\n",
    "**Guinea:**\n",
    "\n",
    "**1960s:**\n",
    "\n",
    "Guinea had a much higher fertility rate compared to developed nations. The fertility rate was around 6.0 to 6.5 children per woman.\n",
    "\n",
    "**1970s-1980s:**\n",
    "\n",
    "The fertility rate remained high and there were slight inclines. By the late 1980s, it was still around 6.5 to 7 children per woman, peaking by the mid-80s.\n",
    "\n",
    "**1990s:**\n",
    "\n",
    "There was a gradual decrease in fertility rates during this decade, falling to about 6.5 to 6.0 children per woman by the end of the 1990s.\n",
    "\n",
    "**2000s-2013:**\n",
    "\n",
    "The decline continued, with fertility rates decreasing to approximately 5.0 to 5.5 children per woman by 2013. \n",
    "\n",
    "**Comparison:**\n",
    "\n",
    "**Land:** The UK and Guinea have similar land areas, with Guinea being marginally larger.\n",
    "\n",
    "**Trend:** The UK saw a steady decline in fertility rates, reflecting a mature demographic transition. Guinea experienced high, though declining, fertility rates, indicative of ongoing developmental changes.\n",
    "\n",
    "**Socioeconomic Factors:** Lower fertility in the UK correlates with higher education and economic development; higher fertility in Guinea is linked to lower education and development levels.\n",
    "\n",
    "**Population Growth:** The UK had moderate population growth, influenced by low fertility and immigration. Guinea faced high population growth due to higher fertility rates, though the growth rate was slowing. The UK’s population is significantly larger than Guinea’s, leading to higher population density in the UK."
   ]
  },
  {
   "cell_type": "markdown",
   "id": "e1ad00ee-139d-459e-b110-f45000da0b1c",
   "metadata": {},
   "source": [
    "**6. Compare the birth rate changes in two regions, such as the Middle East and Central Europe.**\n",
    "\n"
   ]
  },
  {
   "cell_type": "code",
   "execution_count": 52,
   "id": "68d63bbb-4721-4e5e-9be3-36c4ff47ec47",
   "metadata": {},
   "outputs": [
    {
     "data": {
      "image/png": "[encoded data removed]",
      "text/plain": [
       "<Figure size 1400x600 with 1 Axes>"
      ]
     },
     "metadata": {},
     "output_type": "display_data"
    }
   ],
   "source": [
    "# Define the countries in the regions\n",
    "middle_east_countries = ['Saudi Arabia', 'Bahrain', 'United Arab Emirates', 'Iraq', 'Oman']\n",
    "central_europe_countries = ['Austria', 'Hungary', 'Poland', 'Romania', 'Germany']\n",
    "\n",
    "# Extract data for Middle East and Central Europe\n",
    "middle_east_data = df.loc[middle_east_countries].dropna(axis=1, how='all')\n",
    "central_europe_data = df.loc[central_europe_countries].dropna(axis=1, how='all')\n",
    "\n",
    "# Transpose the data for plotting\n",
    "middle_east_data = middle_east_data.T.values\n",
    "central_europe_data = central_europe_data.T.values\n",
    "\n",
    "# Create the box plots\n",
    "plt.figure(figsize=(14, 6))\n",
    "\n",
    "# Positions for the box plots\n",
    "positions_me = range(1, len(middle_east_countries) + 1)\n",
    "positions_ce = range(len(middle_east_countries) + 2, len(middle_east_countries) + len(central_europe_countries) + 2)\n",
    "\n",
    "# Box plot for Middle East\n",
    "plt.boxplot(middle_east_data, positions=positions_me, patch_artist=True, showfliers=False, boxprops=dict(facecolor='green'))\n",
    "\n",
    "# Box plot for Central Europe\n",
    "plt.boxplot(central_europe_data, positions=positions_ce, patch_artist=True, showfliers=False, boxprops=dict(facecolor='red'))\n",
    "\n",
    "# Adding title and labels\n",
    "plt.title('Fertility Rates (1960-2013)')\n",
    "plt.xlabel('Country')\n",
    "plt.ylabel('Fertility Rate')\n",
    "\n",
    "# Adding custom x-ticks\n",
    "all_countries = middle_east_countries + central_europe_countries\n",
    "plt.xticks(ticks=list(positions_me) + list(positions_ce), labels=all_countries, rotation=45)\n",
    "\n",
    "plt.grid(True)\n",
    "\n",
    "# Show plot\n",
    "plt.show()"
   ]
  },
  {
   "cell_type": "markdown",
   "id": "18de7849-b0ca-4139-aa44-a60913d14a99",
   "metadata": {},
   "source": [
    "**Middle East Region**\n",
    "\n",
    "The fertility rates in the Middle East region, encompassing Saudi Arabia, Bahrain, United Arab Emirates, Iraq, and Oman, exhibit a broad range and substantial variability over the years from 1960 to 2013. The median fertility rates are relatively high, often exceeding 5 children per woman, with some countries like Saudi Arabia and Oman showing medians close to or above 7. The interquartile ranges (IQRs) are wide, indicating significant fluctuations in fertility rates across different periods. The presence of long whiskers extending to lower values, particularly in Bahrain and United Arab Emirates, suggests periods of notable declines in fertility. The cultural significance of larger families in many Middle Eastern societies has played a crucial role in sustaining higher fertility rates. In these cultures, having more children is often associated with social status, economic support in old age, and fulfilling traditional roles, which reinforces the tendency towards larger family sizes.\n",
    "\n",
    "**Central European Region**\n",
    "\n",
    "This region, represented by Austria, Hungary, Poland, Romania and Germany shows considerably lower and more stable fertility rates over the same period. The median fertility rates are around or below 2 children per woman, reflecting a trend towards smaller family sizes. The interquartile ranges are narrower compared to the Middle East, indicating less variability and more consistent fertility patterns over time. The box plots reveal a generally lower spread and fewer extreme values. suggesting that fertility rates in Central Europe have been influenced by different socio-economic conditions, such as higher levels of urbanization, greater access to education and healthcare, and different cultural attitudes towards family size and childbearing. These factors have contributed to a more gradual and steady trend in fertility rates across the region."
   ]
  },
  {
   "cell_type": "markdown",
   "id": "5e0756a7-2789-4890-8262-59b84f0a1e83",
   "metadata": {},
   "source": [
    "**7. Compare the two most populated countries, India and China.**\n",
    "\n"
   ]
  },
  {
   "cell_type": "code",
   "execution_count": 55,
   "id": "ed37e6c4-b740-4e35-ad9f-5fe4525a0ac0",
   "metadata": {},
   "outputs": [
    {
     "data": {
      "application/vnd.plotly.v1+json": {
       "config": {
        "plotlyServerURL": "https://plot.ly"
       },
       "data": [
        {
         "line": {
          "color": "red"
         },
         "mode": "lines+markers",
         "name": "China",
         "type": "scatter",
         "x": [
          "1960",
          "1961",
          "1962",
          "1963",
          "1964",
          "1965",
          "1966",
          "1967",
          "1968",
          "1969",
          "1970",
          "1971",
          "1972",
          "1973",
          "1974",
          "1975",
          "1976",
          "1977",
          "1978",
          "1979",
          "1980",
          "1981",
          "1982",
          "1983",
          "1984",
          "1985",
          "1986",
          "1987",
          "1988",
          "1989",
          "1990",
          "1991",
          "1992",
          "1993",
          "1994",
          "1995",
          "1996",
          "1997",
          "1998",
          "1999",
          "2000",
          "2001",
          "2002",
          "2003",
          "2004",
          "2005",
          "2006",
          "2007",
          "2008",
          "2009",
          "2010",
          "2011",
          "2012",
          "2013"
         ],
         "y": [
          5.758,
          5.887,
          6.008,
          6.103,
          6.157,
          6.161,
          6.11,
          6.011,
          5.871,
          5.692,
          5.47,
          5.2,
          4.887,
          4.542,
          4.181,
          3.826,
          3.497,
          3.212,
          2.982,
          2.813,
          2.71,
          2.673,
          2.682,
          2.72,
          2.769,
          2.811,
          2.826,
          2.806,
          2.745,
          2.644,
          2.506,
          2.342,
          2.171,
          2.009,
          1.865,
          1.746,
          1.656,
          1.591,
          1.546,
          1.52,
          1.51,
          1.514,
          1.527,
          1.546,
          1.566,
          1.585,
          1.602,
          1.617,
          1.63,
          1.642,
          1.65,
          1.657,
          1.663,
          1.668
         ]
        },
        {
         "line": {
          "color": "orange"
         },
         "mode": "lines+markers",
         "name": "India",
         "type": "scatter",
         "x": [
          "1960",
          "1961",
          "1962",
          "1963",
          "1964",
          "1965",
          "1966",
          "1967",
          "1968",
          "1969",
          "1970",
          "1971",
          "1972",
          "1973",
          "1974",
          "1975",
          "1976",
          "1977",
          "1978",
          "1979",
          "1980",
          "1981",
          "1982",
          "1983",
          "1984",
          "1985",
          "1986",
          "1987",
          "1988",
          "1989",
          "1990",
          "1991",
          "1992",
          "1993",
          "1994",
          "1995",
          "1996",
          "1997",
          "1998",
          "1999",
          "2000",
          "2001",
          "2002",
          "2003",
          "2004",
          "2005",
          "2006",
          "2007",
          "2008",
          "2009",
          "2010",
          "2011",
          "2012",
          "2013"
         ],
         "y": [
          5.87,
          5.856,
          5.842,
          5.826,
          5.807,
          5.781,
          5.747,
          5.701,
          5.642,
          5.573,
          5.494,
          5.41,
          5.323,
          5.238,
          5.156,
          5.077,
          5,
          4.922,
          4.843,
          4.762,
          4.679,
          4.597,
          4.515,
          4.436,
          4.358,
          4.281,
          4.203,
          4.125,
          4.044,
          3.961,
          3.878,
          3.793,
          3.709,
          3.628,
          3.549,
          3.473,
          3.402,
          3.334,
          3.269,
          3.207,
          3.145,
          3.083,
          3.018,
          2.952,
          2.884,
          2.817,
          2.753,
          2.694,
          2.643,
          2.6,
          2.563,
          2.532,
          2.505,
          2.479
         ]
        }
       ],
       "layout": {
        "height": 576,
        "legend": {
         "title": {
          "text": "Country"
         }
        },
        "margin": {
         "b": 80,
         "l": 80,
         "r": 80,
         "t": 80
        },
        "template": {
         "data": {
          "bar": [
           {
            "error_x": {
             "color": "#2a3f5f"
            },
            "error_y": {
             "color": "#2a3f5f"
            },
            "marker": {
             "line": {
              "color": "#E5ECF6",
              "width": 0.5
             },
             "pattern": {
              "fillmode": "overlay",
              "size": 10,
              "solidity": 0.2
             }
            },
            "type": "bar"
           }
          ],
          "barpolar": [
           {
            "marker": {
             "line": {
              "color": "#E5ECF6",
              "width": 0.5
             },
             "pattern": {
              "fillmode": "overlay",
              "size": 10,
              "solidity": 0.2
             }
            },
            "type": "barpolar"
           }
          ],
          "carpet": [
           {
            "aaxis": {
             "endlinecolor": "#2a3f5f",
             "gridcolor": "white",
             "linecolor": "white",
             "minorgridcolor": "white",
             "startlinecolor": "#2a3f5f"
            },
            "baxis": {
             "endlinecolor": "#2a3f5f",
             "gridcolor": "white",
             "linecolor": "white",
             "minorgridcolor": "white",
             "startlinecolor": "#2a3f5f"
            },
            "type": "carpet"
           }
          ],
          "choropleth": [
           {
            "colorbar": {
             "outlinewidth": 0,
             "ticks": ""
            },
            "type": "choropleth"
           }
          ],
          "contour": [
           {
            "colorbar": {
             "outlinewidth": 0,
             "ticks": ""
            },
            "colorscale": [
             [
              0,
              "#0d0887"
             ],
             [
              0.1111111111111111,
              "#46039f"
             ],
             [
              0.2222222222222222,
              "#7201a8"
             ],
             [
              0.3333333333333333,
              "#9c179e"
             ],
             [
              0.4444444444444444,
              "#bd3786"
             ],
             [
              0.5555555555555556,
              "#d8576b"
             ],
             [
              0.6666666666666666,
              "#ed7953"
             ],
             [
              0.7777777777777778,
              "#fb9f3a"
             ],
             [
              0.8888888888888888,
              "#fdca26"
             ],
             [
              1,
              "#f0f921"
             ]
            ],
            "type": "contour"
           }
          ],
          "contourcarpet": [
           {
            "colorbar": {
             "outlinewidth": 0,
             "ticks": ""
            },
            "type": "contourcarpet"
           }
          ],
          "heatmap": [
           {
            "colorbar": {
             "outlinewidth": 0,
             "ticks": ""
            },
            "colorscale": [
             [
              0,
              "#0d0887"
             ],
             [
              0.1111111111111111,
              "#46039f"
             ],
             [
              0.2222222222222222,
              "#7201a8"
             ],
             [
              0.3333333333333333,
              "#9c179e"
             ],
             [
              0.4444444444444444,
              "#bd3786"
             ],
             [
              0.5555555555555556,
              "#d8576b"
             ],
             [
              0.6666666666666666,
              "#ed7953"
             ],
             [
              0.7777777777777778,
              "#fb9f3a"
             ],
             [
              0.8888888888888888,
              "#fdca26"
             ],
             [
              1,
              "#f0f921"
             ]
            ],
            "type": "heatmap"
           }
          ],
          "heatmapgl": [
           {
            "colorbar": {
             "outlinewidth": 0,
             "ticks": ""
            },
            "colorscale": [
             [
              0,
              "#0d0887"
             ],
             [
              0.1111111111111111,
              "#46039f"
             ],
             [
              0.2222222222222222,
              "#7201a8"
             ],
             [
              0.3333333333333333,
              "#9c179e"
             ],
             [
              0.4444444444444444,
              "#bd3786"
             ],
             [
              0.5555555555555556,
              "#d8576b"
             ],
             [
              0.6666666666666666,
              "#ed7953"
             ],
             [
              0.7777777777777778,
              "#fb9f3a"
             ],
             [
              0.8888888888888888,
              "#fdca26"
             ],
             [
              1,
              "#f0f921"
             ]
            ],
            "type": "heatmapgl"
           }
          ],
          "histogram": [
           {
            "marker": {
             "pattern": {
              "fillmode": "overlay",
              "size": 10,
              "solidity": 0.2
             }
            },
            "type": "histogram"
           }
          ],
          "histogram2d": [
           {
            "colorbar": {
             "outlinewidth": 0,
             "ticks": ""
            },
            "colorscale": [
             [
              0,
              "#0d0887"
             ],
             [
              0.1111111111111111,
              "#46039f"
             ],
             [
              0.2222222222222222,
              "#7201a8"
             ],
             [
              0.3333333333333333,
              "#9c179e"
             ],
             [
              0.4444444444444444,
              "#bd3786"
             ],
             [
              0.5555555555555556,
              "#d8576b"
             ],
             [
              0.6666666666666666,
              "#ed7953"
             ],
             [
              0.7777777777777778,
              "#fb9f3a"
             ],
             [
              0.8888888888888888,
              "#fdca26"
             ],
             [
              1,
              "#f0f921"
             ]
            ],
            "type": "histogram2d"
           }
          ],
          "histogram2dcontour": [
           {
            "colorbar": {
             "outlinewidth": 0,
             "ticks": ""
            },
            "colorscale": [
             [
              0,
              "#0d0887"
             ],
             [
              0.1111111111111111,
              "#46039f"
             ],
             [
              0.2222222222222222,
              "#7201a8"
             ],
             [
              0.3333333333333333,
              "#9c179e"
             ],
             [
              0.4444444444444444,
              "#bd3786"
             ],
             [
              0.5555555555555556,
              "#d8576b"
             ],
             [
              0.6666666666666666,
              "#ed7953"
             ],
             [
              0.7777777777777778,
              "#fb9f3a"
             ],
             [
              0.8888888888888888,
              "#fdca26"
             ],
             [
              1,
              "#f0f921"
             ]
            ],
            "type": "histogram2dcontour"
           }
          ],
          "mesh3d": [
           {
            "colorbar": {
             "outlinewidth": 0,
             "ticks": ""
            },
            "type": "mesh3d"
           }
          ],
          "parcoords": [
           {
            "line": {
             "colorbar": {
              "outlinewidth": 0,
              "ticks": ""
             }
            },
            "type": "parcoords"
           }
          ],
          "pie": [
           {
            "automargin": true,
            "type": "pie"
           }
          ],
          "scatter": [
           {
            "fillpattern": {
             "fillmode": "overlay",
             "size": 10,
             "solidity": 0.2
            },
            "type": "scatter"
           }
          ],
          "scatter3d": [
           {
            "line": {
             "colorbar": {
              "outlinewidth": 0,
              "ticks": ""
             }
            },
            "marker": {
             "colorbar": {
              "outlinewidth": 0,
              "ticks": ""
             }
            },
            "type": "scatter3d"
           }
          ],
          "scattercarpet": [
           {
            "marker": {
             "colorbar": {
              "outlinewidth": 0,
              "ticks": ""
             }
            },
            "type": "scattercarpet"
           }
          ],
          "scattergeo": [
           {
            "marker": {
             "colorbar": {
              "outlinewidth": 0,
              "ticks": ""
             }
            },
            "type": "scattergeo"
           }
          ],
          "scattergl": [
           {
            "marker": {
             "colorbar": {
              "outlinewidth": 0,
              "ticks": ""
             }
            },
            "type": "scattergl"
           }
          ],
          "scattermapbox": [
           {
            "marker": {
             "colorbar": {
              "outlinewidth": 0,
              "ticks": ""
             }
            },
            "type": "scattermapbox"
           }
          ],
          "scatterpolar": [
           {
            "marker": {
             "colorbar": {
              "outlinewidth": 0,
              "ticks": ""
             }
            },
            "type": "scatterpolar"
           }
          ],
          "scatterpolargl": [
           {
            "marker": {
             "colorbar": {
              "outlinewidth": 0,
              "ticks": ""
             }
            },
            "type": "scatterpolargl"
           }
          ],
          "scatterternary": [
           {
            "marker": {
             "colorbar": {
              "outlinewidth": 0,
              "ticks": ""
             }
            },
            "type": "scatterternary"
           }
          ],
          "surface": [
           {
            "colorbar": {
             "outlinewidth": 0,
             "ticks": ""
            },
            "colorscale": [
             [
              0,
              "#0d0887"
             ],
             [
              0.1111111111111111,
              "#46039f"
             ],
             [
              0.2222222222222222,
              "#7201a8"
             ],
             [
              0.3333333333333333,
              "#9c179e"
             ],
             [
              0.4444444444444444,
              "#bd3786"
             ],
             [
              0.5555555555555556,
              "#d8576b"
             ],
             [
              0.6666666666666666,
              "#ed7953"
             ],
             [
              0.7777777777777778,
              "#fb9f3a"
             ],
             [
              0.8888888888888888,
              "#fdca26"
             ],
             [
              1,
              "#f0f921"
             ]
            ],
            "type": "surface"
           }
          ],
          "table": [
           {
            "cells": {
             "fill": {
              "color": "#EBF0F8"
             },
             "line": {
              "color": "white"
             }
            },
            "header": {
             "fill": {
              "color": "#C8D4E3"
             },
             "line": {
              "color": "white"
             }
            },
            "type": "table"
           }
          ]
         },
         "layout": {
          "annotationdefaults": {
           "arrowcolor": "#2a3f5f",
           "arrowhead": 0,
           "arrowwidth": 1
          },
          "autotypenumbers": "strict",
          "coloraxis": {
           "colorbar": {
            "outlinewidth": 0,
            "ticks": ""
           }
          },
          "colorscale": {
           "diverging": [
            [
             0,
             "#8e0152"
            ],
            [
             0.1,
             "#c51b7d"
            ],
            [
             0.2,
             "#de77ae"
            ],
            [
             0.3,
             "#f1b6da"
            ],
            [
             0.4,
             "#fde0ef"
            ],
            [
             0.5,
             "#f7f7f7"
            ],
            [
             0.6,
             "#e6f5d0"
            ],
            [
             0.7,
             "#b8e186"
            ],
            [
             0.8,
             "#7fbc41"
            ],
            [
             0.9,
             "#4d9221"
            ],
            [
             1,
             "#276419"
            ]
           ],
           "sequential": [
            [
             0,
             "#0d0887"
            ],
            [
             0.1111111111111111,
             "#46039f"
            ],
            [
             0.2222222222222222,
             "#7201a8"
            ],
            [
             0.3333333333333333,
             "#9c179e"
            ],
            [
             0.4444444444444444,
             "#bd3786"
            ],
            [
             0.5555555555555556,
             "#d8576b"
            ],
            [
             0.6666666666666666,
             "#ed7953"
            ],
            [
             0.7777777777777778,
             "#fb9f3a"
            ],
            [
             0.8888888888888888,
             "#fdca26"
            ],
            [
             1,
             "#f0f921"
            ]
           ],
           "sequentialminus": [
            [
             0,
             "#0d0887"
            ],
            [
             0.1111111111111111,
             "#46039f"
            ],
            [
             0.2222222222222222,
             "#7201a8"
            ],
            [
             0.3333333333333333,
             "#9c179e"
            ],
            [
             0.4444444444444444,
             "#bd3786"
            ],
            [
             0.5555555555555556,
             "#d8576b"
            ],
            [
             0.6666666666666666,
             "#ed7953"
            ],
            [
             0.7777777777777778,
             "#fb9f3a"
            ],
            [
             0.8888888888888888,
             "#fdca26"
            ],
            [
             1,
             "#f0f921"
            ]
           ]
          },
          "colorway": [
           "#636efa",
           "#EF553B",
           "#00cc96",
           "#ab63fa",
           "#FFA15A",
           "#19d3f3",
           "#FF6692",
           "#B6E880",
           "#FF97FF",
           "#FECB52"
          ],
          "font": {
           "color": "#2a3f5f"
          },
          "geo": {
           "bgcolor": "white",
           "lakecolor": "white",
           "landcolor": "#E5ECF6",
           "showlakes": true,
           "showland": true,
           "subunitcolor": "white"
          },
          "hoverlabel": {
           "align": "left"
          },
          "hovermode": "closest",
          "mapbox": {
           "style": "light"
          },
          "paper_bgcolor": "white",
          "plot_bgcolor": "#E5ECF6",
          "polar": {
           "angularaxis": {
            "gridcolor": "white",
            "linecolor": "white",
            "ticks": ""
           },
           "bgcolor": "#E5ECF6",
           "radialaxis": {
            "gridcolor": "white",
            "linecolor": "white",
            "ticks": ""
           }
          },
          "scene": {
           "xaxis": {
            "backgroundcolor": "#E5ECF6",
            "gridcolor": "white",
            "gridwidth": 2,
            "linecolor": "white",
            "showbackground": true,
            "ticks": "",
            "zerolinecolor": "white"
           },
           "yaxis": {
            "backgroundcolor": "#E5ECF6",
            "gridcolor": "white",
            "gridwidth": 2,
            "linecolor": "white",
            "showbackground": true,
            "ticks": "",
            "zerolinecolor": "white"
           },
           "zaxis": {
            "backgroundcolor": "#E5ECF6",
            "gridcolor": "white",
            "gridwidth": 2,
            "linecolor": "white",
            "showbackground": true,
            "ticks": "",
            "zerolinecolor": "white"
           }
          },
          "shapedefaults": {
           "line": {
            "color": "#2a3f5f"
           }
          },
          "ternary": {
           "aaxis": {
            "gridcolor": "white",
            "linecolor": "white",
            "ticks": ""
           },
           "baxis": {
            "gridcolor": "white",
            "linecolor": "white",
            "ticks": ""
           },
           "bgcolor": "#E5ECF6",
           "caxis": {
            "gridcolor": "white",
            "linecolor": "white",
            "ticks": ""
           }
          },
          "title": {
           "x": 0.05
          },
          "xaxis": {
           "automargin": true,
           "gridcolor": "white",
           "linecolor": "white",
           "ticks": "",
           "title": {
            "standoff": 15
           },
           "zerolinecolor": "white",
           "zerolinewidth": 2
          },
          "yaxis": {
           "automargin": true,
           "gridcolor": "white",
           "linecolor": "white",
           "ticks": "",
           "title": {
            "standoff": 15
           },
           "zerolinecolor": "white",
           "zerolinewidth": 2
          }
         }
        },
        "title": {
         "text": "Fertility Rates in China and India (1960-2013)"
        },
        "width": 1100,
        "xaxis": {
         "autorange": true,
         "range": [
          -3.2177868548087636,
          56.217786854808764
         ],
         "title": {
          "text": "Year"
         },
         "type": "category"
        },
        "yaxis": {
         "autorange": true,
         "range": [
          1.1987924502589262,
          6.472207549741073
         ],
         "title": {
          "text": "Fertility Rate"
         },
         "type": "linear"
        }
       }
      },
      "image/png": "[encoded data removed]",
      "text/html": [
       "<div>                            <div id=\"053324a3-799e-4844-b093-ae3edfc058bd\" class=\"plotly-graph-div\" style=\"height:576px; width:1100px;\"></div>            <script type=\"text/javascript\">                require([\"plotly\"], function(Plotly) {                    window.PLOTLYENV=window.PLOTLYENV || {};                                    if (document.getElementById(\"053324a3-799e-4844-b093-ae3edfc058bd\")) {                    Plotly.newPlot(                        \"053324a3-799e-4844-b093-ae3edfc058bd\",                        [{\"line\":{\"color\":\"red\"},\"mode\":\"lines+markers\",\"name\":\"China\",\"x\":[\"1960\",\"1961\",\"1962\",\"1963\",\"1964\",\"1965\",\"1966\",\"1967\",\"1968\",\"1969\",\"1970\",\"1971\",\"1972\",\"1973\",\"1974\",\"1975\",\"1976\",\"1977\",\"1978\",\"1979\",\"1980\",\"1981\",\"1982\",\"1983\",\"1984\",\"1985\",\"1986\",\"1987\",\"1988\",\"1989\",\"1990\",\"1991\",\"1992\",\"1993\",\"1994\",\"1995\",\"1996\",\"1997\",\"1998\",\"1999\",\"2000\",\"2001\",\"2002\",\"2003\",\"2004\",\"2005\",\"2006\",\"2007\",\"2008\",\"2009\",\"2010\",\"2011\",\"2012\",\"2013\"],\"y\":[5.758,5.887,6.008,6.103,6.157,6.161,6.11,6.011,5.871,5.692,5.47,5.2,4.887,4.542,4.181,3.826,3.497,3.212,2.982,2.813,2.71,2.673,2.682,2.72,2.769,2.811,2.826,2.806,2.745,2.644,2.506,2.342,2.171,2.009,1.865,1.746,1.656,1.591,1.546,1.52,1.51,1.514,1.527,1.546,1.566,1.585,1.602,1.617,1.63,1.642,1.65,1.657,1.663,1.668],\"type\":\"scatter\"},{\"line\":{\"color\":\"orange\"},\"mode\":\"lines+markers\",\"name\":\"India\",\"x\":[\"1960\",\"1961\",\"1962\",\"1963\",\"1964\",\"1965\",\"1966\",\"1967\",\"1968\",\"1969\",\"1970\",\"1971\",\"1972\",\"1973\",\"1974\",\"1975\",\"1976\",\"1977\",\"1978\",\"1979\",\"1980\",\"1981\",\"1982\",\"1983\",\"1984\",\"1985\",\"1986\",\"1987\",\"1988\",\"1989\",\"1990\",\"1991\",\"1992\",\"1993\",\"1994\",\"1995\",\"1996\",\"1997\",\"1998\",\"1999\",\"2000\",\"2001\",\"2002\",\"2003\",\"2004\",\"2005\",\"2006\",\"2007\",\"2008\",\"2009\",\"2010\",\"2011\",\"2012\",\"2013\"],\"y\":[5.87,5.856,5.842,5.826,5.807,5.781,5.747,5.701,5.642,5.573,5.494,5.41,5.323,5.238,5.156,5.077,5.0,4.922,4.843,4.762,4.679,4.597,4.515,4.436,4.358,4.281,4.203,4.125,4.044,3.961,3.878,3.793,3.709,3.628,3.549,3.473,3.402,3.334,3.269,3.207,3.145,3.083,3.018,2.952,2.884,2.817,2.753,2.694,2.643,2.6,2.563,2.532,2.505,2.479],\"type\":\"scatter\"}],                        {\"template\":{\"data\":{\"histogram2dcontour\":[{\"type\":\"histogram2dcontour\",\"colorbar\":{\"outlinewidth\":0,\"ticks\":\"\"},\"colorscale\":[[0.0,\"#0d0887\"],[0.1111111111111111,\"#46039f\"],[0.2222222222222222,\"#7201a8\"],[0.3333333333333333,\"#9c179e\"],[0.4444444444444444,\"#bd3786\"],[0.5555555555555556,\"#d8576b\"],[0.6666666666666666,\"#ed7953\"],[0.7777777777777778,\"#fb9f3a\"],[0.8888888888888888,\"#fdca26\"],[1.0,\"#f0f921\"]]}],\"choropleth\":[{\"type\":\"choropleth\",\"colorbar\":{\"outlinewidth\":0,\"ticks\":\"\"}}],\"histogram2d\":[{\"type\":\"histogram2d\",\"colorbar\":{\"outlinewidth\":0,\"ticks\":\"\"},\"colorscale\":[[0.0,\"#0d0887\"],[0.1111111111111111,\"#46039f\"],[0.2222222222222222,\"#7201a8\"],[0.3333333333333333,\"#9c179e\"],[0.4444444444444444,\"#bd3786\"],[0.5555555555555556,\"#d8576b\"],[0.6666666666666666,\"#ed7953\"],[0.7777777777777778,\"#fb9f3a\"],[0.8888888888888888,\"#fdca26\"],[1.0,\"#f0f921\"]]}],\"heatmap\":[{\"type\":\"heatmap\",\"colorbar\":{\"outlinewidth\":0,\"ticks\":\"\"},\"colorscale\":[[0.0,\"#0d0887\"],[0.1111111111111111,\"#46039f\"],[0.2222222222222222,\"#7201a8\"],[0.3333333333333333,\"#9c179e\"],[0.4444444444444444,\"#bd3786\"],[0.5555555555555556,\"#d8576b\"],[0.6666666666666666,\"#ed7953\"],[0.7777777777777778,\"#fb9f3a\"],[0.8888888888888888,\"#fdca26\"],[1.0,\"#f0f921\"]]}],\"heatmapgl\":[{\"type\":\"heatmapgl\",\"colorbar\":{\"outlinewidth\":0,\"ticks\":\"\"},\"colorscale\":[[0.0,\"#0d0887\"],[0.1111111111111111,\"#46039f\"],[0.2222222222222222,\"#7201a8\"],[0.3333333333333333,\"#9c179e\"],[0.4444444444444444,\"#bd3786\"],[0.5555555555555556,\"#d8576b\"],[0.6666666666666666,\"#ed7953\"],[0.7777777777777778,\"#fb9f3a\"],[0.8888888888888888,\"#fdca26\"],[1.0,\"#f0f921\"]]}],\"contourcarpet\":[{\"type\":\"contourcarpet\",\"colorbar\":{\"outlinewidth\":0,\"ticks\":\"\"}}],\"contour\":[{\"type\":\"contour\",\"colorbar\":{\"outlinewidth\":0,\"ticks\":\"\"},\"colorscale\":[[0.0,\"#0d0887\"],[0.1111111111111111,\"#46039f\"],[0.2222222222222222,\"#7201a8\"],[0.3333333333333333,\"#9c179e\"],[0.4444444444444444,\"#bd3786\"],[0.5555555555555556,\"#d8576b\"],[0.6666666666666666,\"#ed7953\"],[0.7777777777777778,\"#fb9f3a\"],[0.8888888888888888,\"#fdca26\"],[1.0,\"#f0f921\"]]}],\"surface\":[{\"type\":\"surface\",\"colorbar\":{\"outlinewidth\":0,\"ticks\":\"\"},\"colorscale\":[[0.0,\"#0d0887\"],[0.1111111111111111,\"#46039f\"],[0.2222222222222222,\"#7201a8\"],[0.3333333333333333,\"#9c179e\"],[0.4444444444444444,\"#bd3786\"],[0.5555555555555556,\"#d8576b\"],[0.6666666666666666,\"#ed7953\"],[0.7777777777777778,\"#fb9f3a\"],[0.8888888888888888,\"#fdca26\"],[1.0,\"#f0f921\"]]}],\"mesh3d\":[{\"type\":\"mesh3d\",\"colorbar\":{\"outlinewidth\":0,\"ticks\":\"\"}}],\"scatter\":[{\"fillpattern\":{\"fillmode\":\"overlay\",\"size\":10,\"solidity\":0.2},\"type\":\"scatter\"}],\"parcoords\":[{\"type\":\"parcoords\",\"line\":{\"colorbar\":{\"outlinewidth\":0,\"ticks\":\"\"}}}],\"scatterpolargl\":[{\"type\":\"scatterpolargl\",\"marker\":{\"colorbar\":{\"outlinewidth\":0,\"ticks\":\"\"}}}],\"bar\":[{\"error_x\":{\"color\":\"#2a3f5f\"},\"error_y\":{\"color\":\"#2a3f5f\"},\"marker\":{\"line\":{\"color\":\"#E5ECF6\",\"width\":0.5},\"pattern\":{\"fillmode\":\"overlay\",\"size\":10,\"solidity\":0.2}},\"type\":\"bar\"}],\"scattergeo\":[{\"type\":\"scattergeo\",\"marker\":{\"colorbar\":{\"outlinewidth\":0,\"ticks\":\"\"}}}],\"scatterpolar\":[{\"type\":\"scatterpolar\",\"marker\":{\"colorbar\":{\"outlinewidth\":0,\"ticks\":\"\"}}}],\"histogram\":[{\"marker\":{\"pattern\":{\"fillmode\":\"overlay\",\"size\":10,\"solidity\":0.2}},\"type\":\"histogram\"}],\"scattergl\":[{\"type\":\"scattergl\",\"marker\":{\"colorbar\":{\"outlinewidth\":0,\"ticks\":\"\"}}}],\"scatter3d\":[{\"type\":\"scatter3d\",\"line\":{\"colorbar\":{\"outlinewidth\":0,\"ticks\":\"\"}},\"marker\":{\"colorbar\":{\"outlinewidth\":0,\"ticks\":\"\"}}}],\"scattermapbox\":[{\"type\":\"scattermapbox\",\"marker\":{\"colorbar\":{\"outlinewidth\":0,\"ticks\":\"\"}}}],\"scatterternary\":[{\"type\":\"scatterternary\",\"marker\":{\"colorbar\":{\"outlinewidth\":0,\"ticks\":\"\"}}}],\"scattercarpet\":[{\"type\":\"scattercarpet\",\"marker\":{\"colorbar\":{\"outlinewidth\":0,\"ticks\":\"\"}}}],\"carpet\":[{\"aaxis\":{\"endlinecolor\":\"#2a3f5f\",\"gridcolor\":\"white\",\"linecolor\":\"white\",\"minorgridcolor\":\"white\",\"startlinecolor\":\"#2a3f5f\"},\"baxis\":{\"endlinecolor\":\"#2a3f5f\",\"gridcolor\":\"white\",\"linecolor\":\"white\",\"minorgridcolor\":\"white\",\"startlinecolor\":\"#2a3f5f\"},\"type\":\"carpet\"}],\"table\":[{\"cells\":{\"fill\":{\"color\":\"#EBF0F8\"},\"line\":{\"color\":\"white\"}},\"header\":{\"fill\":{\"color\":\"#C8D4E3\"},\"line\":{\"color\":\"white\"}},\"type\":\"table\"}],\"barpolar\":[{\"marker\":{\"line\":{\"color\":\"#E5ECF6\",\"width\":0.5},\"pattern\":{\"fillmode\":\"overlay\",\"size\":10,\"solidity\":0.2}},\"type\":\"barpolar\"}],\"pie\":[{\"automargin\":true,\"type\":\"pie\"}]},\"layout\":{\"autotypenumbers\":\"strict\",\"colorway\":[\"#636efa\",\"#EF553B\",\"#00cc96\",\"#ab63fa\",\"#FFA15A\",\"#19d3f3\",\"#FF6692\",\"#B6E880\",\"#FF97FF\",\"#FECB52\"],\"font\":{\"color\":\"#2a3f5f\"},\"hovermode\":\"closest\",\"hoverlabel\":{\"align\":\"left\"},\"paper_bgcolor\":\"white\",\"plot_bgcolor\":\"#E5ECF6\",\"polar\":{\"bgcolor\":\"#E5ECF6\",\"angularaxis\":{\"gridcolor\":\"white\",\"linecolor\":\"white\",\"ticks\":\"\"},\"radialaxis\":{\"gridcolor\":\"white\",\"linecolor\":\"white\",\"ticks\":\"\"}},\"ternary\":{\"bgcolor\":\"#E5ECF6\",\"aaxis\":{\"gridcolor\":\"white\",\"linecolor\":\"white\",\"ticks\":\"\"},\"baxis\":{\"gridcolor\":\"white\",\"linecolor\":\"white\",\"ticks\":\"\"},\"caxis\":{\"gridcolor\":\"white\",\"linecolor\":\"white\",\"ticks\":\"\"}},\"coloraxis\":{\"colorbar\":{\"outlinewidth\":0,\"ticks\":\"\"}},\"colorscale\":{\"sequential\":[[0.0,\"#0d0887\"],[0.1111111111111111,\"#46039f\"],[0.2222222222222222,\"#7201a8\"],[0.3333333333333333,\"#9c179e\"],[0.4444444444444444,\"#bd3786\"],[0.5555555555555556,\"#d8576b\"],[0.6666666666666666,\"#ed7953\"],[0.7777777777777778,\"#fb9f3a\"],[0.8888888888888888,\"#fdca26\"],[1.0,\"#f0f921\"]],\"sequentialminus\":[[0.0,\"#0d0887\"],[0.1111111111111111,\"#46039f\"],[0.2222222222222222,\"#7201a8\"],[0.3333333333333333,\"#9c179e\"],[0.4444444444444444,\"#bd3786\"],[0.5555555555555556,\"#d8576b\"],[0.6666666666666666,\"#ed7953\"],[0.7777777777777778,\"#fb9f3a\"],[0.8888888888888888,\"#fdca26\"],[1.0,\"#f0f921\"]],\"diverging\":[[0,\"#8e0152\"],[0.1,\"#c51b7d\"],[0.2,\"#de77ae\"],[0.3,\"#f1b6da\"],[0.4,\"#fde0ef\"],[0.5,\"#f7f7f7\"],[0.6,\"#e6f5d0\"],[0.7,\"#b8e186\"],[0.8,\"#7fbc41\"],[0.9,\"#4d9221\"],[1,\"#276419\"]]},\"xaxis\":{\"gridcolor\":\"white\",\"linecolor\":\"white\",\"ticks\":\"\",\"title\":{\"standoff\":15},\"zerolinecolor\":\"white\",\"automargin\":true,\"zerolinewidth\":2},\"yaxis\":{\"gridcolor\":\"white\",\"linecolor\":\"white\",\"ticks\":\"\",\"title\":{\"standoff\":15},\"zerolinecolor\":\"white\",\"automargin\":true,\"zerolinewidth\":2},\"scene\":{\"xaxis\":{\"backgroundcolor\":\"#E5ECF6\",\"gridcolor\":\"white\",\"linecolor\":\"white\",\"showbackground\":true,\"ticks\":\"\",\"zerolinecolor\":\"white\",\"gridwidth\":2},\"yaxis\":{\"backgroundcolor\":\"#E5ECF6\",\"gridcolor\":\"white\",\"linecolor\":\"white\",\"showbackground\":true,\"ticks\":\"\",\"zerolinecolor\":\"white\",\"gridwidth\":2},\"zaxis\":{\"backgroundcolor\":\"#E5ECF6\",\"gridcolor\":\"white\",\"linecolor\":\"white\",\"showbackground\":true,\"ticks\":\"\",\"zerolinecolor\":\"white\",\"gridwidth\":2}},\"shapedefaults\":{\"line\":{\"color\":\"#2a3f5f\"}},\"annotationdefaults\":{\"arrowcolor\":\"#2a3f5f\",\"arrowhead\":0,\"arrowwidth\":1},\"geo\":{\"bgcolor\":\"white\",\"landcolor\":\"#E5ECF6\",\"subunitcolor\":\"white\",\"showland\":true,\"showlakes\":true,\"lakecolor\":\"white\"},\"title\":{\"x\":0.05},\"mapbox\":{\"style\":\"light\"}}},\"margin\":{\"l\":80,\"r\":80,\"t\":80,\"b\":80},\"title\":{\"text\":\"Fertility Rates in China and India (1960-2013)\"},\"xaxis\":{\"title\":{\"text\":\"Year\"}},\"yaxis\":{\"title\":{\"text\":\"Fertility Rate\"}},\"legend\":{\"title\":{\"text\":\"Country\"}},\"width\":1100,\"height\":576},                        {\"responsive\": true}                    ).then(function(){\n",
       "                            \n",
       "var gd = document.getElementById('053324a3-799e-4844-b093-ae3edfc058bd');\n",
       "var x = new MutationObserver(function (mutations, observer) {{\n",
       "        var display = window.getComputedStyle(gd).display;\n",
       "        if (!display || display === 'none') {{\n",
       "            console.log([gd, 'removed!']);\n",
       "            Plotly.purge(gd);\n",
       "            observer.disconnect();\n",
       "        }}\n",
       "}});\n",
       "\n",
       "// Listen for the removal of the full notebook cells\n",
       "var notebookContainer = gd.closest('#notebook-container');\n",
       "if (notebookContainer) {{\n",
       "    x.observe(notebookContainer, {childList: true});\n",
       "}}\n",
       "\n",
       "// Listen for the clearing of the current output cell\n",
       "var outputEl = gd.closest('.output');\n",
       "if (outputEl) {{\n",
       "    x.observe(outputEl, {childList: true});\n",
       "}}\n",
       "\n",
       "                        })                };                });            </script>        </div>"
      ]
     },
     "metadata": {},
     "output_type": "display_data"
    }
   ],
   "source": [
    "# Extract data for China and India\n",
    "china_data = df.loc['China'].dropna()\n",
    "india_data = df.loc['India'].dropna()\n",
    "\n",
    "fig = go.Figure()\n",
    "\n",
    "fig.add_trace(go.Scatter(x=china_data.index, y=china_data.values, mode='lines+markers', name='China', line=dict(color='red')))\n",
    "fig.add_trace(go.Scatter(x=india_data.index, y=india_data.values, mode='lines+markers', name='India', line=dict(color='orange')))\n",
    "\n",
    "# Update layout with specified dimensions\n",
    "fig.update_layout(\n",
    "    title='Fertility Rates in China and India (1960-2013)',\n",
    "    xaxis_title='Year',\n",
    "    yaxis_title='Fertility Rate',\n",
    "    legend_title='Country',\n",
    "    width=1100,  # Width in pixels (30 inches * 96 DPI)\n",
    "    height=576,  # Height in pixels (6 inches * 96 DPI)\n",
    "    margin=dict(l=80, r=80, t=80, b=80)  # Adjust margins to fit the larger size\n",
    ")\n",
    "\n",
    "# Show plot\n",
    "fig.show()"
   ]
  },
  {
   "cell_type": "markdown",
   "id": "7da82337-8476-4ee3-a71e-f9d9c52fb35d",
   "metadata": {},
   "source": [
    "Over the past several decades, from 1960 to 2013, the fertility rates in China and India have exhibited distinct patterns reflective of their unique socio-economic and policy environments. In China, the fertility rate has shown a dramatic decline, particularly due to the One-Child Policy introduced in 1979. This policy aimed to control the rapidly growing population by restricting most urban couples to having only one child, with some exceptions for rural families and ethnic minorities. The policy significantly reduced birth rates, resulting in one of the lowest fertility rates in the world by the early 21st century. However, it also led to long-term demographic challenges, such as a skewed gender ratio and an aging population. In contrast, India’s fertility rate, while also declining, has done so at a more gradual pace throughout this period. India’s approach to population control has been less restrictive, focusing on voluntary family planning and education rather than enforcement. As a result, India’s fertility rate remains higher than China’s but has been steadily decreasing due to improved healthcare and increased awareness. "
   ]
  },
  {
   "cell_type": "markdown",
   "id": "cda12022-8c96-47ec-afb4-fdccd770bdff",
   "metadata": {},
   "source": [
    "# Conclusion\n",
    "\n",
    "Our dataset, which tracks global fertility rates from 1960 to 2013, provides insights into the evolving demographic dynamics across various countries over more than five decades.\n",
    "\n",
    "Rwanda, Yemen, Afghanistan, and Niger each reflect unique periods of high birth rates influenced by factors such as limited access to healthcare and population policies. These countries faced significant challenges due to high fertility rates, which were often driven by insufficient family planning resources and differing economic conditions.\n",
    "\n",
    "The data reveals a substantial decline in fertility rates from 1960 to 2013. Initially, European countries like Latvia and Germany had the lowest birth rates, with a noticeable drop attributed to increased living costs and changing societal norms. By the late 20th century, East Asian regions such as Hong Kong and Macao experienced even lower rates, driven by urbanization and high living expenses. This global shift towards lower fertility rates underscores the impact of economic development and evolving family norms.\n",
    "\n",
    "Globally, the trend from 1960 to 2013 shows a significant reduction in fertility rates, from over 5.5 to under 3 children per woman. This decline reflects transformative changes, including better healthcare access, expanded educational opportunities for women, and shifting cultural attitudes towards smaller families. These factors highlight the progress made in managing population growth and improving quality of life.\n",
    "\n",
    "The analysis shows that Libya, Costa Rica, and Mongolia experienced the most significant reductions in fertility rates, with decreases around 5.5, 5.3, and 5.2 births per woman, respectively. In contrast, Bermuda, Liechtenstein, and Mali exhibited minimal changes, with differences of approximately 0.2, 0.3, and 0.3 births per woman, indicating relatively stable fertility rates. This variation highlights the diverse pace of demographic changes across different regions.\n",
    "\n",
    "Regional differences are also evident between the Middle East and Central Europe from 1960 to 2013. Middle Eastern countries show higher and more variable fertility rates due to cultural norms that favor larger families and differing levels of economic development. In contrast, Central European countries have lower and more stable fertility rates, influenced by increased living costs and shifting societal expectations towards smaller family sizes.\n",
    "\n",
    "Comparing the world’s two most populous countries, China and India, reveals a divergence in fertility trends over this period. China, influenced by its One-Child Policy, faces challenges related to an aging population and potential labor shortages, while India benefits from a youthful demographic and a growing labor force. These trends highlight the broader demographic shifts and policy impacts in the two countries."
   ]
  },
  {
   "cell_type": "code",
   "execution_count": null,
   "id": "a7637b08-2b4b-409b-b1af-80f005ab8e4e",
   "metadata": {},
   "outputs": [],
   "source": []
  }
 ],
 "metadata": {
  "kernelspec": {
   "display_name": "anaconda-2024.02-py310",
   "language": "python",
   "name": "conda-env-anaconda-2024.02-py310-py"
  },
  "language_info": {
   "codemirror_mode": {
    "name": "ipython",
    "version": 3
   },
   "file_extension": ".py",
   "mimetype": "text/x-python",
   "name": "python",
   "nbconvert_exporter": "python",
   "pygments_lexer": "ipython3",
   "version": "3.10.14"
  }
 },
 "nbformat": 4,
 "nbformat_minor": 5
}
